{
  "nbformat": 4,
  "nbformat_minor": 0,
  "metadata": {
    "colab": {
      "provenance": []
    },
    "kernelspec": {
      "name": "python3",
      "display_name": "Python 3"
    },
    "language_info": {
      "name": "python"
    }
  },
  "cells": [
    {
      "cell_type": "code",
      "execution_count": null,
      "metadata": {
        "id": "3RNAVuqdq3ei"
      },
      "outputs": [],
      "source": []
    },
    {
      "cell_type": "markdown",
      "source": [
        "Introduction\n",
        "An algorithm is a set of steps, like a recipe, that can be taken to solve a problem.\n",
        "A problem can be anything that you are hoping to achieve. An algorithm is a very helpful step for\n",
        "creating a program.\n",
        "\n",
        "problem -> algorithm (pseudocode) -> program (in some programming\n",
        "\t\t\tlanguage that can be translated into machine instructions)\n",
        "a problem describes what you're trying to achieve, an algorithm describes the\n",
        "step by step process of how you're going to do it and the program is an\n",
        "implementation of an algorithm - something that can be run on a computer.\n",
        "\n",
        "What is algorithmic thinking?\n",
        "\n",
        "Algorithmic thinking is a problem solving technique where the focus is on the logical set of steps needed\n",
        "to complete a task. It is closely related to computational thinking and the terms are often used interchangably. I recommend looking up both. The concepts of abstraction, decomposition and pattern recognition are often included under the umbrella of algorithmic or computational thinking.\n",
        "\n",
        "Thinking in terms of algorithms is of particular use when programming as computer code is also structured as a sequence of instructions.\n",
        "It is also useful in real life situations where things need to occur in order. Think of an assembly line in a factory. Another classic example is making a cup of tea.\n",
        "\n",
        "Abstraction - separating and focusing on the information that you need and putting aside the info that you don't.\n",
        "\n",
        "In our tea making example: most people who drink tea know how to make it, so you can abstract the process of tea making to one step. If I'm getting ready in the morning and tea is a part of my routine it could go get up, brush teeth, get dressed, make tea, go to work. The important point here is that we're ignoring the details of how each of these steps are acheived.\n",
        "This is a very important concept in computer science as it allows us to use tools where we know what they do, but we don't need to know exactly how. You probably already take for granted the fact that you don't know exactly how your computers operating system works, but you use its functionality all the time.\n",
        "\n",
        "Decomposition - breaking a problem down into smaller, more manageable parts\n",
        "\n",
        "This is essentially the opposite to the above method of abstraction. While it's helpful to ignore unecessary details when using a tool, if you are building a tool you have to deal with the details. Understanding how to acheive a complex task can be achieved by understanding the smaller tasks that make it up, designing/building them and then putting it all together.\n",
        "\n",
        "Pattern Recognition - seeing the similarities between problems and between parts of problems\n",
        "\n",
        "\n",
        "\n",
        "\n",
        "Searching:\n",
        "If I have a large shelf of books and they're not in any particular order, how would I find the book I'm looking for?\n",
        "A: You could start looking at random books on the shelf and hope for the best. This is sometimes reasonable, but you could be there a long time and it's not very structured. The most obvious solution is to start at one end and check each book in turn, this has the advantage that you know what you've checked and not checked.\n",
        "\n",
        "What would make it easier to find the book you're looking for?\n",
        "A: I'm sure most people would agree that it's easier to find anything when those things are sorted in some particular order. And usually books are sorted alphabetically either by their title or by their author.\n",
        "\n",
        "Binary search:\n",
        "A particularly fast way to find an item in a sorted list (or a book on a sorted shelf) is to look at the item in the middle and check to see if it should come before or after the item you are looking for.\n",
        "If your book of interest has a title beginning with M and when you look at the middle book you find it begins with a T, you know that your book will appear in the beginning half of the shelf and you can ignore the latter half.\n",
        "Can you think of what the best case is for this search?\n",
        "A: if the item is in the middle and the number of items is odd, the search will be successful in one attempt.\n",
        "\n",
        "How many steps will it take to search a sorted list of 100 items?\n",
        "A: The maximum required number of steps is log2(100), which is about 6.6 and rounds up to 7.\n",
        "\n",
        "Sorting\n",
        "with some inspiration as to why we might want a sorted list, the question is how to go about it.\n",
        "\n",
        "Bubble sort\n",
        "This is a classic teaching example of a sorting algorithm. The benefit of bubble sort is that it is conceptually simple and can be easily demonstrated in real life.\n",
        "\n",
        "?? \taside on how to swap items - need to store one aside before swapping to avoid losing it"
      ],
      "metadata": {
        "id": "V_4-m2yrq9BS"
      }
    }
  ]
}