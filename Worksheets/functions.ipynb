{
 "cells": [
  {
   "cell_type": "code",
   "execution_count": null,
   "metadata": {},
   "outputs": [],
   "source": [
    "%pip install rich\n",
    "%pip install ipywidgets"
   ]
  },
  {
   "cell_type": "markdown",
   "metadata": {},
   "source": [
    "# Introduction to Functions\n",
    "Functions are blocks of code that perform a specific task. They help to break our program into smaller, manageable parts. We can reuse functions whenever we need to perform the same task multiple times, which helps to keep our code DRY (Don't Repeat Yourself)."
   ]
  },
  {
   "cell_type": "markdown",
   "metadata": {},
   "source": [
    "## Defining a Function\n",
    "To define a function in Python, we use the def keyword followed by the function name and parentheses ():\n",
    "\n",
    "```\n",
    "def function_name():\n",
    "    # Function code goes here\n",
    "```"
   ]
  },
  {
   "cell_type": "markdown",
   "metadata": {},
   "source": [
    "Here's a simple function that prints \"Hello, World!\":"
   ]
  },
  {
   "cell_type": "code",
   "execution_count": null,
   "metadata": {},
   "outputs": [],
   "source": [
    "def greet():\n",
    "    print(\"Hello, World!\")"
   ]
  },
  {
   "cell_type": "markdown",
   "metadata": {},
   "source": [
    "To call this function in your code, use its name, followed by perentheses:"
   ]
  },
  {
   "cell_type": "code",
   "execution_count": null,
   "metadata": {},
   "outputs": [],
   "source": [
    "greet()"
   ]
  },
  {
   "cell_type": "markdown",
   "metadata": {},
   "source": [
    "### Exercise 1\n",
    "\n",
    "Define a function called `good_weather` which prints \"The weather is sunny!\""
   ]
  },
  {
   "cell_type": "code",
   "execution_count": null,
   "metadata": {},
   "outputs": [],
   "source": [
    "# Your code here"
   ]
  },
  {
   "cell_type": "markdown",
   "metadata": {},
   "source": [
    "#### Answer\n",
    "Run the following cell to check your answer"
   ]
  },
  {
   "cell_type": "code",
   "execution_count": null,
   "metadata": {},
   "outputs": [],
   "source": [
    "import inspect\n",
    "import re\n",
    "from rich.progress import Progress\n",
    "from rich import print\n",
    "from rich.panel import Panel\n",
    "\n",
    "def success_panel(msg: str, title: str) -> None:\n",
    "    print(Panel(msg, title=title, border_style=\"green\"))\n",
    "\n",
    "def problem_panel(msg: str, title: str) -> None:\n",
    "    print(Panel(msg, title=title, border_style=\"red\"))\n",
    "\n",
    "def check_function_code(function_code, expected_code):\n",
    "    # Create a regex pattern to match the expected function code allowing flexible spacing and case insensitivity\n",
    "    pattern = re.sub(r'\\s+', r'\\\\s*', re.escape(expected_code.strip()))\n",
    "    match = re.fullmatch(pattern, function_code.strip(), re.VERBOSE | re.DOTALL | re.IGNORECASE)\n",
    "    return bool(match)\n",
    "\n",
    "# Expected function code with case insensitive and flexible spacing\n",
    "expected_code = \"\"\"def good_weather():\n",
    "    print(\"The weather is sunny!\")\"\"\"\n",
    "\n",
    "# Get the function source code\n",
    "function_code = inspect.getsource(good_weather)\n",
    "\n",
    "# Check if the function code matches the expected code\n",
    "is_correct_function_code = check_function_code(function_code, expected_code)\n",
    "\n",
    "# Expected answer\n",
    "data = {\n",
    "    \"is_correct\": True  # We expect the check to return True\n",
    "}\n",
    "\n",
    "# Check the result and provide feedback\n",
    "globals()[\"is_correct\"] = is_correct_function_code\n",
    "\n",
    "with Progress() as progress:\n",
    "    assert_task = progress.add_task(\"[green]Checking solution...\", total=len(data.keys()))\n",
    "    failed = 0\n",
    "    for key in data.keys():\n",
    "        value = data[key]\n",
    "        try:\n",
    "            assert globals()[key] == value\n",
    "            success_panel(f\"Congratulations! \\\"{key}\\\" is equal to the expected value of {value}\", title=\"Data verified\")\n",
    "        except KeyError as e:\n",
    "            failed += 1\n",
    "            problem_panel(f\"\\\"{key}\\\" isn't defined...\", \"Undefined variable\")\n",
    "        except AssertionError as e:\n",
    "            failed += 1\n",
    "            problem_panel(f\"\\\"{key}\\\" isn't what we were expecting...\", \"Data error\")\n",
    "        progress.update(assert_task, advance=1)\n",
    "    \n",
    "    if failed > 0:\n",
    "        problem_panel(f\"Oops! {failed} of {len(data.keys())} things aren't quite right\\nDouble check your logic, make some changes, and re-run!\", \"\")\n",
    "    else:\n",
    "        success_panel(\"Congratulations! Everything seems all good :) Feel free to move onto the next exercise!\", \"Exercise complete!\")\n"
   ]
  },
  {
   "cell_type": "markdown",
   "metadata": {},
   "source": [
    "## Parameters and Arguments\n",
    "\n",
    "Functions can take parameters, which allow us to pass data into them. Parameters are included in the perentheses of the function definition with a descriptive placeholder name (which in this case happens to be \"name\"): "
   ]
  },
  {
   "cell_type": "code",
   "execution_count": null,
   "metadata": {},
   "outputs": [],
   "source": [
    "def greet(name):\n",
    "    print(f\"Hello, {name}!\")"
   ]
  },
  {
   "cell_type": "markdown",
   "metadata": {},
   "source": [
    "Now, we can pass an argument when calling the function:"
   ]
  },
  {
   "cell_type": "code",
   "execution_count": null,
   "metadata": {},
   "outputs": [],
   "source": [
    "greet(\"Grace\")"
   ]
  },
  {
   "cell_type": "markdown",
   "metadata": {},
   "source": [
    "You can also set default values for parameters by defining a value after the placeholder name:"
   ]
  },
  {
   "cell_type": "code",
   "execution_count": null,
   "metadata": {},
   "outputs": [],
   "source": [
    "def greet(name=\"World\"):\n",
    "    print(f\"Hello, {name}!\")"
   ]
  },
  {
   "cell_type": "markdown",
   "metadata": {},
   "source": [
    "Calling greet() without any arguments will use the default value:"
   ]
  },
  {
   "cell_type": "code",
   "execution_count": null,
   "metadata": {},
   "outputs": [],
   "source": [
    "# With parameter:\n",
    "greet(\"Joseph\")\n",
    "\n",
    "# Without parameter, using default\n",
    "greet()"
   ]
  },
  {
   "cell_type": "markdown",
   "metadata": {},
   "source": [
    "### Exercise 2\n",
    "Define a function called `print_double` which takes a variable `num`, a number, and prints that number multiplied by 2, e.g. 10 doubled is 20, 13 doubled is 26"
   ]
  },
  {
   "cell_type": "code",
   "execution_count": null,
   "metadata": {},
   "outputs": [],
   "source": [
    "# Your code here"
   ]
  },
  {
   "cell_type": "markdown",
   "metadata": {},
   "source": [
    "#### Answer\n",
    "Run the following cell to check your answer"
   ]
  },
  {
   "cell_type": "code",
   "execution_count": null,
   "metadata": {},
   "outputs": [],
   "source": [
    "import inspect\n",
    "import re\n",
    "\n",
    "def check_function_code_ex_2(function_code):\n",
    "    pattern = r\"\"\"\n",
    "    ^\\s*def\\s+print_double\\s*\\(\\s*num\\s*\\)\\s*:\\s*       # function definition\n",
    "    (?:\\n\\s*)*                                          # optional new lines and spaces\n",
    "    (?:\n",
    "        \\s*(\\w+)\\s*=\\s*num\\s*\\*\\s*2\\s*\\n\\s*             # optional intermediate variable assignment\n",
    "        \\s*print\\s*\\(\\s*\\1\\s*\\)\\s*                      # print the intermediate variable\n",
    "    |\n",
    "        \\s*print\\s*\\(\\s*num\\s*\\*\\s*2\\s*\\)\\s*            # direct print\n",
    "    )\n",
    "    \"\"\"\n",
    "\n",
    "    match = re.fullmatch(pattern, function_code, re.VERBOSE | re.MULTILINE)\n",
    "    return bool(match)\n",
    "\n",
    "function_code = inspect.getsource(print_double)\n",
    "\n",
    "is_correct = check_function_code_ex_2(function_code)\n",
    "\n",
    "# Expected answer\n",
    "data = {\n",
    "    \"is_correct\": True\n",
    "}\n",
    "\n",
    "from rich.progress import Progress\n",
    "from rich import print\n",
    "from rich.panel import Panel\n",
    "\n",
    "def success_panel(msg: str, title: str) -> None:\n",
    "    print(Panel(msg, title=title, border_style=\"green\"))\n",
    "\n",
    "def problem_panel(msg: str, title: str) -> None:\n",
    "    print(Panel(msg, title=title, border_style=\"red\"))\n",
    "\n",
    "with Progress() as progress:\n",
    "    assert_task = progress.add_task(\"[green]Checking solution...\", total=len(data.keys()))\n",
    "    failed = 0\n",
    "    for key in data.keys():\n",
    "        value = data[key]\n",
    "        try:\n",
    "            assert globals()[key] == value\n",
    "            success_panel(f\"Congratulations! \\\"{key}\\\" is equal to the expected value of {value}\", title=\"Data verified\")\n",
    "        except KeyError as e:\n",
    "            failed += 1\n",
    "            problem_panel(f\"\\\"{key}\\\" isn't defined...\", \"Undefined variable\")\n",
    "        except AssertionError as e:\n",
    "            failed += 1\n",
    "            problem_panel(f\"\\\"{key}\\\" isn't what we were expecting...\", \"Data error\")\n",
    "        progress.update(assert_task, advance=1)\n",
    "    \n",
    "    if failed > 0:\n",
    "        problem_panel(f\"Oops! {failed} of {len(data.keys())} things aren't quite right\\nDouble check your logic, make some changes, and re-run!\", \"\")\n",
    "    else:\n",
    "        success_panel(\"Congratulations! Everything seems all good :) Feel free to move onto the next exercise!\", \"Exercise complete!\")\n"
   ]
  },
  {
   "cell_type": "markdown",
   "metadata": {},
   "source": [
    "## Return Values\n",
    "Functions can return values using the return statement:"
   ]
  },
  {
   "cell_type": "code",
   "execution_count": null,
   "metadata": {},
   "outputs": [],
   "source": [
    "def add(a, b):\n",
    "    return a + b"
   ]
  },
  {
   "cell_type": "markdown",
   "metadata": {},
   "source": [
    "You can store the returned value in a variable:"
   ]
  },
  {
   "cell_type": "code",
   "execution_count": null,
   "metadata": {},
   "outputs": [],
   "source": [
    "result = add(3, 4)\n",
    "print(result)  # Output: 7"
   ]
  },
  {
   "cell_type": "markdown",
   "metadata": {},
   "source": [
    "### Exercise 3\n",
    "Define a function called `calculate_area` that takes two parameters: `length` and `width`. The function should calculate the area of a rectangle and return the result."
   ]
  },
  {
   "cell_type": "code",
   "execution_count": null,
   "metadata": {},
   "outputs": [],
   "source": [
    "# Your code here"
   ]
  },
  {
   "cell_type": "markdown",
   "metadata": {},
   "source": [
    "#### Answer\n",
    "Run the following cell to check your answer"
   ]
  },
  {
   "cell_type": "code",
   "execution_count": null,
   "metadata": {},
   "outputs": [],
   "source": [
    "import inspect\n",
    "import re\n",
    "\n",
    "def check_function_code_ex_3(function_code):\n",
    "    pattern = r\"\"\"\n",
    "    ^\\s*def\\s+calculate_area\\s*\\(\\s*length\\s*,\\s*width\\s*\\)\\s*:\\s*       # function definition\n",
    "    (?:\\n\\s*)*                                                            # optional new lines and spaces\n",
    "    \\s*area\\s*=\\s*length\\s*\\*\\s*width\\s*\\n\\s*                            # calculate area\n",
    "    \\s*return\\s*area\\s*                                                   # return area\n",
    "    \"\"\"\n",
    "\n",
    "    match = re.fullmatch(pattern, function_code, re.VERBOSE | re.MULTILINE)\n",
    "    return bool(match)\n",
    "\n",
    "# Get the source code of the function\n",
    "function_code = inspect.getsource(calculate_area)\n",
    "\n",
    "# Check if the function code matches the expected pattern\n",
    "is_correct = check_function_code_ex_3(function_code)\n",
    "\n",
    "# Expected answer\n",
    "data = {\n",
    "    \"is_correct\": True\n",
    "}\n",
    "\n",
    "from rich.progress import Progress\n",
    "from rich import print\n",
    "from rich.panel import Panel\n",
    "\n",
    "def success_panel(msg: str, title: str) -> None:\n",
    "    print(Panel(msg, title=title, border_style=\"green\"))\n",
    "\n",
    "def problem_panel(msg: str, title: str) -> None:\n",
    "    print(Panel(msg, title=title, border_style=\"red\"))\n",
    "\n",
    "with Progress() as progress:\n",
    "    assert_task = progress.add_task(\"[green]Checking solution...\", total=len(data.keys()))\n",
    "    failed = 0\n",
    "    for key in data.keys():\n",
    "        value = data[key]\n",
    "        try:\n",
    "            assert globals()[key] == value\n",
    "            success_panel(f\"Congratulations! \\\"{key}\\\" is equal to the expected value of {value}\", title=\"Data verified\")\n",
    "        except KeyError as e:\n",
    "            failed += 1\n",
    "            problem_panel(f\"\\\"{key}\\\" isn't defined...\", \"Undefined variable\")\n",
    "        except AssertionError as e:\n",
    "            failed += 1\n",
    "            problem_panel(f\"\\\"{key}\\\" isn't what we were expecting...\", \"Data error\")\n",
    "        progress.update(assert_task, advance=1)\n",
    "    \n",
    "    if failed > 0:\n",
    "        problem_panel(f\"Oops! {failed} of {len(data.keys())} things aren't quite right\\nDouble check your logic, make some changes, and re-run!\", \"\")\n",
    "    else:\n",
    "        success_panel(\"Congratulations! Everything seems all good :) Feel free to move onto the next exercise!\", \"Exercise complete!\")\n"
   ]
  },
  {
   "cell_type": "markdown",
   "metadata": {},
   "source": [
    "## Functions calling Functions\n",
    "\n",
    "In Python, functions can call other functions. This means that within the body of one function, you can invoke another function to perform a specific task. This technique promotes code reusability and modularity, as you can break down complex tasks into smaller, more manageable functions.\n",
    "\n",
    "Calling other functions within a function can help improve the readability and maintainability of your code by separating concerns and promoting a modular design. It also allows you to easily update or modify individual components without affecting the rest of the codebase."
   ]
  },
  {
   "cell_type": "markdown",
   "metadata": {},
   "source": [
    "### Exercise 4\n",
    "Define a function called `calculate_perimeter` that takes two parameters: `length` and `width`. Also, define a second function called `calculate_side` that takes one parameter `side`. `calculate_side` should return `side * 2`.\n",
    "\n",
    "In `calculate_perimeter`, use `calculate_side` to calculate the perimeter of the rectangle using the formula `perimeter = 2 * (calculate_side(length) + calculate_side(width))`. Return the calculated perimeter."
   ]
  },
  {
   "cell_type": "code",
   "execution_count": null,
   "metadata": {},
   "outputs": [],
   "source": [
    "# Your code here"
   ]
  },
  {
   "cell_type": "markdown",
   "metadata": {},
   "source": [
    "#### Answer\n",
    "Run the following cell to check your answer"
   ]
  },
  {
   "cell_type": "code",
   "execution_count": null,
   "metadata": {},
   "outputs": [],
   "source": [
    "import inspect\n",
    "import re\n",
    "\n",
    "def check_function_code_ex_4(function_code):\n",
    "    pattern = r\"\"\"\n",
    "    ^\\s*def\\s+calculate_perimeter\\s*\\(\\s*length\\s*,\\s*width\\s*\\)\\s*:\\s*       # function definition\n",
    "    (?:\\n\\s*)*                                                                  # optional new lines and spaces\n",
    "    \\s*def\\s+calculate_side\\s*\\(\\s*side\\s*\\)\\s*:\\s*                             # inner function definition\n",
    "    (?:\\n\\s*)*                                                                  # optional new lines and spaces\n",
    "    \\s*return\\s*side\\s*\\*\\s*2\\s*                                               # return statement for calculate_side\n",
    "    (?:\\n\\s*)*                                                                  # optional new lines and spaces\n",
    "    \\s*perimeter\\s*=\\s*2\\s*\\*\\s*\\(\\s*calculate_side\\s*\\(\\s*length\\s*\\)\\s*+\\s*calculate_side\\s*\\(\\s*width\\s*\\)\\s*\\)\\s*  # calculate perimeter\n",
    "    (?:\\n\\s*)*                                                                  # optional new lines and spaces\n",
    "    \\s*return\\s*perimeter\\s*                                                   # return perimeter\n",
    "    \"\"\"\n",
    "\n",
    "    match = re.fullmatch(pattern, function_code, re.VERBOSE | re.MULTILINE)\n",
    "    return bool(match)\n",
    "\n",
    "# Get the source code of the function\n",
    "function_code = inspect.getsource(calculate_perimeter)\n",
    "\n",
    "# Check if the function code matches the expected pattern\n",
    "is_correct = check_function_code_ex_4(function_code)\n",
    "\n",
    "# Expected answer\n",
    "data = {\n",
    "    \"is_correct\": True\n",
    "}\n",
    "\n",
    "from rich.progress import Progress\n",
    "from rich import print\n",
    "from rich.panel import Panel\n",
    "\n",
    "def success_panel(msg: str, title: str) -> None:\n",
    "    print(Panel(msg, title=title, border_style=\"green\"))\n",
    "\n",
    "def problem_panel(msg: str, title: str) -> None:\n",
    "    print(Panel(msg, title=title, border_style=\"red\"))\n",
    "\n",
    "with Progress() as progress:\n",
    "    assert_task = progress.add_task(\"[green]Checking solution...\", total=len(data.keys()))\n",
    "    failed = 0\n",
    "    for key in data.keys():\n",
    "        value = data[key]\n",
    "        try:\n",
    "            assert globals()[key] == value\n",
    "            success_panel(f\"Congratulations! \\\"{key}\\\" is equal to the expected value of {value}\", title=\"Data verified\")\n",
    "        except KeyError as e:\n",
    "            failed += 1\n",
    "            problem_panel(f\"\\\"{key}\\\" isn't defined...\", \"Undefined variable\")\n",
    "        except AssertionError as e:\n",
    "            failed += 1\n",
    "            problem_panel(f\"\\\"{key}\\\" isn't what we were expecting...\", \"Data error\")\n",
    "        progress.update(assert_task, advance=1)\n",
    "    \n",
    "    if failed > 0:\n",
    "        problem_panel(f\"Oops! {failed} of {len(data.keys())} things aren't quite right\\nDouble check your logic, make some changes, and re-run!\", \"\")\n",
    "    else:\n",
    "        success_panel(\"Congratulations! Everything seems all good :) Feel free to move onto the next exercise!\", \"Exercise complete!\")\n"
   ]
  },
  {
   "cell_type": "markdown",
   "metadata": {},
   "source": [
    "## Extension: Recursive Functions\n",
    "Recursive functions are functions that call themselves within their own definition. This technique is known as recursion.\n",
    "\n",
    "A recursive function typically consists of two parts: the base case and the recursive case. The base case defines the termination condition for the recursion, preventing infinite recursion. The recursive case defines how the function calls itself with modified parameters to solve smaller instances of the same problem."
   ]
  },
  {
   "cell_type": "markdown",
   "metadata": {},
   "source": [
    "### Extension Exercise\n",
    "Now, let's delve into recursive functions. Define a function called `factorial` that takes one parameter, `n`, an integer. The function should calculate the factorial of `n` using recursion and return the result."
   ]
  },
  {
   "cell_type": "code",
   "execution_count": null,
   "metadata": {},
   "outputs": [],
   "source": [
    "# Your code here"
   ]
  },
  {
   "cell_type": "code",
   "execution_count": null,
   "metadata": {},
   "outputs": [],
   "source": [
    "import inspect\n",
    "import re\n",
    "\n",
    "def check_function_code_ex_5(function_code):\n",
    "    pattern = r\"\"\"\n",
    "    ^\\s*def\\s+factorial\\s*\\(\\s*n\\s*\\)\\s*:\\s*        # function definition\n",
    "    (?:\\n\\s*)*                                      # optional new lines and spaces\n",
    "    \\s*if\\s*n\\s*==\\s*0\\s*:\\s*                        # base case: if n == 0\n",
    "    (?:\\n\\s*)*                                      # optional new lines and spaces\n",
    "    \\s*return\\s*1\\s*                                # return 1 for base case\n",
    "    (?:\\n\\s*)*                                      # optional new lines and spaces\n",
    "    \\s*else:\\s*                                      # recursive case\n",
    "    (?:\\n\\s*)*                                      # optional new lines and spaces\n",
    "    \\s*return\\s*n\\s*\\*\\s*factorial\\s*\\(\\s*n\\s*-\\s*1\\s*\\)\\s*  # return n * factorial(n-1)\n",
    "    \"\"\"\n",
    "\n",
    "    match = re.fullmatch(pattern, function_code, re.VERBOSE | re.MULTILINE)\n",
    "    return bool(match)\n",
    "\n",
    "# Get the source code of the function\n",
    "function_code = inspect.getsource(factorial)\n",
    "\n",
    "# Check if the function code matches the expected pattern\n",
    "is_correct = check_function_code_ex_5(function_code)\n",
    "\n",
    "# Expected answer\n",
    "data = {\n",
    "    \"is_correct\": True\n",
    "}\n",
    "\n",
    "from rich.progress import Progress\n",
    "from rich import print\n",
    "from rich.panel import Panel\n",
    "\n",
    "def success_panel(msg: str, title: str) -> None:\n",
    "    print(Panel(msg, title=title, border_style=\"green\"))\n",
    "\n",
    "def problem_panel(msg: str, title: str) -> None:\n",
    "    print(Panel(msg, title=title, border_style=\"red\"))\n",
    "\n",
    "with Progress() as progress:\n",
    "    assert_task = progress.add_task(\"[green]Checking solution...\", total=len(data.keys()))\n",
    "    failed = 0\n",
    "    for key in data.keys():\n",
    "        value = data[key]\n",
    "        try:\n",
    "            assert globals()[key] == value\n",
    "            success_panel(f\"Congratulations! \\\"{key}\\\" is equal to the expected value of {value}\", title=\"Data verified\")\n",
    "        except KeyError as e:\n",
    "            failed += 1\n",
    "            problem_panel(f\"\\\"{key}\\\" isn't defined...\", \"Undefined variable\")\n",
    "        except AssertionError as e:\n",
    "            failed += 1\n",
    "            problem_panel(f\"\\\"{key}\\\" isn't what we were expecting...\", \"Data error\")\n",
    "        progress.update(assert_task, advance=1)\n",
    "    \n",
    "    if failed > 0:\n",
    "        problem_panel(f\"Oops! {failed} of {len(data.keys())} things aren't quite right\\nDouble check your logic, make some changes, and re-run!\", \"\")\n",
    "    else:\n",
    "        success_panel(\"Congratulations! Everything seems all good :) Feel free to move onto the next exercise!\", \"Exercise complete!\")\n"
   ]
  }
 ],
 "metadata": {
  "kernelspec": {
   "display_name": "Python 3",
   "language": "python",
   "name": "python3"
  },
  "language_info": {
   "codemirror_mode": {
    "name": "ipython",
    "version": 3
   },
   "file_extension": ".py",
   "mimetype": "text/x-python",
   "name": "python",
   "nbconvert_exporter": "python",
   "pygments_lexer": "ipython3",
   "version": "3.11.4"
  }
 },
 "nbformat": 4,
 "nbformat_minor": 2
}
