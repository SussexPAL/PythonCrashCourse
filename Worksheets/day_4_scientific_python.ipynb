{
 "cells": [
  {
   "attachments": {},
   "cell_type": "markdown",
   "metadata": {},
   "source": [
    "# Scientific Python\n",
    "Python being used scientifically requires a good understanding of handling data. We will be using two libraries to do this Numpy. Numpy holds numeric arrays, but is written in a language called C (which is faster than Python). C is faster but harder to learn (arguibly), so Python acts as a front end between the efficiently stored arrays. The library comes with many different features for quick mathematical operations across large arrays.\n",
    "\n",
    "This sheet is to help you understand loading in a dataset and working with numbers.\n",
    "\n",
    "First of all lets import the libraries:\n"
   ]
  },
  {
   "cell_type": "code",
   "execution_count": null,
   "metadata": {},
   "outputs": [],
   "source": [
    "!pip install matplotlib"
   ]
  },
  {
   "cell_type": "code",
   "execution_count": 1,
   "metadata": {},
   "outputs": [],
   "source": [
    "import matplotlib.pyplot as plt #so we can visualise easily\n",
    "import numpy as np #the python maths library \n",
    "import pandas as pd\n",
    "import time\n",
    "import traceback\n",
    "import sys\n",
    "from rich.progress import Progress\n",
    "from rich import print\n",
    "from rich.panel import Panel"
   ]
  },
  {
   "attachments": {},
   "cell_type": "markdown",
   "metadata": {},
   "source": [
    "## Understanding the difference\n",
    "\n",
    "### Arrays\n",
    "Run the following code and take a look at the outputs. look at the difference between ```boring_array``` which is a normal array, and ```cool_array``` which is a numpy array. \n",
    "If we want to add to th whole array we must loop through a normal array which can take time. A numpy array lets you call the line once and does this efficiently."
   ]
  },
  {
   "cell_type": "code",
   "execution_count": null,
   "metadata": {},
   "outputs": [],
   "source": [
    "#lets make an empty array\n",
    "boring_array=[0,0,0,0,0,0,0,0,0]\n",
    "cool_array=np.zeros((9,))\n",
    "\n",
    "print(boring_array,cool_array)\n",
    "\n",
    "#now we want to change the first element to 1\n",
    "boring_array[0]=1\n",
    "cool_array[0]=1\n",
    "print(\"Add one to index:\",boring_array,cool_array)\n",
    "\n",
    "#simple right? WHat if we want to add one to all the items in the array\n",
    "for i in range(len(boring_array)):\n",
    "    boring_array[i]+=1\n",
    "cool_array+=1\n",
    "print(\"Add one to add:\",boring_array,cool_array)\n",
    "\n",
    "#now you are starting to see the ease of using numpy... lets look at a better example, what if we want to make sure all items above one are capped to one\n",
    "for i in range(len(boring_array)):\n",
    "    if boring_array[i]>1:\n",
    "        boring_array[i]=1\n",
    "cool_array[cool_array>1]=1\n",
    "print(\"Cap values:\",boring_array,cool_array)"
   ]
  },
  {
   "attachments": {},
   "cell_type": "markdown",
   "metadata": {},
   "source": [
    "### Matrices\n",
    "Arrays are one thing, but what about matrices?\n",
    "Look at the difference again, numpy is much simpler"
   ]
  },
  {
   "cell_type": "code",
   "execution_count": null,
   "metadata": {},
   "outputs": [],
   "source": [
    "#we have already established that numpy is more efficient at doing tasks, lets look at matrices\n",
    "boring_array=[[1 for i in range(5)] for i in range(5)]\n",
    "cool_array=np.ones((5,5))\n",
    "print(boring_array,\"\\n\\n\",cool_array)\n",
    "\n",
    "#gathering elements is exactly the same\n",
    "print(\"Items:\",boring_array[0][0],cool_array[0][0])\n",
    "#or gathhering rows\n",
    "print(\"Rows:\",boring_array[0],cool_array[0])\n",
    "#what if we gather coloumns\n",
    "print(\"Columns:\", [boring_array[i][0] for i in range(5)],cool_array[:,0])\n",
    "\n",
    "#When it gets to more complex operations.... then it gets more efficient to use numpy\n",
    "#We can also generate random arrays\n",
    "\n",
    "random_matrix=np.random.random((2,2)) #random decimals\n",
    "print(\"Random:\",random_matrix)\n",
    "\n",
    "mean=0\n",
    "std=0.3\n",
    "gaussian_matrix=np.random.normal(mean,std,(2,2)) #gaussian (normal distribution)\n",
    "print(\"Gaussian:\",gaussian_matrix)"
   ]
  },
  {
   "attachments": {},
   "cell_type": "markdown",
   "metadata": {},
   "source": [
    "## Showing the data\n",
    "\n",
    "Matplotlib is the plotting library for making graphs and showing images. It is widely used in the field. The graph you use will depend on your data, here are some examples"
   ]
  },
  {
   "cell_type": "code",
   "execution_count": null,
   "metadata": {},
   "outputs": [],
   "source": [
    "coordinates=np.random.random((50,2)) #stored in format [(x,y),(x,y)]\n",
    "plt.scatter(coordinates[:,0],coordinates[:,1]) #grab x column and y column\n",
    "plt.title(\"This is the title\")\n",
    "plt.xlabel(\"X coordinate\")\n",
    "plt.ylabel(\"Y coordinate\")\n",
    "plt.show()\n",
    "\n",
    "#we can also show images\n",
    "image=np.random.random((50,50)) #random image of 50 x 50 pixels\n",
    "plt.imshow(image)\n",
    "plt.title(\"This is the title\")\n",
    "plt.show()\n",
    "\n",
    "#labelling coordinates is another feature\n",
    "data=np.random.random((100,3)) #3 classes, 100 data points\n",
    "plt.plot(data,label=[\"class 1\",\"class 2\",\"class 3\"])\n",
    "plt.legend(loc=\"upper right\")\n",
    "plt.show()"
   ]
  },
  {
   "attachments": {},
   "cell_type": "markdown",
   "metadata": {},
   "source": [
    "## Task 1:\n",
    "\n",
    "### a:\n",
    "    Make a numpy array of ones of size 5 by 6\n",
    "\n",
    "### b:\n",
    "    add 2 to all positions"
   ]
  },
  {
   "cell_type": "code",
   "execution_count": 18,
   "metadata": {},
   "outputs": [],
   "source": [
    "array = ...\n"
   ]
  },
  {
   "cell_type": "code",
   "execution_count": null,
   "metadata": {},
   "outputs": [],
   "source": [
    "#Run this to check your code\n",
    "data = {\n",
    "    \"array\":np.ones((5,6))+2\n",
    "}\n",
    "\n",
    "def success_panel(msg: str, title: str) -> None:\n",
    "    print(Panel(msg, title=title, border_style=\"green\"))\n",
    "\n",
    "def problem_panel(msg: str, title: str) -> None:\n",
    "    print(Panel(msg, title=title, border_style=\"red\"))\n",
    "\n",
    "\n",
    "with Progress() as progress:\n",
    "    assert_task = progress.add_task(\"[green]Checking solution...\", total=len(data.keys()))\n",
    "    failed = 0\n",
    "    for key in data.keys():\n",
    "        value = data[key]\n",
    "        try:\n",
    "            assert(globals()[key].shape == value.shape and np.sum(value)==np.sum(globals()[key]))\n",
    "            success_panel(f\"Congratulations! \\\"{key}\\\" is equal to the expected value of {value}\", title=\"Data verified\")\n",
    "        except KeyError as e:\n",
    "            failed += 1\n",
    "            problem_panel(f\"\\\"{key}\\\" isn't defined...\", \"Undefined variable\")\n",
    "        except AssertionError as e:\n",
    "            failed += 1\n",
    "            problem_panel(f\"Oops! It looks like \\\"{key}\\\" isn't quite right. Double check your logic, make some changes, and re-run!\", \"Data error\")\n",
    "        progress.update(assert_task, advance=1)\n",
    "    \n",
    "    if failed > 0:\n",
    "        problem_panel(f\"Oops! {failed} of {len(data.keys())} things aren't quite right\\nDouble check your logic, make some changes, and re-run!\", \"\")\n",
    "    else:\n",
    "        success_panel(\"Congratulations! Everything seems all good :) Feel free to move onto the next exercise!\", \"Exercise complete!\")"
   ]
  },
  {
   "attachments": {},
   "cell_type": "markdown",
   "metadata": {},
   "source": [
    "## Datatypes\n",
    "Another thing to be aware of is datatypes with numpy. Making sure that your numpy array is of the correct datatype, and memory size. \n",
    "\n",
    "In computer science it is important to be aware of memory size. In binary, 8-bits (also known as a byte) can contain any number from 0 to 255. If you are working with images then thats perfect as pixels are any value between 0-255. If you are working with sensor measurements such as [0.5,0.334,0.345,0.7676,...] then this is not very good. We will need the data to be a float. \n",
    "\n",
    "Numpy allows you to specify this, but remember, the larger the value, the more memory.\n",
    "\n",
    "ANother thing to be aware of is signed and unsigned binary. Signed means that for 8-bits, one of the values represents if the number is negative. If you are only working with positive you will want to have an array that is unsigned.\n",
    "\n",
    "```\n",
    "signed=np.array([1,2,3],dtype=np.int8)\n",
    "unsigned=np.array([1,2,3],dtype=np.uint8)\n",
    "```\n",
    "\n",
    "Here are some examples:"
   ]
  },
  {
   "cell_type": "code",
   "execution_count": 36,
   "metadata": {},
   "outputs": [
    {
     "data": {
      "text/html": [
       "<pre style=\"white-space:pre;overflow-x:auto;line-height:normal;font-family:Menlo,'DejaVu Sans Mono',consolas,'Courier New',monospace\"><span style=\"color: #008080; text-decoration-color: #008080; font-weight: bold\">8</span> bit number <span style=\"font-weight: bold\">[[</span><span style=\"color: #008080; text-decoration-color: #008080; font-weight: bold\">0</span><span style=\"font-weight: bold\">]]</span> : uint8 \n",
       "<span style=\"color: #008080; text-decoration-color: #008080; font-weight: bold\">8</span> bit number <span style=\"font-weight: bold\">[[</span><span style=\"color: #008080; text-decoration-color: #008080; font-weight: bold\">1444</span><span style=\"font-weight: bold\">]]</span> : uint16\n",
       "</pre>\n"
      ],
      "text/plain": [
       "\u001b[1;36m8\u001b[0m bit number \u001b[1m[\u001b[0m\u001b[1m[\u001b[0m\u001b[1;36m0\u001b[0m\u001b[1m]\u001b[0m\u001b[1m]\u001b[0m : uint8 \n",
       "\u001b[1;36m8\u001b[0m bit number \u001b[1m[\u001b[0m\u001b[1m[\u001b[0m\u001b[1;36m1444\u001b[0m\u001b[1m]\u001b[0m\u001b[1m]\u001b[0m : uint16\n"
      ]
     },
     "metadata": {},
     "output_type": "display_data"
    },
    {
     "data": {
      "text/html": [
       "<pre style=\"white-space:pre;overflow-x:auto;line-height:normal;font-family:Menlo,'DejaVu Sans Mono',consolas,'Courier New',monospace\"><span style=\"color: #008080; text-decoration-color: #008080; font-weight: bold\">16</span> bit number <span style=\"font-weight: bold\">[[</span><span style=\"color: #008080; text-decoration-color: #008080; font-weight: bold\">0</span><span style=\"font-weight: bold\">]]</span> : uint16 \n",
       "<span style=\"color: #008080; text-decoration-color: #008080; font-weight: bold\">16</span> bit number <span style=\"font-weight: bold\">[[</span><span style=\"color: #008080; text-decoration-color: #008080; font-weight: bold\">1444</span><span style=\"font-weight: bold\">]]</span> : uint16\n",
       "</pre>\n"
      ],
      "text/plain": [
       "\u001b[1;36m16\u001b[0m bit number \u001b[1m[\u001b[0m\u001b[1m[\u001b[0m\u001b[1;36m0\u001b[0m\u001b[1m]\u001b[0m\u001b[1m]\u001b[0m : uint16 \n",
       "\u001b[1;36m16\u001b[0m bit number \u001b[1m[\u001b[0m\u001b[1m[\u001b[0m\u001b[1;36m1444\u001b[0m\u001b[1m]\u001b[0m\u001b[1m]\u001b[0m : uint16\n"
      ]
     },
     "metadata": {},
     "output_type": "display_data"
    },
    {
     "data": {
      "text/html": [
       "<pre style=\"white-space:pre;overflow-x:auto;line-height:normal;font-family:Menlo,'DejaVu Sans Mono',consolas,'Courier New',monospace\"><span style=\"color: #008080; text-decoration-color: #008080; font-weight: bold\">16</span> bit number <span style=\"font-weight: bold\">[[</span><span style=\"color: #008080; text-decoration-color: #008080; font-weight: bold\">0</span><span style=\"font-weight: bold\">]]</span> : uint16 \n",
       "<span style=\"color: #008080; text-decoration-color: #008080; font-weight: bold\">16</span> bit number <span style=\"font-weight: bold\">[[</span><span style=\"color: #008080; text-decoration-color: #008080; font-weight: bold\">64536</span><span style=\"font-weight: bold\">]]</span> : uint16\n",
       "</pre>\n"
      ],
      "text/plain": [
       "\u001b[1;36m16\u001b[0m bit number \u001b[1m[\u001b[0m\u001b[1m[\u001b[0m\u001b[1;36m0\u001b[0m\u001b[1m]\u001b[0m\u001b[1m]\u001b[0m : uint16 \n",
       "\u001b[1;36m16\u001b[0m bit number \u001b[1m[\u001b[0m\u001b[1m[\u001b[0m\u001b[1;36m64536\u001b[0m\u001b[1m]\u001b[0m\u001b[1m]\u001b[0m : uint16\n"
      ]
     },
     "metadata": {},
     "output_type": "display_data"
    },
    {
     "data": {
      "text/html": [
       "<pre style=\"white-space:pre;overflow-x:auto;line-height:normal;font-family:Menlo,'DejaVu Sans Mono',consolas,'Courier New',monospace\"><span style=\"color: #008080; text-decoration-color: #008080; font-weight: bold\">16</span> bit number <span style=\"font-weight: bold\">[[</span><span style=\"color: #008080; text-decoration-color: #008080; font-weight: bold\">0</span><span style=\"font-weight: bold\">]]</span> : int16 \n",
       "<span style=\"color: #008080; text-decoration-color: #008080; font-weight: bold\">16</span> bit number <span style=\"font-weight: bold\">[[</span><span style=\"color: #008080; text-decoration-color: #008080; font-weight: bold\">-1000</span><span style=\"font-weight: bold\">]]</span> : int16\n",
       "</pre>\n"
      ],
      "text/plain": [
       "\u001b[1;36m16\u001b[0m bit number \u001b[1m[\u001b[0m\u001b[1m[\u001b[0m\u001b[1;36m0\u001b[0m\u001b[1m]\u001b[0m\u001b[1m]\u001b[0m : int16 \n",
       "\u001b[1;36m16\u001b[0m bit number \u001b[1m[\u001b[0m\u001b[1m[\u001b[0m\u001b[1;36m-1000\u001b[0m\u001b[1m]\u001b[0m\u001b[1m]\u001b[0m : int16\n"
      ]
     },
     "metadata": {},
     "output_type": "display_data"
    },
    {
     "data": {
      "text/html": [
       "<pre style=\"white-space:pre;overflow-x:auto;line-height:normal;font-family:Menlo,'DejaVu Sans Mono',consolas,'Courier New',monospace\">float32 bit number <span style=\"font-weight: bold\">[[</span><span style=\"color: #008080; text-decoration-color: #008080; font-weight: bold\">0</span>.<span style=\"font-weight: bold\">]]</span> : float32 \n",
       "float32 bit number <span style=\"font-weight: bold\">[[</span><span style=\"color: #008080; text-decoration-color: #008080; font-weight: bold\">1444</span>.<span style=\"font-weight: bold\">]]</span> : float32\n",
       "</pre>\n"
      ],
      "text/plain": [
       "float32 bit number \u001b[1m[\u001b[0m\u001b[1m[\u001b[0m\u001b[1;36m0\u001b[0m.\u001b[1m]\u001b[0m\u001b[1m]\u001b[0m : float32 \n",
       "float32 bit number \u001b[1m[\u001b[0m\u001b[1m[\u001b[0m\u001b[1;36m1444\u001b[0m.\u001b[1m]\u001b[0m\u001b[1m]\u001b[0m : float32\n"
      ]
     },
     "metadata": {},
     "output_type": "display_data"
    }
   ],
   "source": [
    "bit_8 = np.zeros((1,1),dtype=np.uint8)\n",
    "# if we add a number that cannot be represented by 8, it changes itself to 16\n",
    "print(\"8 bit number\",bit_8,\":\",bit_8.dtype,\"\\n8 bit number\",bit_8+1444,\":\",(bit_8+1444).dtype)\n",
    "\n",
    "\n",
    "# but if we now start big and make it small, the array will stay big\n",
    "bit_16 = np.zeros((1,1),dtype=np.uint16)\n",
    "print(\"16 bit number\",bit_16,\":\",bit_16.dtype,\"\\n16 bit number\",bit_16+1444,\":\",(bit_16+1444).dtype)\n",
    "\n",
    "\n",
    "# and now lets make it negative\n",
    "bit_16 = np.zeros((1,1),dtype=np.uint16)\n",
    "print(\"16 bit number\",bit_16,\":\",bit_16.dtype,\"\\n16 bit number\",bit_16-1000,\":\",(bit_16-1000).dtype)\n",
    "\n",
    "# as you can see the number is really large, not negative. THis is because we need to manually set the type\n",
    "bit_16 = np.zeros((1,1),dtype=np.int16)\n",
    "print(\"16 bit number\",bit_16,\":\",bit_16.dtype,\"\\n16 bit number\",bit_16-1000,\":\",(bit_16+1444).dtype)\n",
    "\n",
    "#finally lets look at floats\n",
    "float32 = np.zeros((1,1),dtype=np.float32)\n",
    "# if we add a number that cannot be represented by 8, it changes itself to 16\n",
    "print(\"float32 bit number\",float32,\":\",float32.dtype,\"\\nfloat32 bit number\",float32+1444,\":\",(float32+1444).dtype)"
   ]
  },
  {
   "attachments": {},
   "cell_type": "markdown",
   "metadata": {},
   "source": [
    "It is important to make sure that our array has a dtype that will hold our data. As you can see, quite often the array corrects itself to the right type, but sometimes this can not be the case. Sometimes you may come into errors where your dataset is taking up too much space, because you are loading in images as unit64 (64 bits) when you only need uint8 (8 bits). Another error is your image looks weird because you have a signed int instead of uint. This is something worth being aware of for debugging reasons. "
   ]
  }
 ],
 "metadata": {
  "kernelspec": {
   "display_name": "base",
   "language": "python",
   "name": "python3"
  },
  "language_info": {
   "codemirror_mode": {
    "name": "ipython",
    "version": 3
   },
   "file_extension": ".py",
   "mimetype": "text/x-python",
   "name": "python",
   "nbconvert_exporter": "python",
   "pygments_lexer": "ipython3",
   "version": "3.10.8"
  },
  "orig_nbformat": 4
 },
 "nbformat": 4,
 "nbformat_minor": 2
}
