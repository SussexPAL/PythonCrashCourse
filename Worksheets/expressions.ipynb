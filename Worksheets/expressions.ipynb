{
 "cells": [
  {
   "cell_type": "code",
   "execution_count": 9,
   "metadata": {},
   "outputs": [],
   "source": [
    "# To make our programs more complex, we can use \"conditionals\"\n",
    "# Conditionals allow us to perform comparisons, and then take actions based on that\n",
    "\n",
    "# We have a few operators to use for conditionals: specifically\n",
    "#   > -- less than (10 > 5)\n",
    "#   < -- greater than (2 < 6)\n",
    "#   == for equality (\"hello\" == \"hello\")\n",
    "#   != for inequality (\"this\" != \"that\")\n",
    "\n",
    "# Here's some examples in code\n",
    "\n",
    "example_number_check = 15 < (5*2)\n",
    "example_number_check_2 = (40/2) == 20\n",
    "\n",
    "# Before running; think about what this should be?\n",
    "# Then, remove the # at the beginning of the next line to \"uncomment\" these print statement\n",
    "\n",
    "# print(example_number_check)\n",
    "# print(example_number_check_2)\n",
    "\n",
    "# Now: create a variable named \"number_check\", and assign it to whether 2 multiplied by 3 equals 6\n",
    "\n",
    "number_check = -1\n",
    "\n",
    "# TODO: Add test for this!"
   ]
  },
  {
   "cell_type": "code",
   "execution_count": null,
   "metadata": {},
   "outputs": [],
   "source": [
    "# TODO: Tester goes here"
   ]
  },
  {
   "cell_type": "code",
   "execution_count": null,
   "metadata": {},
   "outputs": [],
   "source": [
    "# TODO: Logic methods - \"or\", \"and\" and \"not\"."
   ]
  },
  {
   "cell_type": "code",
   "execution_count": null,
   "metadata": {},
   "outputs": [],
   "source": [
    "# TODO: Tester for above goes here"
   ]
  },
  {
   "cell_type": "code",
   "execution_count": 5,
   "metadata": {},
   "outputs": [
    {
     "name": "stdout",
     "output_type": "stream",
     "text": [
      "We're watching The Matrix!\n"
     ]
    }
   ],
   "source": [
    "# Wonderful! So, this is all well and good; but, how can we use conditionals to control flow of a program?\n",
    "# This is where \"if\" statements come into play\n",
    "# Let's look at this example of a program that decides what film we watch depending on the day of the week\n",
    "\n",
    "day = \"Thursday\"\n",
    "\n",
    "movie = \"Her\"\n",
    "\n",
    "if day == \"Thursday\":\n",
    "    movie = \"The Matrix\"\n",
    "\n",
    "print(\"We're watching \" + movie + \"!\")\n",
    "\n",
    "# Give this a run, and, try changing the \"day\" variable at the beginning to be equal to Wednesday, and see what happens\n"
   ]
  },
  {
   "cell_type": "code",
   "execution_count": null,
   "metadata": {},
   "outputs": [],
   "source": [
    "# TODO: Logic methods - \"or\", \"and\" and \"not\"."
   ]
  },
  {
   "cell_type": "code",
   "execution_count": 6,
   "metadata": {},
   "outputs": [
    {
     "name": "stdout",
     "output_type": "stream",
     "text": [
      "Actually; we're watching The Matrix!\n"
     ]
    }
   ],
   "source": [
    "# Now - let's expand this example: but, instead, we want you to add another check - if the day equals Saturday, we want to watch \"Ex Machina\"\n",
    "\n",
    "day == \"Saturday\"\n",
    "movie = \"Her\"\n",
    "\n",
    "if day == \"Thursday\":\n",
    "    movie = \"The Matrix\"\n",
    "\n",
    "# NOTE: Your code goes here!\n",
    "\n",
    "print(\"Actually; we're watching \" + movie + \"!\")\n",
    "# TODO: Test this!"
   ]
  },
  {
   "cell_type": "code",
   "execution_count": null,
   "metadata": {},
   "outputs": [],
   "source": [
    "# Tester goes here"
   ]
  },
  {
   "cell_type": "code",
   "execution_count": null,
   "metadata": {},
   "outputs": [],
   "source": [
    "# TODO: Add section teaching else statements!"
   ]
  },
  {
   "cell_type": "code",
   "execution_count": 7,
   "metadata": {},
   "outputs": [
    {
     "name": "stdout",
     "output_type": "stream",
     "text": [
      "It is currently Monday\n",
      "It is currently Thursday\n",
      "It is currently Friday\n",
      "It is currently Saturday\n"
     ]
    }
   ],
   "source": [
    "# Amazing! Now, this is all wonderful, but; we might want to *repeat* an action. IE: given the days we can watch a movie, what films can we watch?\n",
    "# Let's begin by remembering back to arrays - let's define one with the days we can go watch a film\n",
    "\n",
    "days = [\"Monday\", \"Thursday\", \"Friday\", \"Saturday\"]\n",
    "\n",
    "# Now, we can run some code using every step of this by using a \"for\" loop\n",
    "\n",
    "for day in days:\n",
    "    print(\"It is currently \" + day)\n",
    "\n",
    "# Before running; have a think about what will happen!\n",
    "# After running; is it what you expected? If not, what do you think happened instead?"
   ]
  },
  {
   "cell_type": "code",
   "execution_count": 8,
   "metadata": {},
   "outputs": [
    {
     "name": "stdout",
     "output_type": "stream",
     "text": [
      "['M', 'T', 'F', 'S']\n"
     ]
    }
   ],
   "source": [
    "# Now; if we remember we can \"push\" to an array, we can write a for loop that takes in some data, and, outputs new data into a different array\n",
    "# This might sound a little theoretical; so, here's a quick demo\n",
    "\n",
    "days = [\"Monday\", \"Thursday\", \"Friday\", \"Saturday\"]\n",
    "days_first_letter = []\n",
    "for day in days:\n",
    "    # (hint: the \"day[0]\" allows us to access the first letter of each string!)\n",
    "    days_first_letter.append(day[0])\n",
    "\n",
    "print(days_first_letter)\n",
    "\n",
    "# Again; have a think about what will happen before running this!\n",
    "# And, again; after running, is it what you expected? If not, what do you think happened instead?"
   ]
  },
  {
   "cell_type": "code",
   "execution_count": null,
   "metadata": {},
   "outputs": [],
   "source": [
    "# ok! so; let's have a little task for you. given the structure below, modify the for loop so the array \"is_it_thursday\" contains booleans (true or false)\n",
    "# you should write \"True\" if the day is Thursday, and, write \"False\" if it isn't\n",
    "\n",
    "days = [\"Monday\", \"Thursday\", \"Friday\", \"Saturday\"]\n",
    "is_it_thursday = []\n",
    "for day in days:\n",
    "    # Pass is a filler statement\n",
    "    # We just put it somewhere so Python doesn't complain about nothing being there\n",
    "    # You should remove it and replace with your own code!\n",
    "    pass\n",
    "\n",
    "print(is_it_thursday)\n",
    "\n",
    "# If this is working correctly, you should see [False, True, False, False] output below!\n",
    "\n",
    "# TODO: Add tester for this"
   ]
  },
  {
   "cell_type": "code",
   "execution_count": null,
   "metadata": {},
   "outputs": [],
   "source": [
    "days = [\"Monday\", \"Thursday\", \"Friday\", \"Saturday\"]\n",
    "day_of_the_week_sentences = []\n",
    "for day in days:\n",
    "    prefix = \"It is \"\n",
    "    suffix = \"!\"\n",
    "    # TODO: Add a string saying \"It is [current day of week]!\"\n",
    "    # Try to remember back to string concatenation, and, you might want to use prefix and suffix!\n",
    "\n",
    "print(day_of_the_week_sentences)"
   ]
  },
  {
   "cell_type": "markdown",
   "metadata": {},
   "source": [
    "This is very helpful, but, we might want to have some function that uses a counting number. We could do this using something like the following\n",
    "\n",
    "```python3\n",
    "numbers = [0,1,2,3,4,5,6,7,8]\n",
    "for num in numbers:\n",
    "    print(num)\n",
    "```\n",
    "\n",
    "However, this could get tedious to update if we want to change where we start, or where we end. The `range` method allows us to condense this to the following:\n",
    "\n",
    "```python3\n",
    "for num in range(0, 9):\n",
    "    print(num)\n",
    "```\n",
    "\n",
    "The `range` method takes two essential parameters - the first is the start value, which will be included. The second value is the end value, which will be excluded; IE: here, we will print 0,1,2,3,4,5,6,7,8 but **not** 9!\n",
    "\n",
    "Give this a go in the following task - use the range method in a for loop from the numbers zero to ten - then write `2x`, where `x` is each item of the list, into another list! Your output should be something like `[0,2,4,6,...]`"
   ]
  },
  {
   "cell_type": "code",
   "execution_count": null,
   "metadata": {},
   "outputs": [],
   "source": [
    "two_x_nums = []\n",
    "\n",
    "# TODO: Write your code here!\n",
    "\n",
    "# TODO: Write tester for this"
   ]
  },
  {
   "cell_type": "code",
   "execution_count": null,
   "metadata": {},
   "outputs": [],
   "source": []
  },
  {
   "cell_type": "markdown",
   "metadata": {},
   "source": [
    "We've currently looked at for loops - which excute for every item. However, we might want some code that runs an \"indeterminate\" amount of times - that is, it keeps running while a condition is true. To do this, we can use a \"while loop\". Check out the example below!"
   ]
  },
  {
   "cell_type": "code",
   "execution_count": 1,
   "metadata": {},
   "outputs": [
    {
     "name": "stdout",
     "output_type": "stream",
     "text": [
      "10\n"
     ]
    }
   ],
   "source": [
    "x = 0\n",
    "while x < 10:\n",
    "    x += 1\n",
    "print(x)"
   ]
  },
  {
   "cell_type": "markdown",
   "metadata": {},
   "source": [
    "Did you notice that `while` uses some comparison? This is really helpful for us in a lot of contexts - but, you have to be careful, as you could potentially write a program which will never stop running.\n",
    "\n",
    "The following example is a program that does exactly that! `True` is always going to be... well `True`, so, the code below will run forever. `pass` is a nothing statement, so essentially the program will get stuck doing nothing."
   ]
  },
  {
   "cell_type": "code",
   "execution_count": 2,
   "metadata": {},
   "outputs": [
    {
     "ename": "KeyboardInterrupt",
     "evalue": "",
     "output_type": "error",
     "traceback": [
      "\u001b[0;31m---------------------------------------------------------------------------\u001b[0m",
      "\u001b[0;31mKeyboardInterrupt\u001b[0m                         Traceback (most recent call last)",
      "Cell \u001b[0;32mIn[2], line 1\u001b[0m\n\u001b[0;32m----> 1\u001b[0m \u001b[38;5;28;01mwhile\u001b[39;00m \u001b[38;5;28;01mTrue\u001b[39;00m:\n\u001b[1;32m      2\u001b[0m     \u001b[38;5;28;01mpass\u001b[39;00m\n",
      "\u001b[0;31mKeyboardInterrupt\u001b[0m: "
     ]
    }
   ],
   "source": [
    "while True:\n",
    "    pass"
   ]
  },
  {
   "cell_type": "code",
   "execution_count": null,
   "metadata": {},
   "outputs": [],
   "source": [
    "# TODO: Come up with example to teach while loops!"
   ]
  },
  {
   "cell_type": "code",
   "execution_count": null,
   "metadata": {},
   "outputs": [],
   "source": [
    "# TODO: Continue and Break keywords"
   ]
  },
  {
   "cell_type": "markdown",
   "metadata": {},
   "source": []
  }
 ],
 "metadata": {
  "kernelspec": {
   "display_name": "venv",
   "language": "python",
   "name": "python3"
  },
  "language_info": {
   "codemirror_mode": {
    "name": "ipython",
    "version": 3
   },
   "file_extension": ".py",
   "mimetype": "text/x-python",
   "name": "python",
   "nbconvert_exporter": "python",
   "pygments_lexer": "ipython3",
   "version": "3.12.1"
  }
 },
 "nbformat": 4,
 "nbformat_minor": 2
}
