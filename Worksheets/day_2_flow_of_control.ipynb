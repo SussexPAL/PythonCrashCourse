{
 "cells": [
  {
   "cell_type": "code",
   "execution_count": null,
   "metadata": {},
   "outputs": [],
   "source": [
    "%pip install rich\n",
    "%pip install ipywidgets"
   ]
  },
  {
   "cell_type": "markdown",
   "metadata": {},
   "source": [
    "# Conditionals\n",
    "\n",
    "To make our programs more complex, we can use \"conditionals\". Conditionals allow us to perform comparisons, and then take actions based on that.\n",
    "\n",
    "We have a few operators to use for conditionals:\n",
    "\n",
    "| Operator | Operator Name | True example |\n",
    "| :------: | :------------ | :----------- |\n",
    "| `>` | less than | `10 > 5` |\n",
    "| `<` | greater than | `2 < 6` |\n",
    "| `==` | equality | `\"hello\" == \"hello\"` |\n",
    "| `!=` | inequality | `\"this\" != \"that\"` |\n",
    "\n",
    "Here's some examples in code"
   ]
  },
  {
   "cell_type": "code",
   "execution_count": null,
   "metadata": {},
   "outputs": [],
   "source": [
    "example_number_check = 15 < (5*2)\n",
    "example_number_check_2 = (40/2) == 20\n",
    "\n",
    "# Before running; think about what this should be?\n",
    "# Then, remove the # at the beginning of the next line to \"uncomment\" these print statement\n",
    "\n",
    "# print(example_number_check)\n",
    "# print(example_number_check_2)"
   ]
  },
  {
   "cell_type": "markdown",
   "metadata": {},
   "source": [
    "## Conditionals Task\n",
    "\n",
    "Create a variable named `number_check`, and assign it to whether 2 multiplied by 3 equals 6."
   ]
  },
  {
   "cell_type": "code",
   "execution_count": null,
   "metadata": {},
   "outputs": [],
   "source": [
    "number_check = -1"
   ]
  },
  {
   "cell_type": "markdown",
   "metadata": {},
   "source": [
    "### Answer\n",
    "\n",
    "Run the cell below to check your answer."
   ]
  },
  {
   "cell_type": "code",
   "execution_count": null,
   "metadata": {},
   "outputs": [],
   "source": [
    "# expected answer\n",
    "data = {\n",
    "    \"number_check\": True\n",
    "}\n",
    "\n",
    "import time\n",
    "import traceback\n",
    "import sys\n",
    "from rich.progress import Progress\n",
    "from rich import print\n",
    "from rich.panel import Panel\n",
    "\n",
    "def success_panel(msg: str, title: str) -> None:\n",
    "    print(Panel(msg, title=title, border_style=\"green\"))\n",
    "\n",
    "def problem_panel(msg: str, title: str) -> None:\n",
    "    print(Panel(msg, title=title, border_style=\"red\"))\n",
    "\n",
    "\n",
    "with Progress() as progress:\n",
    "    assert_task = progress.add_task(\"[green]Checking solution...\", total=len(data.keys()))\n",
    "    failed = 0\n",
    "    for key in data.keys():\n",
    "        value = data[key]\n",
    "        try:\n",
    "            assert(globals()[key] == value)\n",
    "            success_panel(f\"Congratulations! \\\"{key}\\\" is equal to the expected value of {value}\", title=\"Data verified\")\n",
    "        except KeyError as e:\n",
    "            failed += 1\n",
    "            problem_panel(f\"\\\"{key}\\\" isn't defined...\", \"Undefined variable\")\n",
    "        except AssertionError as e:\n",
    "            failed += 1\n",
    "            if number_check == False:\n",
    "                problem_panel(\"Oops, not quite! It looks like you've got a small problem in the math. Try again.\", \"Data error\")\n",
    "            else:\n",
    "                problem_panel(f\"Hmm, it looks like you've set number_check to \\\"{key}\\\", but it should be a boolean (True or False). Remember to compare values (eg, 9 + 1 == 10).\", \"Data error\")\n",
    "        progress.update(assert_task, advance=1)\n",
    "    \n",
    "    if failed > 0:\n",
    "        problem_panel(f\"Oops! {failed} of {len(data.keys())} things aren't quite right\\nDouble check your logic, make some changes, and re-run!\", \"\")\n",
    "    else:\n",
    "        success_panel(\"Congratulations! Everything seems all good :) Feel free to move onto the next exercise!\", \"Exercise complete!\")\n"
   ]
  },
  {
   "cell_type": "markdown",
   "metadata": {},
   "source": [
    "# Logic Methods\n",
    "\n",
    "We can use some keywords to combine our conditionals.\n",
    "\n",
    "The three keywords to remember are:\n",
    "\n",
    "- `and` - `true` if both `a` and `b` are `true`.\n",
    "- `or` - `true` if either `a` or `b` is `true`.\n",
    "- `not` - inverts a variable (`true` -> `false`, `false` -> `true`).\n",
    "\n",
    "Here are some examples about leaving home only if you've remembered your things and the weather is nice and you have no reason to stay at home:"
   ]
  },
  {
   "cell_type": "code",
   "execution_count": null,
   "metadata": {},
   "outputs": [],
   "source": [
    "have_keys = True\n",
    "have_wallet = True\n",
    "have_things = have_keys and have_wallet\n",
    "print(\"I have all my things: \", have_things)\n",
    "\n",
    "weather_raining = False\n",
    "weather_snowing = False\n",
    "weather_nice = not weather_raining and not weather_snowing\n",
    "print(\"The weather is nice: \", weather_nice)\n",
    "\n",
    "working_from_home = False\n",
    "waiting_for_delivery = False\n",
    "must_be_home = working_from_home or waiting_for_delivery\n",
    "print(\"I must be home: \", must_be_home)\n",
    "\n",
    "print(\"I will go out today: \", have_things and weather_nice and not must_be_home)"
   ]
  },
  {
   "cell_type": "markdown",
   "metadata": {},
   "source": [
    "## TODO Logic Methods Exercise"
   ]
  },
  {
   "cell_type": "code",
   "execution_count": null,
   "metadata": {},
   "outputs": [],
   "source": [
    "# TODO: Tester for above goes here"
   ]
  },
  {
   "cell_type": "markdown",
   "metadata": {},
   "source": [
    "# If statements\n",
    "\n",
    "Wonderful! So, this is all well and good; but, how can we use conditionals to control flow of a program? This is where \"if\" statements come into play.\n",
    "\n",
    "Let's look at this example of a program that decides what film we watch depending on the day of the week:"
   ]
  },
  {
   "cell_type": "code",
   "execution_count": null,
   "metadata": {},
   "outputs": [],
   "source": [
    "day = \"Thursday\"\n",
    "\n",
    "movie = \"Her\"\n",
    "\n",
    "if day == \"Thursday\":\n",
    "    movie = \"The Matrix\"\n",
    "\n",
    "print(\"We're watching \" + movie + \"!\")\n",
    "\n",
    "# Give this a run, and then try changing the \"day\" variable at the beginning to be equal to Wednesday, and see what happens"
   ]
  },
  {
   "cell_type": "markdown",
   "metadata": {},
   "source": [
    "Now - let's expand this example.\n",
    "\n",
    "Add another check: if day equals Saturday, we want to watch \"Ex Machina\"."
   ]
  },
  {
   "cell_type": "code",
   "execution_count": null,
   "metadata": {},
   "outputs": [],
   "source": [
    "\n",
    "day == \"Saturday\"\n",
    "movie = \"Her\"\n",
    "\n",
    "if day == \"Thursday\":\n",
    "    movie = \"The Matrix\"\n",
    "\n",
    "# NOTE: Your code goes here!\n",
    "\n",
    "print(\"Actually; we're watching \" + movie + \"!\")\n",
    "\n",
    "# Remember to adjust the day variable to test your code!"
   ]
  },
  {
   "cell_type": "markdown",
   "metadata": {},
   "source": [
    "Now let's try involving some combined conditionals! We still want to watch The Matrix on Thursday, but we also want to watch \"Dracula\" if there is a storm.\n",
    "\n",
    "Edit the code below: We will watch Dracula if `day` is `not` Thursday, `and` weather equals \"storm\"."
   ]
  },
  {
   "cell_type": "code",
   "execution_count": null,
   "metadata": {},
   "outputs": [],
   "source": [
    "day = \"Wednesday\"\n",
    "weather = \"storm\"\n",
    "\n",
    "movie = \"Her\"\n",
    "\n",
    "if day == \"Thursday\":\n",
    "    movie = \"The Matrix\"\n",
    "\n",
    "# NOTE: Your code goes here!\n",
    "\n",
    "print(\"We're watching \" + movie + \"!\")\n",
    "\n",
    "# Remember to adjust the day and weather variables to test your code!"
   ]
  },
  {
   "cell_type": "markdown",
   "metadata": {},
   "source": [
    "Great! It looks like you've got the hang of If-statements!"
   ]
  },
  {
   "cell_type": "markdown",
   "metadata": {},
   "source": [
    "# Else\n",
    "\n",
    "We now know how to set the movie if today is Thusday, and how to set the movie if today is *not* Thursday. These two things are very similar, one is just the opposite of the other!\n",
    "\n",
    "When we have a situation like this, we can use `else`.\n",
    "\n",
    "Take a look at the following code. The code outputs \"left\" if `arrow` is \"left\", otherwise the code outputs \"right\"."
   ]
  },
  {
   "cell_type": "code",
   "execution_count": null,
   "metadata": {},
   "outputs": [],
   "source": [
    "arrow = \"left\"\n",
    "\n",
    "if arrow == \"left\":\n",
    "    print(\"left\")\n",
    "else:\n",
    "    print(\"right\")\n",
    "\n",
    "# Remember to adjust the arrow variable to test the code works!"
   ]
  },
  {
   "cell_type": "markdown",
   "metadata": {},
   "source": [
    "We can also check for multiple cases in a single `if` statement. We do this using `elif` which is short for \"else if\".\n",
    "\n",
    "Think for a moment about why we might want to do this. \n",
    "\n",
    "We might want this because when we have a variable, like `day`, it can only have one value. If we've found that `day` is \"Monday\", we know it cannot be \"Tuesday\" nor any other value, so there's no point in checking. Remember, `elif` statements do not run if the statement before them was true!\n",
    "\n",
    "See the example below for a demonstration:"
   ]
  },
  {
   "cell_type": "code",
   "execution_count": null,
   "metadata": {},
   "outputs": [],
   "source": [
    "day = \"Monday\"\n",
    "\n",
    "if day == \"Monday\":\n",
    "    print(\"It's Monday!\")\n",
    "elif day == \"Tuesday\":\n",
    "    print(\"It's Tuesday!\")\n",
    "elif day == \"Wednesday\":\n",
    "    print(\"It's Wednesday!\")\n",
    "elif day == \"Thursday\":\n",
    "    print(\"It's Thursday!\")\n",
    "elif day == \"Friday\":\n",
    "    print(\"It's Friday!\")\n",
    "elif day == \"Saturday\":\n",
    "    print(\"It's Saturday!\")\n",
    "else:\n",
    "    print(\"It's Sunday!\")\n",
    "\n",
    "# Remember to adjust the day variable to test the code works!"
   ]
  },
  {
   "cell_type": "markdown",
   "metadata": {},
   "source": [
    "## Task\n",
    "\n",
    "Now let's combine everything we've learned!\n",
    "\n",
    "Remember what we have learned about:\n",
    "\n",
    "- **Conditionals**: `<`, `>`, `==`, and `!=`\n",
    "- **Logic Methods**: `and`, `or`, `not`\n",
    "- **if**: `if True: do`\n",
    "- **else**: `if False: don't, else: do\n",
    "- **elif**: `if False: don't, elif True: do\n",
    "\n",
    "For this exercise we're going to work out what movie we want to watch tonight based on the following rules:\n",
    "\n",
    "- If `day` is Thursday, we're going to watch \"The Matrix\"\n",
    "- Else if `day` is Saturday we're going to watch \"Ex Machina\"\n",
    "- Else if `weather` is storm we're going to watch \"Dracula\"\n",
    "- Else if `time` is less than 19 we're going to watch \"Mean Girls\"\n",
    "- Else if `day` is not Friday we'll watch \"Her\"\n",
    "- Else we'll watch \"Freaky Friday\"\n",
    "\n",
    "Try putting in the rules one-by-one and testing to make sure your code works!"
   ]
  },
  {
   "cell_type": "code",
   "execution_count": 6,
   "metadata": {},
   "outputs": [],
   "source": [
    "day = \"Monday\"\n",
    "weather = \"storm\"\n",
    "time = 13\n",
    "\n",
    "film = \"\"\n",
    "\n",
    "# NOTE: Your code goes here! Edit below this point.\n",
    "if day == \"Thursday\":\n",
    "    film = \"The Matrix\"\n",
    "\n",
    "# Remember to adjust the day, weather, and time variables to test the code works!"
   ]
  },
  {
   "cell_type": "markdown",
   "metadata": {},
   "source": [
    "### Answer\n",
    "\n",
    "Run the cell below to test your code.\n",
    "\n",
    "#### Important\n",
    "\n",
    "Make sure you set `day`=\"Friday\", `weather`=\"clear\", `time`=15"
   ]
  },
  {
   "cell_type": "code",
   "execution_count": 7,
   "metadata": {},
   "outputs": [
    {
     "data": {
      "application/vnd.jupyter.widget-view+json": {
       "model_id": "d0c5ce5ac6a34effb4b2a246cf1e078b",
       "version_major": 2,
       "version_minor": 0
      },
      "text/plain": [
       "Output()"
      ]
     },
     "metadata": {},
     "output_type": "display_data"
    },
    {
     "data": {
      "text/html": [
       "<pre style=\"white-space:pre;overflow-x:auto;line-height:normal;font-family:Menlo,'DejaVu Sans Mono',consolas,'Courier New',monospace\"><span style=\"color: #008000; text-decoration-color: #008000\">╭───────────────────────────────────────────────── Data verified ─────────────────────────────────────────────────╮</span>\n",
       "<span style=\"color: #008000; text-decoration-color: #008000\">│</span> Congratulations! \"film\" is equal to the expected value of Mean Girls                                            <span style=\"color: #008000; text-decoration-color: #008000\">│</span>\n",
       "<span style=\"color: #008000; text-decoration-color: #008000\">╰─────────────────────────────────────────────────────────────────────────────────────────────────────────────────╯</span>\n",
       "</pre>\n"
      ],
      "text/plain": [
       "\u001b[32m╭─\u001b[0m\u001b[32m────────────────────────────────────────────────\u001b[0m\u001b[32m Data verified \u001b[0m\u001b[32m────────────────────────────────────────────────\u001b[0m\u001b[32m─╮\u001b[0m\n",
       "\u001b[32m│\u001b[0m Congratulations! \"film\" is equal to the expected value of Mean Girls                                            \u001b[32m│\u001b[0m\n",
       "\u001b[32m╰─────────────────────────────────────────────────────────────────────────────────────────────────────────────────╯\u001b[0m\n"
      ]
     },
     "metadata": {},
     "output_type": "display_data"
    },
    {
     "data": {
      "text/html": [
       "<pre style=\"white-space:pre;overflow-x:auto;line-height:normal;font-family:Menlo,'DejaVu Sans Mono',consolas,'Courier New',monospace\"><span style=\"color: #008000; text-decoration-color: #008000\">╭────────────────────────────────────────────── Exercise complete! ───────────────────────────────────────────────╮</span>\n",
       "<span style=\"color: #008000; text-decoration-color: #008000\">│</span> Congratulations! Everything seems all good :) Feel free to move onto the next exercise!                         <span style=\"color: #008000; text-decoration-color: #008000\">│</span>\n",
       "<span style=\"color: #008000; text-decoration-color: #008000\">╰─────────────────────────────────────────────────────────────────────────────────────────────────────────────────╯</span>\n",
       "</pre>\n"
      ],
      "text/plain": [
       "\u001b[32m╭─\u001b[0m\u001b[32m─────────────────────────────────────────────\u001b[0m\u001b[32m Exercise complete! \u001b[0m\u001b[32m──────────────────────────────────────────────\u001b[0m\u001b[32m─╮\u001b[0m\n",
       "\u001b[32m│\u001b[0m Congratulations! Everything seems all good :) Feel free to move onto the next exercise!                         \u001b[32m│\u001b[0m\n",
       "\u001b[32m╰─────────────────────────────────────────────────────────────────────────────────────────────────────────────────╯\u001b[0m\n"
      ]
     },
     "metadata": {},
     "output_type": "display_data"
    },
    {
     "data": {
      "text/html": [
       "<pre style=\"white-space:pre;overflow-x:auto;line-height:normal;font-family:Menlo,'DejaVu Sans Mono',consolas,'Courier New',monospace\"></pre>\n"
      ],
      "text/plain": []
     },
     "metadata": {},
     "output_type": "display_data"
    },
    {
     "data": {
      "text/html": [
       "<pre style=\"white-space:pre;overflow-x:auto;line-height:normal;font-family:Menlo,'DejaVu Sans Mono',consolas,'Courier New',monospace\">\n",
       "</pre>\n"
      ],
      "text/plain": [
       "\n"
      ]
     },
     "metadata": {},
     "output_type": "display_data"
    }
   ],
   "source": [
    "# expected answer\n",
    "data = {\n",
    "    \"film\": \"Mean Girls\"\n",
    "}\n",
    "\n",
    "import time\n",
    "import traceback\n",
    "import sys\n",
    "from rich.progress import Progress\n",
    "from rich import print\n",
    "from rich.panel import Panel\n",
    "\n",
    "def success_panel(msg: str, title: str) -> None:\n",
    "    print(Panel(msg, title=title, border_style=\"green\"))\n",
    "\n",
    "def problem_panel(msg: str, title: str) -> None:\n",
    "    print(Panel(msg, title=title, border_style=\"red\"))\n",
    "\n",
    "\n",
    "with Progress() as progress:\n",
    "    assert_task = progress.add_task(\"[green]Checking solution...\", total=len(data.keys()))\n",
    "    failed = 0\n",
    "    for key in data.keys():\n",
    "        value = data[key]\n",
    "        try:\n",
    "            assert(globals()[key] == value)\n",
    "            success_panel(f\"Congratulations! \\\"{key}\\\" is equal to the expected value of {value}\", title=\"Data verified\")\n",
    "        except KeyError as e:\n",
    "            failed += 1\n",
    "            problem_panel(f\"\\\"{key}\\\" isn't defined...\", \"Undefined variable\")\n",
    "        except AssertionError as e:\n",
    "            failed += 1\n",
    "            problem_panel(f\"Oops! It looks like \\\"{key}\\\" isn't quite right. Double check your logic, make some changes, and re-run!\", \"Data error\")\n",
    "        progress.update(assert_task, advance=1)\n",
    "    \n",
    "    if failed > 0:\n",
    "        problem_panel(f\"Oops! {failed} of {len(data.keys())} things aren't quite right\\nDouble check your logic, make some changes, and re-run!\", \"\")\n",
    "    else:\n",
    "        success_panel(\"Congratulations! Everything seems all good :) Feel free to move onto the next exercise!\", \"Exercise complete!\")"
   ]
  },
  {
   "cell_type": "markdown",
   "metadata": {},
   "source": [
    "# For-Loops\n",
    "\n",
    "Amazing work, that was the hardest challenge yet!\n",
    "\n",
    "Now, this is all wonderful, but we might want to *repeat* an action. For example, given the days we can watch a movie, what films can we watch?\n",
    "\n",
    "Let's begin by remembering back to arrays - let's define one with the days we can go watch a film:"
   ]
  },
  {
   "cell_type": "code",
   "execution_count": null,
   "metadata": {},
   "outputs": [],
   "source": [
    "days = [\"Monday\", \"Thursday\", \"Friday\", \"Saturday\"]\n",
    "\n",
    "# Now, we can run some code using every step of this by using a \"for\" loop\n",
    "\n",
    "for day in days:\n",
    "    print(\"It is currently \" + day)\n",
    "\n",
    "# Before running; have a think about what will happen!\n",
    "# After running; is it what you expected? If not, what do you think happened instead?"
   ]
  },
  {
   "cell_type": "markdown",
   "metadata": {},
   "source": [
    "If we remember we can \"push\" to an array, we can write a for loop that takes in some data, and, outputs new data into a different array.\n",
    "\n",
    "This might sound a little theoretical, so here's a quick demo."
   ]
  },
  {
   "cell_type": "code",
   "execution_count": null,
   "metadata": {},
   "outputs": [],
   "source": [
    "days = [\"Monday\", \"Thursday\", \"Friday\", \"Saturday\"]\n",
    "days_first_letter = []\n",
    "\n",
    "for day in days:\n",
    "    # (hint: the \"day[0]\" allows us to access the first letter of each string!)\n",
    "    days_first_letter.append(day[0])\n",
    "\n",
    "print(days_first_letter)\n",
    "\n",
    "# Again; have a think about what will happen before running this!\n",
    "# And, again; after running, is it what you expected? If not, what do you think happened instead?"
   ]
  },
  {
   "cell_type": "markdown",
   "metadata": {},
   "source": [
    "## Task\n",
    "\n",
    "Given the structure below, modify the for loop so the array \"is_it_thursday\" contains booleans (true or false).\n",
    "\n",
    "You should push `True` if the day is Thursday, otherwise push `False`.\n",
    "\n",
    "NOTE: in the below code we use a new keyword `pass`. When we use the keyword `pass` we are telling python not to complain that the loop is empty. `pass` can be used anywhere an indentation is created, like loops and if-statements."
   ]
  },
  {
   "cell_type": "code",
   "execution_count": 9,
   "metadata": {},
   "outputs": [
    {
     "data": {
      "text/html": [
       "<pre style=\"white-space:pre;overflow-x:auto;line-height:normal;font-family:Menlo,'DejaVu Sans Mono',consolas,'Courier New',monospace\"><span style=\"font-weight: bold\">[]</span>\n",
       "</pre>\n"
      ],
      "text/plain": [
       "\u001b[1m[\u001b[0m\u001b[1m]\u001b[0m\n"
      ]
     },
     "metadata": {},
     "output_type": "display_data"
    }
   ],
   "source": [
    "days = [\"Monday\", \"Thursday\", \"Friday\", \"Saturday\"]\n",
    "is_it_thursday = []\n",
    "\n",
    "for day in days:\n",
    "    # Pass is a filler statement\n",
    "    # We just put it somewhere so Python doesn't complain about nothing being there\n",
    "    # You should remove it and replace with your own code!\n",
    "    pass\n",
    "\n",
    "print(is_it_thursday)\n",
    "\n",
    "# If this is working correctly, you should see [False, True, False, False] output below!"
   ]
  },
  {
   "cell_type": "markdown",
   "metadata": {},
   "source": [
    "### Answer\n",
    "\n",
    "Run the block below to test your code."
   ]
  },
  {
   "cell_type": "code",
   "execution_count": 11,
   "metadata": {},
   "outputs": [
    {
     "data": {
      "application/vnd.jupyter.widget-view+json": {
       "model_id": "d77abc3030954dd2aef584688aaad9a4",
       "version_major": 2,
       "version_minor": 0
      },
      "text/plain": [
       "Output()"
      ]
     },
     "metadata": {},
     "output_type": "display_data"
    },
    {
     "data": {
      "text/html": [
       "<pre style=\"white-space:pre;overflow-x:auto;line-height:normal;font-family:Menlo,'DejaVu Sans Mono',consolas,'Courier New',monospace\"><span style=\"color: #800000; text-decoration-color: #800000\">╭────────────────────────────────────────────────── Data error ───────────────────────────────────────────────────╮</span>\n",
       "<span style=\"color: #800000; text-decoration-color: #800000\">│</span> Oops! It looks like \"is_it_thursday\" isn't quite right. Double check your logic, make some changes, and re-run! <span style=\"color: #800000; text-decoration-color: #800000\">│</span>\n",
       "<span style=\"color: #800000; text-decoration-color: #800000\">╰─────────────────────────────────────────────────────────────────────────────────────────────────────────────────╯</span>\n",
       "</pre>\n"
      ],
      "text/plain": [
       "\u001b[31m╭─\u001b[0m\u001b[31m─────────────────────────────────────────────────\u001b[0m\u001b[31m Data error \u001b[0m\u001b[31m──────────────────────────────────────────────────\u001b[0m\u001b[31m─╮\u001b[0m\n",
       "\u001b[31m│\u001b[0m Oops! It looks like \"is_it_thursday\" isn't quite right. Double check your logic, make some changes, and re-run! \u001b[31m│\u001b[0m\n",
       "\u001b[31m╰─────────────────────────────────────────────────────────────────────────────────────────────────────────────────╯\u001b[0m\n"
      ]
     },
     "metadata": {},
     "output_type": "display_data"
    },
    {
     "data": {
      "text/html": [
       "<pre style=\"white-space:pre;overflow-x:auto;line-height:normal;font-family:Menlo,'DejaVu Sans Mono',consolas,'Courier New',monospace\"><span style=\"color: #800000; text-decoration-color: #800000\">╭─────────────────────────────────────────────────────────────────────────────────────────────────────────────────╮</span>\n",
       "<span style=\"color: #800000; text-decoration-color: #800000\">│</span> Oops! 1 of 1 things aren't quite right                                                                          <span style=\"color: #800000; text-decoration-color: #800000\">│</span>\n",
       "<span style=\"color: #800000; text-decoration-color: #800000\">│</span> Double check your logic, make some changes, and re-run!                                                         <span style=\"color: #800000; text-decoration-color: #800000\">│</span>\n",
       "<span style=\"color: #800000; text-decoration-color: #800000\">╰─────────────────────────────────────────────────────────────────────────────────────────────────────────────────╯</span>\n",
       "</pre>\n"
      ],
      "text/plain": [
       "\u001b[31m╭─────────────────────────────────────────────────────────────────────────────────────────────────────────────────╮\u001b[0m\n",
       "\u001b[31m│\u001b[0m Oops! 1 of 1 things aren't quite right                                                                          \u001b[31m│\u001b[0m\n",
       "\u001b[31m│\u001b[0m Double check your logic, make some changes, and re-run!                                                         \u001b[31m│\u001b[0m\n",
       "\u001b[31m╰─────────────────────────────────────────────────────────────────────────────────────────────────────────────────╯\u001b[0m\n"
      ]
     },
     "metadata": {},
     "output_type": "display_data"
    },
    {
     "data": {
      "text/html": [
       "<pre style=\"white-space:pre;overflow-x:auto;line-height:normal;font-family:Menlo,'DejaVu Sans Mono',consolas,'Courier New',monospace\"></pre>\n"
      ],
      "text/plain": []
     },
     "metadata": {},
     "output_type": "display_data"
    },
    {
     "data": {
      "text/html": [
       "<pre style=\"white-space:pre;overflow-x:auto;line-height:normal;font-family:Menlo,'DejaVu Sans Mono',consolas,'Courier New',monospace\">\n",
       "</pre>\n"
      ],
      "text/plain": [
       "\n"
      ]
     },
     "metadata": {},
     "output_type": "display_data"
    }
   ],
   "source": [
    "# expected answer\n",
    "data = {\n",
    "    \"is_it_thursday\": [False, True, False, False]\n",
    "}\n",
    "\n",
    "import time\n",
    "import traceback\n",
    "import sys\n",
    "from rich.progress import Progress\n",
    "from rich import print\n",
    "from rich.panel import Panel\n",
    "\n",
    "def success_panel(msg: str, title: str) -> None:\n",
    "    print(Panel(msg, title=title, border_style=\"green\"))\n",
    "\n",
    "def problem_panel(msg: str, title: str) -> None:\n",
    "    print(Panel(msg, title=title, border_style=\"red\"))\n",
    "\n",
    "\n",
    "with Progress() as progress:\n",
    "    assert_task = progress.add_task(\"[green]Checking solution...\", total=len(data.keys()))\n",
    "    failed = 0\n",
    "    for key in data.keys():\n",
    "        value = data[key]\n",
    "        try:\n",
    "            assert(globals()[key] == value)\n",
    "            success_panel(f\"Congratulations! \\\"{key}\\\" is equal to the expected value of {value}\", title=\"Data verified\")\n",
    "        except KeyError as e:\n",
    "            failed += 1\n",
    "            problem_panel(f\"\\\"{key}\\\" isn't defined...\", \"Undefined variable\")\n",
    "        except AssertionError as e:\n",
    "            failed += 1\n",
    "            problem_panel(f\"Oops! It looks like \\\"{key}\\\" isn't quite right. Double check your logic, make some changes, and re-run!\", \"Data error\")\n",
    "        progress.update(assert_task, advance=1)\n",
    "    \n",
    "    if failed > 0:\n",
    "        problem_panel(f\"Oops! {failed} of {len(data.keys())} things aren't quite right\\nDouble check your logic, make some changes, and re-run!\", \"\")\n",
    "    else:\n",
    "        success_panel(\"Congratulations! Everything seems all good :) Feel free to move onto the next exercise!\", \"Exercise complete!\")\n"
   ]
  },
  {
   "cell_type": "markdown",
   "metadata": {},
   "source": [
    "## Task\n",
    "\n",
    "Fill `days_of_the_week_sentences` with strings saying \"It is [current day of week]!\"\n",
    "\n",
    "Try to remember back to string concatenation, and you might want to use the `prefix` and `suffix` values!"
   ]
  },
  {
   "cell_type": "code",
   "execution_count": 17,
   "metadata": {},
   "outputs": [
    {
     "data": {
      "text/html": [
       "<pre style=\"white-space:pre;overflow-x:auto;line-height:normal;font-family:Menlo,'DejaVu Sans Mono',consolas,'Courier New',monospace\"><span style=\"font-weight: bold\">[]</span>\n",
       "</pre>\n"
      ],
      "text/plain": [
       "\u001b[1m[\u001b[0m\u001b[1m]\u001b[0m\n"
      ]
     },
     "metadata": {},
     "output_type": "display_data"
    }
   ],
   "source": [
    "days = [\"Monday\", \"Thursday\", \"Friday\", \"Saturday\"]\n",
    "day_of_the_week_sentences = []\n",
    "for day in days:\n",
    "    prefix = \"It is \"\n",
    "    suffix = \"!\"\n",
    "\n",
    "    # NOTE: your code here!\n",
    "\n",
    "print(day_of_the_week_sentences)"
   ]
  },
  {
   "cell_type": "markdown",
   "metadata": {},
   "source": [
    "### Answer\n",
    "\n",
    "Run the block below to test your code."
   ]
  },
  {
   "cell_type": "code",
   "execution_count": 18,
   "metadata": {},
   "outputs": [
    {
     "data": {
      "application/vnd.jupyter.widget-view+json": {
       "model_id": "f4e25947dda64546a972f6f32bd51375",
       "version_major": 2,
       "version_minor": 0
      },
      "text/plain": [
       "Output()"
      ]
     },
     "metadata": {},
     "output_type": "display_data"
    },
    {
     "data": {
      "text/html": [
       "<pre style=\"white-space:pre;overflow-x:auto;line-height:normal;font-family:Menlo,'DejaVu Sans Mono',consolas,'Courier New',monospace\"><span style=\"color: #800000; text-decoration-color: #800000\">╭────────────────────────────────────────────────── Data error ───────────────────────────────────────────────────╮</span>\n",
       "<span style=\"color: #800000; text-decoration-color: #800000\">│</span> Oops! It looks like \"day_of_the_week_sentences\" isn't quite right. Double check your logic, make some changes,  <span style=\"color: #800000; text-decoration-color: #800000\">│</span>\n",
       "<span style=\"color: #800000; text-decoration-color: #800000\">│</span> and re-run!                                                                                                     <span style=\"color: #800000; text-decoration-color: #800000\">│</span>\n",
       "<span style=\"color: #800000; text-decoration-color: #800000\">╰─────────────────────────────────────────────────────────────────────────────────────────────────────────────────╯</span>\n",
       "</pre>\n"
      ],
      "text/plain": [
       "\u001b[31m╭─\u001b[0m\u001b[31m─────────────────────────────────────────────────\u001b[0m\u001b[31m Data error \u001b[0m\u001b[31m──────────────────────────────────────────────────\u001b[0m\u001b[31m─╮\u001b[0m\n",
       "\u001b[31m│\u001b[0m Oops! It looks like \"day_of_the_week_sentences\" isn't quite right. Double check your logic, make some changes,  \u001b[31m│\u001b[0m\n",
       "\u001b[31m│\u001b[0m and re-run!                                                                                                     \u001b[31m│\u001b[0m\n",
       "\u001b[31m╰─────────────────────────────────────────────────────────────────────────────────────────────────────────────────╯\u001b[0m\n"
      ]
     },
     "metadata": {},
     "output_type": "display_data"
    },
    {
     "data": {
      "text/html": [
       "<pre style=\"white-space:pre;overflow-x:auto;line-height:normal;font-family:Menlo,'DejaVu Sans Mono',consolas,'Courier New',monospace\"><span style=\"color: #800000; text-decoration-color: #800000\">╭─────────────────────────────────────────────────────────────────────────────────────────────────────────────────╮</span>\n",
       "<span style=\"color: #800000; text-decoration-color: #800000\">│</span> Oops! 1 of 1 things aren't quite right                                                                          <span style=\"color: #800000; text-decoration-color: #800000\">│</span>\n",
       "<span style=\"color: #800000; text-decoration-color: #800000\">│</span> Double check your logic, make some changes, and re-run!                                                         <span style=\"color: #800000; text-decoration-color: #800000\">│</span>\n",
       "<span style=\"color: #800000; text-decoration-color: #800000\">╰─────────────────────────────────────────────────────────────────────────────────────────────────────────────────╯</span>\n",
       "</pre>\n"
      ],
      "text/plain": [
       "\u001b[31m╭─────────────────────────────────────────────────────────────────────────────────────────────────────────────────╮\u001b[0m\n",
       "\u001b[31m│\u001b[0m Oops! 1 of 1 things aren't quite right                                                                          \u001b[31m│\u001b[0m\n",
       "\u001b[31m│\u001b[0m Double check your logic, make some changes, and re-run!                                                         \u001b[31m│\u001b[0m\n",
       "\u001b[31m╰─────────────────────────────────────────────────────────────────────────────────────────────────────────────────╯\u001b[0m\n"
      ]
     },
     "metadata": {},
     "output_type": "display_data"
    },
    {
     "data": {
      "text/html": [
       "<pre style=\"white-space:pre;overflow-x:auto;line-height:normal;font-family:Menlo,'DejaVu Sans Mono',consolas,'Courier New',monospace\"></pre>\n"
      ],
      "text/plain": []
     },
     "metadata": {},
     "output_type": "display_data"
    },
    {
     "data": {
      "text/html": [
       "<pre style=\"white-space:pre;overflow-x:auto;line-height:normal;font-family:Menlo,'DejaVu Sans Mono',consolas,'Courier New',monospace\">\n",
       "</pre>\n"
      ],
      "text/plain": [
       "\n"
      ]
     },
     "metadata": {},
     "output_type": "display_data"
    }
   ],
   "source": [
    "# expected answer\n",
    "data = {\n",
    "    \"day_of_the_week_sentences\": [\"It is Monday!\", \"It is Thursday!\", \"It is Friday!\", \"It is Saturday!\"]\n",
    "}\n",
    "\n",
    "import time\n",
    "import traceback\n",
    "import sys\n",
    "from rich.progress import Progress\n",
    "from rich import print\n",
    "from rich.panel import Panel\n",
    "\n",
    "def success_panel(msg: str, title: str) -> None:\n",
    "    print(Panel(msg, title=title, border_style=\"green\"))\n",
    "\n",
    "def problem_panel(msg: str, title: str) -> None:\n",
    "    print(Panel(msg, title=title, border_style=\"red\"))\n",
    "\n",
    "\n",
    "with Progress() as progress:\n",
    "    assert_task = progress.add_task(\"[green]Checking solution...\", total=len(data.keys()))\n",
    "    failed = 0\n",
    "    for key in data.keys():\n",
    "        value = data[key]\n",
    "        try:\n",
    "            assert(globals()[key] == value)\n",
    "            success_panel(f\"Congratulations! \\\"{key}\\\" is equal to the expected value of {value}\", title=\"Data verified\")\n",
    "        except KeyError as e:\n",
    "            failed += 1\n",
    "            problem_panel(f\"\\\"{key}\\\" isn't defined...\", \"Undefined variable\")\n",
    "        except AssertionError as e:\n",
    "            failed += 1\n",
    "            problem_panel(f\"Oops! It looks like \\\"{key}\\\" isn't quite right. Double check your logic, make some changes, and re-run!\", \"Data error\")\n",
    "        progress.update(assert_task, advance=1)\n",
    "    \n",
    "    if failed > 0:\n",
    "        problem_panel(f\"Oops! {failed} of {len(data.keys())} things aren't quite right\\nDouble check your logic, make some changes, and re-run!\", \"\")\n",
    "    else:\n",
    "        success_panel(\"Congratulations! Everything seems all good :) Feel free to move onto the next exercise!\", \"Exercise complete!\")\n"
   ]
  },
  {
   "cell_type": "markdown",
   "metadata": {},
   "source": [
    "# Ranges\n",
    "\n",
    "This is very helpful, but, we might want to have some function that uses a counting number. We could do this using something like the following\n",
    "\n",
    "```python3\n",
    "numbers = [0,1,2,3,4,5,6,7,8]\n",
    "for num in numbers:\n",
    "    print(num)\n",
    "```\n",
    "\n",
    "However, this could get tedious to update if we want to change where we start, or where we end. The `range` method allows us to condense this to the following:\n",
    "\n",
    "```python3\n",
    "for num in range(0, 9):\n",
    "    print(num)\n",
    "```\n",
    "\n",
    "The `range` method takes two essential parameters - the first is the start value, which will be included. The second value is the end value, which will be excluded; IE: here, we will print 0,1,2,3,4,5,6,7,8 but **not** 9!"
   ]
  },
  {
   "cell_type": "markdown",
   "metadata": {},
   "source": [
    "## Task\n",
    "\n",
    "Give this a go in the following task: loop through the numbers `0..10` inclusive (including both 0 and 10) and write $2x$ (double), where $x$ is each item of the list, into the `two_x_nums` list!\n",
    "\n",
    "Your output should be something like `[0,2,4,6,...]`"
   ]
  },
  {
   "cell_type": "code",
   "execution_count": 24,
   "metadata": {},
   "outputs": [
    {
     "data": {
      "text/html": [
       "<pre style=\"white-space:pre;overflow-x:auto;line-height:normal;font-family:Menlo,'DejaVu Sans Mono',consolas,'Courier New',monospace\"><span style=\"font-weight: bold\">[]</span>\n",
       "</pre>\n"
      ],
      "text/plain": [
       "\u001b[1m[\u001b[0m\u001b[1m]\u001b[0m\n"
      ]
     },
     "metadata": {},
     "output_type": "display_data"
    }
   ],
   "source": [
    "two_x_nums = []\n",
    "\n",
    "# TODO: Write your code here!\n",
    "\n",
    "print(two_x_nums)"
   ]
  },
  {
   "cell_type": "markdown",
   "metadata": {},
   "source": [
    "### Answer\n",
    "\n",
    "Run the block below to test your code."
   ]
  },
  {
   "cell_type": "code",
   "execution_count": 25,
   "metadata": {},
   "outputs": [
    {
     "data": {
      "application/vnd.jupyter.widget-view+json": {
       "model_id": "d221ab76c0804b899a03acd80f012ec4",
       "version_major": 2,
       "version_minor": 0
      },
      "text/plain": [
       "Output()"
      ]
     },
     "metadata": {},
     "output_type": "display_data"
    },
    {
     "data": {
      "text/html": [
       "<pre style=\"white-space:pre;overflow-x:auto;line-height:normal;font-family:Menlo,'DejaVu Sans Mono',consolas,'Courier New',monospace\"><span style=\"color: #800000; text-decoration-color: #800000\">╭────────────────────────────────────────────────── Data error ───────────────────────────────────────────────────╮</span>\n",
       "<span style=\"color: #800000; text-decoration-color: #800000\">│</span> Oops! It looks like \"two_x_nums\" isn't quite right. Double check your logic, make some changes, and re-run!     <span style=\"color: #800000; text-decoration-color: #800000\">│</span>\n",
       "<span style=\"color: #800000; text-decoration-color: #800000\">╰─────────────────────────────────────────────────────────────────────────────────────────────────────────────────╯</span>\n",
       "</pre>\n"
      ],
      "text/plain": [
       "\u001b[31m╭─\u001b[0m\u001b[31m─────────────────────────────────────────────────\u001b[0m\u001b[31m Data error \u001b[0m\u001b[31m──────────────────────────────────────────────────\u001b[0m\u001b[31m─╮\u001b[0m\n",
       "\u001b[31m│\u001b[0m Oops! It looks like \"two_x_nums\" isn't quite right. Double check your logic, make some changes, and re-run!     \u001b[31m│\u001b[0m\n",
       "\u001b[31m╰─────────────────────────────────────────────────────────────────────────────────────────────────────────────────╯\u001b[0m\n"
      ]
     },
     "metadata": {},
     "output_type": "display_data"
    },
    {
     "data": {
      "text/html": [
       "<pre style=\"white-space:pre;overflow-x:auto;line-height:normal;font-family:Menlo,'DejaVu Sans Mono',consolas,'Courier New',monospace\"><span style=\"color: #800000; text-decoration-color: #800000\">╭─────────────────────────────────────────────────────────────────────────────────────────────────────────────────╮</span>\n",
       "<span style=\"color: #800000; text-decoration-color: #800000\">│</span> Oops! 1 of 1 things aren't quite right                                                                          <span style=\"color: #800000; text-decoration-color: #800000\">│</span>\n",
       "<span style=\"color: #800000; text-decoration-color: #800000\">│</span> Double check your logic, make some changes, and re-run!                                                         <span style=\"color: #800000; text-decoration-color: #800000\">│</span>\n",
       "<span style=\"color: #800000; text-decoration-color: #800000\">╰─────────────────────────────────────────────────────────────────────────────────────────────────────────────────╯</span>\n",
       "</pre>\n"
      ],
      "text/plain": [
       "\u001b[31m╭─────────────────────────────────────────────────────────────────────────────────────────────────────────────────╮\u001b[0m\n",
       "\u001b[31m│\u001b[0m Oops! 1 of 1 things aren't quite right                                                                          \u001b[31m│\u001b[0m\n",
       "\u001b[31m│\u001b[0m Double check your logic, make some changes, and re-run!                                                         \u001b[31m│\u001b[0m\n",
       "\u001b[31m╰─────────────────────────────────────────────────────────────────────────────────────────────────────────────────╯\u001b[0m\n"
      ]
     },
     "metadata": {},
     "output_type": "display_data"
    },
    {
     "data": {
      "text/html": [
       "<pre style=\"white-space:pre;overflow-x:auto;line-height:normal;font-family:Menlo,'DejaVu Sans Mono',consolas,'Courier New',monospace\"></pre>\n"
      ],
      "text/plain": []
     },
     "metadata": {},
     "output_type": "display_data"
    },
    {
     "data": {
      "text/html": [
       "<pre style=\"white-space:pre;overflow-x:auto;line-height:normal;font-family:Menlo,'DejaVu Sans Mono',consolas,'Courier New',monospace\">\n",
       "</pre>\n"
      ],
      "text/plain": [
       "\n"
      ]
     },
     "metadata": {},
     "output_type": "display_data"
    }
   ],
   "source": [
    "# expected answer\n",
    "data = {\n",
    "    \"two_x_nums\": list(range(0, 21, 2))\n",
    "}\n",
    "\n",
    "import time\n",
    "import traceback\n",
    "import sys\n",
    "from rich.progress import Progress\n",
    "from rich import print\n",
    "from rich.panel import Panel\n",
    "\n",
    "def success_panel(msg: str, title: str) -> None:\n",
    "    print(Panel(msg, title=title, border_style=\"green\"))\n",
    "\n",
    "def problem_panel(msg: str, title: str) -> None:\n",
    "    print(Panel(msg, title=title, border_style=\"red\"))\n",
    "\n",
    "\n",
    "with Progress() as progress:\n",
    "    assert_task = progress.add_task(\"[green]Checking solution...\", total=len(data.keys()))\n",
    "    failed = 0\n",
    "    for key in data.keys():\n",
    "        value = data[key]\n",
    "        try:\n",
    "            assert(globals()[key] == value)\n",
    "            success_panel(f\"Congratulations! \\\"{key}\\\" is equal to the expected value of {value}\", title=\"Data verified\")\n",
    "        except KeyError as e:\n",
    "            failed += 1\n",
    "            problem_panel(f\"\\\"{key}\\\" isn't defined...\", \"Undefined variable\")\n",
    "        except AssertionError as e:\n",
    "            failed += 1\n",
    "            problem_panel(f\"Oops! It looks like \\\"{key}\\\" isn't quite right. Double check your logic, make some changes, and re-run!\", \"Data error\")\n",
    "        progress.update(assert_task, advance=1)\n",
    "    \n",
    "    if failed > 0:\n",
    "        problem_panel(f\"Oops! {failed} of {len(data.keys())} things aren't quite right\\nDouble check your logic, make some changes, and re-run!\", \"\")\n",
    "    else:\n",
    "        success_panel(\"Congratulations! Everything seems all good :) Feel free to move onto the next exercise!\", \"Exercise complete!\")\n"
   ]
  },
  {
   "cell_type": "markdown",
   "metadata": {},
   "source": [
    "# While-Loops\n",
    "\n",
    "We've currently looked at for loops - which execute for every item in a collection. However, we might want some code that runs an \"indeterminate\" amount of times - that is, it keeps running while a condition is true.\n",
    "\n",
    "To do this, we can use a \"while loop\". Check out the example below!"
   ]
  },
  {
   "cell_type": "code",
   "execution_count": 26,
   "metadata": {},
   "outputs": [
    {
     "data": {
      "text/html": [
       "<pre style=\"white-space:pre;overflow-x:auto;line-height:normal;font-family:Menlo,'DejaVu Sans Mono',consolas,'Courier New',monospace\"><span style=\"color: #008080; text-decoration-color: #008080; font-weight: bold\">10</span>\n",
       "</pre>\n"
      ],
      "text/plain": [
       "\u001b[1;36m10\u001b[0m\n"
      ]
     },
     "metadata": {},
     "output_type": "display_data"
    }
   ],
   "source": [
    "x = 0\n",
    "while x < 10:\n",
    "    x += 1\n",
    "print(x)"
   ]
  },
  {
   "cell_type": "markdown",
   "metadata": {},
   "source": [
    "Did you notice that `while` uses some comparison? This is really helpful for us in a lot of contexts - but, you have to be careful, as you could potentially write a program which will never stop running.\n",
    "\n",
    "The following example is a program that does exactly that! `True` is always going to be... well `True`, so, the code below will run forever. `pass` is a nothing statement, so essentially the program will get stuck doing nothing."
   ]
  },
  {
   "cell_type": "code",
   "execution_count": 27,
   "metadata": {},
   "outputs": [
    {
     "ename": "KeyboardInterrupt",
     "evalue": "",
     "output_type": "error",
     "traceback": [
      "\u001b[1;31m---------------------------------------------------------------------------\u001b[0m",
      "\u001b[1;31mKeyboardInterrupt\u001b[0m                         Traceback (most recent call last)",
      "Cell \u001b[1;32mIn[27], line 1\u001b[0m\n\u001b[1;32m----> 1\u001b[0m \u001b[38;5;28;01mwhile\u001b[39;00m \u001b[38;5;28;01mTrue\u001b[39;00m:\n\u001b[0;32m      2\u001b[0m     \u001b[38;5;28;01mpass\u001b[39;00m\n",
      "\u001b[1;31mKeyboardInterrupt\u001b[0m: "
     ]
    }
   ],
   "source": [
    "while True:\n",
    "    pass"
   ]
  },
  {
   "cell_type": "markdown",
   "metadata": {},
   "source": [
    "As explained in the videos, while-loops are like if-statements that keep checking over and over, expecting the compared value to eventually change. The problem with infinite loops happens when the value never changes.\n",
    "\n",
    "Lets try a very common exercise with while loops now!"
   ]
  },
  {
   "cell_type": "markdown",
   "metadata": {},
   "source": [
    "## Task\n",
    "\n",
    "The Fibonacci sequence is a very important sequence of numbers that comes up a lot in both maths and computer science. It starts with two numbers, `0` and `1`, and each number in the sequence after that is defined by adding the two previous numbers together, as shown:\n",
    "\n",
    "| Position | Value |\n",
    "| -------: | ----: |\n",
    "| 0 | 0 |\n",
    "| 1 | 1 |\n",
    "| 2 | 1 |\n",
    "| 3 | 2 |\n",
    "| 4 | 3 |\n",
    "| 5 | 5 |\n",
    "| 6 | 8 |\n",
    "| 7 | 13 |\n",
    "| 8 | 21 |\n",
    "\n",
    "Your task is to make a list of all Fibonacci numbers that are less than 20. "
   ]
  },
  {
   "cell_type": "code",
   "execution_count": 33,
   "metadata": {},
   "outputs": [
    {
     "data": {
      "text/html": [
       "<pre style=\"white-space:pre;overflow-x:auto;line-height:normal;font-family:Menlo,'DejaVu Sans Mono',consolas,'Courier New',monospace\"><span style=\"font-weight: bold\">[</span><span style=\"color: #008080; text-decoration-color: #008080; font-weight: bold\">0</span>, <span style=\"color: #008080; text-decoration-color: #008080; font-weight: bold\">1</span><span style=\"font-weight: bold\">]</span>\n",
       "</pre>\n"
      ],
      "text/plain": [
       "\u001b[1m[\u001b[0m\u001b[1;36m0\u001b[0m, \u001b[1;36m1\u001b[0m\u001b[1m]\u001b[0m\n"
      ]
     },
     "metadata": {},
     "output_type": "display_data"
    }
   ],
   "source": [
    "fibonacci = [0, 1]\n",
    "\n",
    "a = 0\n",
    "b = 1\n",
    "\n",
    "# TODO: write your while loop here!\n",
    "\n",
    "print(fibonacci)"
   ]
  },
  {
   "cell_type": "markdown",
   "metadata": {},
   "source": [
    "### Answer\n",
    "\n",
    "Run the block below to test your code."
   ]
  },
  {
   "cell_type": "code",
   "execution_count": 34,
   "metadata": {},
   "outputs": [
    {
     "data": {
      "application/vnd.jupyter.widget-view+json": {
       "model_id": "72deb915657c41bdbc3f9d52f3ca8f22",
       "version_major": 2,
       "version_minor": 0
      },
      "text/plain": [
       "Output()"
      ]
     },
     "metadata": {},
     "output_type": "display_data"
    },
    {
     "data": {
      "text/html": [
       "<pre style=\"white-space:pre;overflow-x:auto;line-height:normal;font-family:Menlo,'DejaVu Sans Mono',consolas,'Courier New',monospace\"><span style=\"color: #800000; text-decoration-color: #800000\">╭────────────────────────────────────────────────── Data error ───────────────────────────────────────────────────╮</span>\n",
       "<span style=\"color: #800000; text-decoration-color: #800000\">│</span> Oops! It looks like \"fibonacci\" isn't quite right. Double check your logic, make some changes, and re-run!      <span style=\"color: #800000; text-decoration-color: #800000\">│</span>\n",
       "<span style=\"color: #800000; text-decoration-color: #800000\">╰─────────────────────────────────────────────────────────────────────────────────────────────────────────────────╯</span>\n",
       "</pre>\n"
      ],
      "text/plain": [
       "\u001b[31m╭─\u001b[0m\u001b[31m─────────────────────────────────────────────────\u001b[0m\u001b[31m Data error \u001b[0m\u001b[31m──────────────────────────────────────────────────\u001b[0m\u001b[31m─╮\u001b[0m\n",
       "\u001b[31m│\u001b[0m Oops! It looks like \"fibonacci\" isn't quite right. Double check your logic, make some changes, and re-run!      \u001b[31m│\u001b[0m\n",
       "\u001b[31m╰─────────────────────────────────────────────────────────────────────────────────────────────────────────────────╯\u001b[0m\n"
      ]
     },
     "metadata": {},
     "output_type": "display_data"
    },
    {
     "data": {
      "text/html": [
       "<pre style=\"white-space:pre;overflow-x:auto;line-height:normal;font-family:Menlo,'DejaVu Sans Mono',consolas,'Courier New',monospace\"><span style=\"color: #800000; text-decoration-color: #800000\">╭─────────────────────────────────────────────────────────────────────────────────────────────────────────────────╮</span>\n",
       "<span style=\"color: #800000; text-decoration-color: #800000\">│</span> Oops! 1 of 1 things aren't quite right                                                                          <span style=\"color: #800000; text-decoration-color: #800000\">│</span>\n",
       "<span style=\"color: #800000; text-decoration-color: #800000\">│</span> Double check your logic, make some changes, and re-run!                                                         <span style=\"color: #800000; text-decoration-color: #800000\">│</span>\n",
       "<span style=\"color: #800000; text-decoration-color: #800000\">╰─────────────────────────────────────────────────────────────────────────────────────────────────────────────────╯</span>\n",
       "</pre>\n"
      ],
      "text/plain": [
       "\u001b[31m╭─────────────────────────────────────────────────────────────────────────────────────────────────────────────────╮\u001b[0m\n",
       "\u001b[31m│\u001b[0m Oops! 1 of 1 things aren't quite right                                                                          \u001b[31m│\u001b[0m\n",
       "\u001b[31m│\u001b[0m Double check your logic, make some changes, and re-run!                                                         \u001b[31m│\u001b[0m\n",
       "\u001b[31m╰─────────────────────────────────────────────────────────────────────────────────────────────────────────────────╯\u001b[0m\n"
      ]
     },
     "metadata": {},
     "output_type": "display_data"
    },
    {
     "data": {
      "text/html": [
       "<pre style=\"white-space:pre;overflow-x:auto;line-height:normal;font-family:Menlo,'DejaVu Sans Mono',consolas,'Courier New',monospace\"></pre>\n"
      ],
      "text/plain": []
     },
     "metadata": {},
     "output_type": "display_data"
    },
    {
     "data": {
      "text/html": [
       "<pre style=\"white-space:pre;overflow-x:auto;line-height:normal;font-family:Menlo,'DejaVu Sans Mono',consolas,'Courier New',monospace\">\n",
       "</pre>\n"
      ],
      "text/plain": [
       "\n"
      ]
     },
     "metadata": {},
     "output_type": "display_data"
    }
   ],
   "source": [
    "# expected answer\n",
    "data = {\n",
    "    \"fibonacci\": [0, 1, 1, 2, 3, 5, 8, 13]\n",
    "}\n",
    "\n",
    "import time\n",
    "import traceback\n",
    "import sys\n",
    "from rich.progress import Progress\n",
    "from rich import print\n",
    "from rich.panel import Panel\n",
    "\n",
    "def success_panel(msg: str, title: str) -> None:\n",
    "    print(Panel(msg, title=title, border_style=\"green\"))\n",
    "\n",
    "def problem_panel(msg: str, title: str) -> None:\n",
    "    print(Panel(msg, title=title, border_style=\"red\"))\n",
    "\n",
    "\n",
    "with Progress() as progress:\n",
    "    assert_task = progress.add_task(\"[green]Checking solution...\", total=len(data.keys()))\n",
    "    failed = 0\n",
    "    for key in data.keys():\n",
    "        value = data[key]\n",
    "        try:\n",
    "            assert(globals()[key] == value)\n",
    "            success_panel(f\"Congratulations! \\\"{key}\\\" is equal to the expected value of {value}\", title=\"Data verified\")\n",
    "        except KeyError as e:\n",
    "            failed += 1\n",
    "            problem_panel(f\"\\\"{key}\\\" isn't defined...\", \"Undefined variable\")\n",
    "        except AssertionError as e:\n",
    "            failed += 1\n",
    "            problem_panel(f\"Oops! It looks like \\\"{key}\\\" isn't quite right. Double check your logic, make some changes, and re-run!\", \"Data error\")\n",
    "        progress.update(assert_task, advance=1)\n",
    "    \n",
    "    if failed > 0:\n",
    "        problem_panel(f\"Oops! {failed} of {len(data.keys())} things aren't quite right\\nDouble check your logic, make some changes, and re-run!\", \"\")\n",
    "    else:\n",
    "        success_panel(\"Congratulations! Everything seems all good :) Feel free to move onto the next exercise!\", \"Exercise complete!\")"
   ]
  },
  {
   "cell_type": "markdown",
   "metadata": {},
   "source": [
    "# Continue and Break\n",
    "\n",
    "We have 2 new keywords to introduce that let us do some extra stuff in our loops."
   ]
  },
  {
   "cell_type": "markdown",
   "metadata": {},
   "source": [
    "## Continue\n",
    "\n",
    "First, lets look at some code that is quite hard to read."
   ]
  },
  {
   "cell_type": "code",
   "execution_count": 35,
   "metadata": {},
   "outputs": [
    {
     "data": {
      "text/html": [
       "<pre style=\"white-space:pre;overflow-x:auto;line-height:normal;font-family:Menlo,'DejaVu Sans Mono',consolas,'Courier New',monospace\"><span style=\"font-weight: bold\">[</span><span style=\"color: #008080; text-decoration-color: #008080; font-weight: bold\">4</span>, <span style=\"color: #008080; text-decoration-color: #008080; font-weight: bold\">124</span>, <span style=\"color: #008080; text-decoration-color: #008080; font-weight: bold\">244</span>, <span style=\"color: #008080; text-decoration-color: #008080; font-weight: bold\">364</span>, <span style=\"color: #008080; text-decoration-color: #008080; font-weight: bold\">484</span>, <span style=\"color: #008080; text-decoration-color: #008080; font-weight: bold\">604</span>, <span style=\"color: #008080; text-decoration-color: #008080; font-weight: bold\">724</span><span style=\"font-weight: bold\">]</span>\n",
       "</pre>\n"
      ],
      "text/plain": [
       "\u001b[1m[\u001b[0m\u001b[1;36m4\u001b[0m, \u001b[1;36m124\u001b[0m, \u001b[1;36m244\u001b[0m, \u001b[1;36m364\u001b[0m, \u001b[1;36m484\u001b[0m, \u001b[1;36m604\u001b[0m, \u001b[1;36m724\u001b[0m\u001b[1m]\u001b[0m\n"
      ]
     },
     "metadata": {},
     "output_type": "display_data"
    }
   ],
   "source": [
    "# This code goes through all numbers [0..200]\n",
    "# if a number is a multiple of 2, and a multiple of 3, and a multiple of 5, the number is doubled, then 2 is added, then doubled again\n",
    "# the result is added to the results list\n",
    "\n",
    "results = []\n",
    "\n",
    "for i in range(0, 201):\n",
    "    if i % 2 == 0:\n",
    "        if i % 3 == 0:\n",
    "            if i % 5 == 0:\n",
    "                # here we know that i is a multiple of 2, 3, and 5\n",
    "                i = i * 2\n",
    "                i = i + 2\n",
    "                i = i * 2\n",
    "                results.append(i)\n",
    "\n",
    "print(results)"
   ]
  },
  {
   "cell_type": "markdown",
   "metadata": {},
   "source": [
    "The above code is hard to read because it is so indented. There are many ways we could fix this, but for now lets look at the `continue` keyword.\n",
    "\n",
    "`continue` immediately goes to the next iteration of the loop, skipping over any other code in the loop. See the code below for a demonstration."
   ]
  },
  {
   "cell_type": "code",
   "execution_count": 36,
   "metadata": {},
   "outputs": [
    {
     "data": {
      "text/html": [
       "<pre style=\"white-space:pre;overflow-x:auto;line-height:normal;font-family:Menlo,'DejaVu Sans Mono',consolas,'Courier New',monospace\"><span style=\"font-weight: bold\">[</span><span style=\"color: #008080; text-decoration-color: #008080; font-weight: bold\">4</span>, <span style=\"color: #008080; text-decoration-color: #008080; font-weight: bold\">124</span>, <span style=\"color: #008080; text-decoration-color: #008080; font-weight: bold\">244</span>, <span style=\"color: #008080; text-decoration-color: #008080; font-weight: bold\">364</span>, <span style=\"color: #008080; text-decoration-color: #008080; font-weight: bold\">484</span>, <span style=\"color: #008080; text-decoration-color: #008080; font-weight: bold\">604</span>, <span style=\"color: #008080; text-decoration-color: #008080; font-weight: bold\">724</span><span style=\"font-weight: bold\">]</span>\n",
       "</pre>\n"
      ],
      "text/plain": [
       "\u001b[1m[\u001b[0m\u001b[1;36m4\u001b[0m, \u001b[1;36m124\u001b[0m, \u001b[1;36m244\u001b[0m, \u001b[1;36m364\u001b[0m, \u001b[1;36m484\u001b[0m, \u001b[1;36m604\u001b[0m, \u001b[1;36m724\u001b[0m\u001b[1m]\u001b[0m\n"
      ]
     },
     "metadata": {},
     "output_type": "display_data"
    }
   ],
   "source": [
    "results = []\n",
    "\n",
    "for i in range(0, 201):\n",
    "    if i % 2 != 0:\n",
    "        continue # if i is not a multiple of 2, skip to the next iteration\n",
    "    if i % 3 != 0:\n",
    "        continue # if i is not a multiple of 3, skip to the next iteration\n",
    "    if i % 5 != 0:\n",
    "        continue # if i is not a multiple of 5, skip to the next iteration\n",
    "\n",
    "    # here we know that i is a multiple of 2, 3, and 5\n",
    "    i = i * 2\n",
    "    i = i + 2\n",
    "    i = i * 2\n",
    "    results.append(i)\n",
    "\n",
    "print(results)"
   ]
  },
  {
   "cell_type": "markdown",
   "metadata": {},
   "source": [
    "Make sure to note that in the first demonstration we're comparing to see if `i` **is** a multiple of 2, 3, and 5, and stopping if it is not. In the second demonstration we're comparing to see if `i` is **not** a multiple of 2 or 3 or 5, and `continue`-ing if that is the case."
   ]
  },
  {
   "cell_type": "markdown",
   "metadata": {},
   "source": [
    "## Break\n",
    "\n",
    "`break` and `continue` are very similar in that they stop executing the current iteration. However, where `continue` moves on to the next iteration, `break` stops the loop all together.\n",
    "\n",
    "`break` works in both `while` and `for` loops.\n",
    "\n",
    "Take a look at the code below, and see if you can work out what it does."
   ]
  },
  {
   "cell_type": "code",
   "execution_count": 38,
   "metadata": {},
   "outputs": [
    {
     "data": {
      "text/html": [
       "<pre style=\"white-space:pre;overflow-x:auto;line-height:normal;font-family:Menlo,'DejaVu Sans Mono',consolas,'Courier New',monospace\">I'll spend some time with Charlie today!\n",
       "</pre>\n"
      ],
      "text/plain": [
       "I'll spend some time with Charlie today!\n"
      ]
     },
     "metadata": {},
     "output_type": "display_data"
    }
   ],
   "source": [
    "friend_name = [\"Alice\", \"Bob\", \"Charlie\", \"David\", \"Eve\"]\n",
    "friend_is_available = [False, False, True, False, True]\n",
    "\n",
    "for i in range(0, 5):\n",
    "    if friend_is_available[i]:\n",
    "        print(\"I'll spend some time with \" + friend_name[i] + \" today!\")\n",
    "        break"
   ]
  },
  {
   "cell_type": "markdown",
   "metadata": {},
   "source": [
    "Looking at the above example, we can see we have a list of friends, and a list of availabilities. `friend[i]` has the name `friend_name[i]` and if they're available then `friend_is_available[i]` is `True`.\n",
    "\n",
    "The code goes through each `i` for all friends, and `break`s when an available friend is found, where `friend_is_available[i]` is `True`."
   ]
  }
 ],
 "metadata": {
  "kernelspec": {
   "display_name": "venv",
   "language": "python",
   "name": "python3"
  },
  "language_info": {
   "codemirror_mode": {
    "name": "ipython",
    "version": 3
   },
   "file_extension": ".py",
   "mimetype": "text/x-python",
   "name": "python",
   "nbconvert_exporter": "python",
   "pygments_lexer": "ipython3",
   "version": "3.12.2"
  }
 },
 "nbformat": 4,
 "nbformat_minor": 2
}
