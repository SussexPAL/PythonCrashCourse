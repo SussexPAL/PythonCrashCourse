{
 "cells": [
  {
   "cell_type": "code",
   "execution_count": null,
   "metadata": {},
   "outputs": [],
   "source": [
    "%pip install rich\n",
    "%pip install ipywidgets"
   ]
  },
  {
   "cell_type": "code",
   "execution_count": null,
   "metadata": {},
   "outputs": [],
   "source": [
    "import inspect\n",
    "import re\n",
    "from rich.progress import Progress\n",
    "from rich import print\n",
    "from rich.panel import Panel"
   ]
  },
  {
   "attachments": {},
   "cell_type": "markdown",
   "metadata": {},
   "source": [
    "Before we get started, make sure to run the above two code cells. THis mat take a bit of time to download the correct packages.\n"
   ]
  },
  {
   "cell_type": "markdown",
   "metadata": {},
   "source": [
    "# Introduction to Functions\n",
    "Functions are blocks of code that perform a specific task. They help to break our program into smaller, manageable parts. We can reuse functions whenever we need to perform the same task multiple times, which helps to keep our code DRY (Don't Repeat Yourself)."
   ]
  },
  {
   "cell_type": "markdown",
   "metadata": {},
   "source": [
    "## Defining a Function\n",
    "To define a function in Python, we use the def keyword followed by the function name and parentheses ():\n",
    "\n",
    "```\n",
    "def function_name():\n",
    "    # Function code goes here\n",
    "```"
   ]
  },
  {
   "cell_type": "markdown",
   "metadata": {},
   "source": [
    "Here's a simple function that prints \"Hello, World!\":"
   ]
  },
  {
   "cell_type": "code",
   "execution_count": null,
   "metadata": {},
   "outputs": [],
   "source": [
    "def greet():\n",
    "    print(\"Hello, World!\")"
   ]
  },
  {
   "cell_type": "markdown",
   "metadata": {},
   "source": [
    "To call this function in your code, use its name, followed by perentheses:"
   ]
  },
  {
   "cell_type": "code",
   "execution_count": null,
   "metadata": {},
   "outputs": [],
   "source": [
    "greet()"
   ]
  },
  {
   "cell_type": "markdown",
   "metadata": {},
   "source": [
    "### Exercise 1\n",
    "\n",
    "Define a function called `good_weather` which prints \"The weather is sunny!\""
   ]
  },
  {
   "cell_type": "code",
   "execution_count": null,
   "metadata": {},
   "outputs": [],
   "source": [
    "# Your code here"
   ]
  },
  {
   "cell_type": "markdown",
   "metadata": {},
   "source": [
    "#### Answer\n",
    "Run the following cell to check your answer"
   ]
  },
  {
   "cell_type": "code",
   "execution_count": null,
   "metadata": {},
   "outputs": [],
   "source": [
    "\n",
    "\n",
    "def success_panel(msg: str, title: str) -> None:\n",
    "    print(Panel(msg, title=title, border_style=\"green\"))\n",
    "\n",
    "def problem_panel(msg: str, title: str) -> None:\n",
    "    print(Panel(msg, title=title, border_style=\"red\"))\n",
    "\n",
    "def check_function_code(function_code, expected_code):\n",
    "    # Create a regex pattern to match the expected function code allowing flexible spacing and case insensitivity\n",
    "    pattern = re.sub(r'\\s+', r'\\\\s*', re.escape(expected_code.strip()))\n",
    "    match = re.fullmatch(pattern, function_code.strip(), re.VERBOSE | re.DOTALL | re.IGNORECASE)\n",
    "    return bool(match)\n",
    "\n",
    "# Expected function code with case insensitive and flexible spacing\n",
    "expected_code = \"\"\"def good_weather():\n",
    "    print(\"The weather is sunny!\")\"\"\"\n",
    "\n",
    "# Get the function source code\n",
    "function_code = inspect.getsource(good_weather)\n",
    "\n",
    "# Check if the function code matches the expected code\n",
    "is_correct_function_code = check_function_code(function_code, expected_code)\n",
    "\n",
    "# Expected answer\n",
    "data = {\n",
    "    \"is_correct\": True  # We expect the check to return True\n",
    "}\n",
    "\n",
    "# Check the result and provide feedback\n",
    "globals()[\"is_correct\"] = is_correct_function_code\n",
    "\n",
    "with Progress() as progress:\n",
    "    assert_task = progress.add_task(\"[green]Checking solution...\", total=len(data.keys()))\n",
    "    failed = 0\n",
    "    for key in data.keys():\n",
    "        value = data[key]\n",
    "        try:\n",
    "            assert globals()[key] == value\n",
    "            success_panel(f\"Congratulations! \\\"{key}\\\" is equal to the expected value of {value}\", title=\"Data verified\")\n",
    "        except KeyError as e:\n",
    "            failed += 1\n",
    "            problem_panel(f\"\\\"{key}\\\" isn't defined...\", \"Undefined variable\")\n",
    "        except AssertionError as e:\n",
    "            failed += 1\n",
    "            problem_panel(f\"\\\"{key}\\\" isn't what we were expecting...\", \"Data error\")\n",
    "        progress.update(assert_task, advance=1)\n",
    "    \n",
    "    if failed > 0:\n",
    "        problem_panel(f\"Oops! {failed} of {len(data.keys())} things aren't quite right\\nDouble check your logic, make some changes, and re-run!\", \"\")\n",
    "    else:\n",
    "        success_panel(\"Congratulations! Everything seems all good :) Feel free to move onto the next exercise!\", \"Exercise complete!\")\n"
   ]
  },
  {
   "cell_type": "markdown",
   "metadata": {},
   "source": [
    "## Parameters and Arguments\n",
    "\n",
    "Functions can take parameters, which allow us to pass data into them. Parameters are included in the perentheses of the function definition with a descriptive placeholder name (which in this case happens to be \"name\"): "
   ]
  },
  {
   "cell_type": "code",
   "execution_count": null,
   "metadata": {},
   "outputs": [],
   "source": [
    "def greet(name):\n",
    "    print(f\"Hello, {name}!\")"
   ]
  },
  {
   "cell_type": "markdown",
   "metadata": {},
   "source": [
    "Now, we can pass an argument when calling the function:"
   ]
  },
  {
   "cell_type": "code",
   "execution_count": null,
   "metadata": {},
   "outputs": [],
   "source": [
    "greet(\"Grace\")"
   ]
  },
  {
   "cell_type": "markdown",
   "metadata": {},
   "source": [
    "You can also set default values for parameters by defining a value after the placeholder name:"
   ]
  },
  {
   "cell_type": "code",
   "execution_count": null,
   "metadata": {},
   "outputs": [],
   "source": [
    "def greet(name=\"World\"):\n",
    "    print(f\"Hello, {name}!\")"
   ]
  },
  {
   "cell_type": "markdown",
   "metadata": {},
   "source": [
    "Calling greet() without any arguments will use the default value:"
   ]
  },
  {
   "cell_type": "code",
   "execution_count": null,
   "metadata": {},
   "outputs": [],
   "source": [
    "# With parameter:\n",
    "greet(\"Joseph\")\n",
    "\n",
    "# Without parameter, using default\n",
    "greet()"
   ]
  },
  {
   "cell_type": "markdown",
   "metadata": {},
   "source": [
    "### Exercise 2\n",
    "Define a function called `print_double` which takes a variable `num`, a number, and prints that number multiplied by 2, e.g. 10 doubled is 20, 13 doubled is 26"
   ]
  },
  {
   "cell_type": "code",
   "execution_count": 16,
   "metadata": {},
   "outputs": [],
   "source": [
    "def print_double(num): # Your code here\n",
    "    print(num * 2)"
   ]
  },
  {
   "cell_type": "markdown",
   "metadata": {},
   "source": [
    "#### Answer\n",
    "Run the following cell to check your answer"
   ]
  },
  {
   "cell_type": "code",
   "execution_count": 17,
   "metadata": {},
   "outputs": [
    {
     "data": {
      "application/vnd.jupyter.widget-view+json": {
       "model_id": "34a0979876e644d5bfc220f72f664c71",
       "version_major": 2,
       "version_minor": 0
      },
      "text/plain": [
       "Output()"
      ]
     },
     "metadata": {},
     "output_type": "display_data"
    },
    {
     "data": {
      "text/html": [
       "<pre style=\"white-space:pre;overflow-x:auto;line-height:normal;font-family:Menlo,'DejaVu Sans Mono',consolas,'Courier New',monospace\"><span style=\"color: #800000; text-decoration-color: #800000\">╭────────────────────────────────────────────────── Data error ───────────────────────────────────────────────────╮</span>\n",
       "<span style=\"color: #800000; text-decoration-color: #800000\">│</span> \"is_correct\" isn't what we were expecting...                                                                    <span style=\"color: #800000; text-decoration-color: #800000\">│</span>\n",
       "<span style=\"color: #800000; text-decoration-color: #800000\">╰─────────────────────────────────────────────────────────────────────────────────────────────────────────────────╯</span>\n",
       "</pre>\n"
      ],
      "text/plain": [
       "\u001b[31m╭─\u001b[0m\u001b[31m─────────────────────────────────────────────────\u001b[0m\u001b[31m Data error \u001b[0m\u001b[31m──────────────────────────────────────────────────\u001b[0m\u001b[31m─╮\u001b[0m\n",
       "\u001b[31m│\u001b[0m \"is_correct\" isn't what we were expecting...                                                                    \u001b[31m│\u001b[0m\n",
       "\u001b[31m╰─────────────────────────────────────────────────────────────────────────────────────────────────────────────────╯\u001b[0m\n"
      ]
     },
     "metadata": {},
     "output_type": "display_data"
    },
    {
     "data": {
      "text/html": [
       "<pre style=\"white-space:pre;overflow-x:auto;line-height:normal;font-family:Menlo,'DejaVu Sans Mono',consolas,'Courier New',monospace\"><span style=\"color: #800000; text-decoration-color: #800000\">╭─────────────────────────────────────────────────────────────────────────────────────────────────────────────────╮</span>\n",
       "<span style=\"color: #800000; text-decoration-color: #800000\">│</span> Oops! 1 of 1 things aren't quite right                                                                          <span style=\"color: #800000; text-decoration-color: #800000\">│</span>\n",
       "<span style=\"color: #800000; text-decoration-color: #800000\">│</span> Double check your logic, make some changes, and re-run!                                                         <span style=\"color: #800000; text-decoration-color: #800000\">│</span>\n",
       "<span style=\"color: #800000; text-decoration-color: #800000\">╰─────────────────────────────────────────────────────────────────────────────────────────────────────────────────╯</span>\n",
       "</pre>\n"
      ],
      "text/plain": [
       "\u001b[31m╭─────────────────────────────────────────────────────────────────────────────────────────────────────────────────╮\u001b[0m\n",
       "\u001b[31m│\u001b[0m Oops! 1 of 1 things aren't quite right                                                                          \u001b[31m│\u001b[0m\n",
       "\u001b[31m│\u001b[0m Double check your logic, make some changes, and re-run!                                                         \u001b[31m│\u001b[0m\n",
       "\u001b[31m╰─────────────────────────────────────────────────────────────────────────────────────────────────────────────────╯\u001b[0m\n"
      ]
     },
     "metadata": {},
     "output_type": "display_data"
    },
    {
     "data": {
      "text/html": [
       "<pre style=\"white-space:pre;overflow-x:auto;line-height:normal;font-family:Menlo,'DejaVu Sans Mono',consolas,'Courier New',monospace\"></pre>\n"
      ],
      "text/plain": []
     },
     "metadata": {},
     "output_type": "display_data"
    },
    {
     "data": {
      "text/html": [
       "<pre style=\"white-space:pre;overflow-x:auto;line-height:normal;font-family:Menlo,'DejaVu Sans Mono',consolas,'Courier New',monospace\">\n",
       "</pre>\n"
      ],
      "text/plain": [
       "\n"
      ]
     },
     "metadata": {},
     "output_type": "display_data"
    }
   ],
   "source": [
    "\n",
    "\n",
    "def check_function_code_ex_2(function_code):\n",
    "    pattern = r\"\"\"\n",
    "    ^\\s*def\\s+print_double\\s*\\(\\s*num\\s*\\)\\s*:\\s*       # function definition\n",
    "    (?:\\n\\s*)*                                          # optional new lines and spaces\n",
    "    (?:\n",
    "        \\s*(\\w+)\\s*=\\s*num\\s*\\*\\s*2\\s*\\n\\s*             # optional intermediate variable assignment\n",
    "        \\s*print\\s*\\(\\s*\\1\\s*\\)\\s*                      # print the intermediate variable\n",
    "    |\n",
    "        \\s*print\\s*\\(\\s*num\\s*\\*\\s*2\\s*\\)\\s*            # direct print\n",
    "    )\n",
    "    \"\"\"\n",
    "\n",
    "    match = re.fullmatch(pattern, function_code, re.VERBOSE | re.MULTILINE)\n",
    "    return bool(match)\n",
    "\n",
    "function_code = inspect.getsource(print_double)\n",
    "\n",
    "is_correct = check_function_code_ex_2(function_code)\n",
    "\n",
    "# Expected answer\n",
    "data = {\n",
    "    \"is_correct\": True\n",
    "}\n",
    "\n",
    "\n",
    "def success_panel(msg: str, title: str) -> None:\n",
    "    print(Panel(msg, title=title, border_style=\"green\"))\n",
    "\n",
    "def problem_panel(msg: str, title: str) -> None:\n",
    "    print(Panel(msg, title=title, border_style=\"red\"))\n",
    "\n",
    "with Progress() as progress:\n",
    "    assert_task = progress.add_task(\"[green]Checking solution...\", total=len(data.keys()))\n",
    "    failed = 0\n",
    "    for key in data.keys():\n",
    "        value = data[key]\n",
    "        try:\n",
    "            assert globals()[key] == value\n",
    "            success_panel(f\"Congratulations! \\\"{key}\\\" is equal to the expected value of {value}\", title=\"Data verified\")\n",
    "        except KeyError as e:\n",
    "            failed += 1\n",
    "            problem_panel(f\"\\\"{key}\\\" isn't defined...\", \"Undefined variable\")\n",
    "        except AssertionError as e:\n",
    "            failed += 1\n",
    "            problem_panel(f\"\\\"{key}\\\" isn't what we were expecting...\", \"Data error\")\n",
    "        progress.update(assert_task, advance=1)\n",
    "    \n",
    "    if failed > 0:\n",
    "        problem_panel(f\"Oops! {failed} of {len(data.keys())} things aren't quite right\\nDouble check your logic, make some changes, and re-run!\", \"\")\n",
    "    else:\n",
    "        success_panel(\"Congratulations! Everything seems all good :) Feel free to move onto the next exercise!\", \"Exercise complete!\")\n"
   ]
  },
  {
   "cell_type": "markdown",
   "metadata": {},
   "source": [
    "## Return Values\n",
    "Functions can return values using the return statement:"
   ]
  },
  {
   "cell_type": "code",
   "execution_count": null,
   "metadata": {},
   "outputs": [],
   "source": [
    "def add(a, b):\n",
    "    return a + b"
   ]
  },
  {
   "cell_type": "markdown",
   "metadata": {},
   "source": [
    "You can store the returned value in a variable:"
   ]
  },
  {
   "cell_type": "code",
   "execution_count": null,
   "metadata": {},
   "outputs": [],
   "source": [
    "result = add(3, 4)\n",
    "print(result)  # Output: 7"
   ]
  },
  {
   "cell_type": "markdown",
   "metadata": {},
   "source": [
    "### Exercise 3\n",
    "Define a function called `calculate_area` that takes two parameters: `length` and `width`. The function should calculate the area of a rectangle and return the result."
   ]
  },
  {
   "cell_type": "code",
   "execution_count": 23,
   "metadata": {},
   "outputs": [],
   "source": [
    "# Your code here"
   ]
  },
  {
   "cell_type": "markdown",
   "metadata": {},
   "source": [
    "#### Answer\n",
    "Run the following cell to check your answer"
   ]
  },
  {
   "cell_type": "code",
   "execution_count": 27,
   "metadata": {},
   "outputs": [
    {
     "data": {
      "application/vnd.jupyter.widget-view+json": {
       "model_id": "7b45e3acde9142dfb8b270942fcff165",
       "version_major": 2,
       "version_minor": 0
      },
      "text/plain": [
       "Output()"
      ]
     },
     "metadata": {},
     "output_type": "display_data"
    },
    {
     "data": {
      "text/html": [
       "<pre style=\"white-space:pre;overflow-x:auto;line-height:normal;font-family:Menlo,'DejaVu Sans Mono',consolas,'Courier New',monospace\"><span style=\"color: #008000; text-decoration-color: #008000\">╭────────────────────────────────────────────── Exercise complete! ───────────────────────────────────────────────╮</span>\n",
       "<span style=\"color: #008000; text-decoration-color: #008000\">│</span> Congratulations! Everything seems all good :) Feel free to move onto the next exercise!                         <span style=\"color: #008000; text-decoration-color: #008000\">│</span>\n",
       "<span style=\"color: #008000; text-decoration-color: #008000\">╰─────────────────────────────────────────────────────────────────────────────────────────────────────────────────╯</span>\n",
       "</pre>\n"
      ],
      "text/plain": [
       "\u001b[32m╭─\u001b[0m\u001b[32m─────────────────────────────────────────────\u001b[0m\u001b[32m Exercise complete! \u001b[0m\u001b[32m──────────────────────────────────────────────\u001b[0m\u001b[32m─╮\u001b[0m\n",
       "\u001b[32m│\u001b[0m Congratulations! Everything seems all good :) Feel free to move onto the next exercise!                         \u001b[32m│\u001b[0m\n",
       "\u001b[32m╰─────────────────────────────────────────────────────────────────────────────────────────────────────────────────╯\u001b[0m\n"
      ]
     },
     "metadata": {},
     "output_type": "display_data"
    },
    {
     "data": {
      "text/html": [
       "<pre style=\"white-space:pre;overflow-x:auto;line-height:normal;font-family:Menlo,'DejaVu Sans Mono',consolas,'Courier New',monospace\"></pre>\n"
      ],
      "text/plain": []
     },
     "metadata": {},
     "output_type": "display_data"
    },
    {
     "data": {
      "text/html": [
       "<pre style=\"white-space:pre;overflow-x:auto;line-height:normal;font-family:Menlo,'DejaVu Sans Mono',consolas,'Courier New',monospace\">\n",
       "</pre>\n"
      ],
      "text/plain": [
       "\n"
      ]
     },
     "metadata": {},
     "output_type": "display_data"
    }
   ],
   "source": [
    "import random \n",
    "\n",
    "def success_panel(msg: str, title: str) -> None:\n",
    "    print(Panel(msg, title=title, border_style=\"green\"))\n",
    "\n",
    "def problem_panel(msg: str, title: str) -> None:\n",
    "    print(Panel(msg, title=title, border_style=\"red\"))\n",
    "\n",
    "with Progress() as progress:\n",
    "    assert_task = progress.add_task(\"[green]Checking solution...\", total=len(data.keys()))\n",
    "    failed = 0\n",
    "\n",
    "    dummy_keys = [(random.randint(0, 500), random.randint(0, 500)) for i in range(100)]\n",
    "    dummy_answers = dict()\n",
    "    for k in dummy_keys:\n",
    "        dummy_answers[k] = k[0] * k[1]\n",
    "\n",
    "    try:\n",
    "        for k, v in dummy_answers.items():\n",
    "            if calculate_area(k[0], k[1]) != v:\n",
    "                failed += 1\n",
    "    except NameError:\n",
    "        failed = 1\n",
    "\n",
    "    \n",
    "    if failed > 0:\n",
    "        problem_panel(f\"Oops! things aren't quite right\\nDouble check your logic, make some changes, and re-run!\", \"\")\n",
    "    else:\n",
    "        success_panel(\"Congratulations! Everything seems all good :) Feel free to move onto the next exercise!\", \"Exercise complete!\")\n"
   ]
  },
  {
   "cell_type": "markdown",
   "metadata": {},
   "source": [
    "## Functions calling Functions\n",
    "\n",
    "In Python, functions can call other functions. This means that within the body of one function, you can invoke another function to perform a specific task. This technique promotes code reusability and modularity, as you can break down complex tasks into smaller, more manageable functions.\n",
    "\n",
    "Calling other functions within a function can help improve the readability and maintainability of your code by separating concerns and promoting a modular design. It also allows you to easily update or modify individual components without affecting the rest of the codebase."
   ]
  },
  {
   "cell_type": "markdown",
   "metadata": {},
   "source": [
    "### Exercise 4\n",
    "Define a function called `calculate_perimeter` that takes two parameters: `length` and `width`. Also, define a second function called `double_side` that takes one parameter `side`. `double_side` should return `side * 2`.\n",
    "\n",
    "In `calculate_perimeter`, use `double_side` to calculate the perimeter of the rectangle using the formula `perimeter = 2 * (double_side(length) + double_side(width))`. Return the calculated perimeter."
   ]
  },
  {
   "cell_type": "code",
   "execution_count": 32,
   "metadata": {},
   "outputs": [],
   "source": [
    "# Your code here"
   ]
  },
  {
   "cell_type": "markdown",
   "metadata": {},
   "source": [
    "#### Answer\n",
    "Run the following cell to check your answer"
   ]
  },
  {
   "cell_type": "code",
   "execution_count": 34,
   "metadata": {},
   "outputs": [
    {
     "data": {
      "application/vnd.jupyter.widget-view+json": {
       "model_id": "667795f257d245c191d45d01bc9b3ed1",
       "version_major": 2,
       "version_minor": 0
      },
      "text/plain": [
       "Output()"
      ]
     },
     "metadata": {},
     "output_type": "display_data"
    },
    {
     "data": {
      "text/html": [
       "<pre style=\"white-space:pre;overflow-x:auto;line-height:normal;font-family:Menlo,'DejaVu Sans Mono',consolas,'Courier New',monospace\"><span style=\"color: #008000; text-decoration-color: #008000\">╭────────────────────────────────────────────── Exercise complete! ───────────────────────────────────────────────╮</span>\n",
       "<span style=\"color: #008000; text-decoration-color: #008000\">│</span> Congratulations! Everything seems all good :) Feel free to move onto the next exercise!                         <span style=\"color: #008000; text-decoration-color: #008000\">│</span>\n",
       "<span style=\"color: #008000; text-decoration-color: #008000\">╰─────────────────────────────────────────────────────────────────────────────────────────────────────────────────╯</span>\n",
       "</pre>\n"
      ],
      "text/plain": [
       "\u001b[32m╭─\u001b[0m\u001b[32m─────────────────────────────────────────────\u001b[0m\u001b[32m Exercise complete! \u001b[0m\u001b[32m──────────────────────────────────────────────\u001b[0m\u001b[32m─╮\u001b[0m\n",
       "\u001b[32m│\u001b[0m Congratulations! Everything seems all good :) Feel free to move onto the next exercise!                         \u001b[32m│\u001b[0m\n",
       "\u001b[32m╰─────────────────────────────────────────────────────────────────────────────────────────────────────────────────╯\u001b[0m\n"
      ]
     },
     "metadata": {},
     "output_type": "display_data"
    },
    {
     "data": {
      "text/html": [
       "<pre style=\"white-space:pre;overflow-x:auto;line-height:normal;font-family:Menlo,'DejaVu Sans Mono',consolas,'Courier New',monospace\"></pre>\n"
      ],
      "text/plain": []
     },
     "metadata": {},
     "output_type": "display_data"
    },
    {
     "data": {
      "text/html": [
       "<pre style=\"white-space:pre;overflow-x:auto;line-height:normal;font-family:Menlo,'DejaVu Sans Mono',consolas,'Courier New',monospace\">\n",
       "</pre>\n"
      ],
      "text/plain": [
       "\n"
      ]
     },
     "metadata": {},
     "output_type": "display_data"
    }
   ],
   "source": [
    "import random \n",
    "\n",
    "def success_panel(msg: str, title: str) -> None:\n",
    "    print(Panel(msg, title=title, border_style=\"green\"))\n",
    "\n",
    "def problem_panel(msg: str, title: str) -> None:\n",
    "    print(Panel(msg, title=title, border_style=\"red\"))\n",
    "\n",
    "with Progress() as progress:\n",
    "    assert_task = progress.add_task(\"[green]Checking solution...\", total=len(data.keys()))\n",
    "    failed = 0\n",
    "    \n",
    "    dummy_keys = [(random.randint(0, 500), random.randint(0, 500)) for i in range(100)]\n",
    "    dummy_answers = dict()\n",
    "    for k in dummy_keys:\n",
    "        s1 = k[0] * 2\n",
    "        s2 = k[1] * 2\n",
    "        dummy_answers[k] = (s1, s2, s1 + s2)\n",
    "\n",
    "    for k, v in dummy_answers.items():\n",
    "        try:\n",
    "            if (double_side(k[0]) != v[0]) or (double_side(k[1]) != v[1]) or (calculate_perimeter(k[0], k[1]) != v[2]):\n",
    "                failed += 1\n",
    "        except:\n",
    "            failed = 1\n",
    "    \n",
    "    if failed > 0:\n",
    "        problem_panel(f\"Oops! Things aren't quite right\\nDouble check your logic, make some changes, and re-run!\", \"\")\n",
    "    else:\n",
    "        success_panel(\"Congratulations! Everything seems all good :) Feel free to move onto the next exercise!\", \"Exercise complete!\")\n"
   ]
  },
  {
   "cell_type": "markdown",
   "metadata": {},
   "source": [
    "## Extension: Recursive Functions\n",
    "Recursive functions are functions that call themselves within their own definition. This technique is known as recursion.\n",
    "\n",
    "A recursive function typically consists of two parts: the base case and the recursive case. The base case defines the termination condition for the recursion, preventing infinite recursion. The recursive case defines how the function calls itself with modified parameters to solve smaller instances of the same problem."
   ]
  },
  {
   "cell_type": "markdown",
   "metadata": {},
   "source": [
    "### Extension Exercise\n",
    "Now, let's delve into recursive functions. Define a function called `factorial` that takes one parameter, `n`, an integer. The function should calculate the factorial of `n` using recursion and return the result."
   ]
  },
  {
   "cell_type": "code",
   "execution_count": 37,
   "metadata": {},
   "outputs": [],
   "source": [
    "# Your code here"
   ]
  },
  {
   "cell_type": "code",
   "execution_count": 38,
   "metadata": {},
   "outputs": [
    {
     "data": {
      "application/vnd.jupyter.widget-view+json": {
       "model_id": "d320390c39574908b6020e2c0183ee35",
       "version_major": 2,
       "version_minor": 0
      },
      "text/plain": [
       "Output()"
      ]
     },
     "metadata": {},
     "output_type": "display_data"
    },
    {
     "data": {
      "text/html": [
       "<pre style=\"white-space:pre;overflow-x:auto;line-height:normal;font-family:Menlo,'DejaVu Sans Mono',consolas,'Courier New',monospace\"><span style=\"color: #008000; text-decoration-color: #008000\">╭────────────────────────────────────────────── Exercise complete! ───────────────────────────────────────────────╮</span>\n",
       "<span style=\"color: #008000; text-decoration-color: #008000\">│</span> Congratulations! Everything seems all good :) Feel free to move onto the next exercise!                         <span style=\"color: #008000; text-decoration-color: #008000\">│</span>\n",
       "<span style=\"color: #008000; text-decoration-color: #008000\">╰─────────────────────────────────────────────────────────────────────────────────────────────────────────────────╯</span>\n",
       "</pre>\n"
      ],
      "text/plain": [
       "\u001b[32m╭─\u001b[0m\u001b[32m─────────────────────────────────────────────\u001b[0m\u001b[32m Exercise complete! \u001b[0m\u001b[32m──────────────────────────────────────────────\u001b[0m\u001b[32m─╮\u001b[0m\n",
       "\u001b[32m│\u001b[0m Congratulations! Everything seems all good :) Feel free to move onto the next exercise!                         \u001b[32m│\u001b[0m\n",
       "\u001b[32m╰─────────────────────────────────────────────────────────────────────────────────────────────────────────────────╯\u001b[0m\n"
      ]
     },
     "metadata": {},
     "output_type": "display_data"
    },
    {
     "data": {
      "text/html": [
       "<pre style=\"white-space:pre;overflow-x:auto;line-height:normal;font-family:Menlo,'DejaVu Sans Mono',consolas,'Courier New',monospace\"></pre>\n"
      ],
      "text/plain": []
     },
     "metadata": {},
     "output_type": "display_data"
    },
    {
     "data": {
      "text/html": [
       "<pre style=\"white-space:pre;overflow-x:auto;line-height:normal;font-family:Menlo,'DejaVu Sans Mono',consolas,'Courier New',monospace\">\n",
       "</pre>\n"
      ],
      "text/plain": [
       "\n"
      ]
     },
     "metadata": {},
     "output_type": "display_data"
    }
   ],
   "source": [
    "\n",
    "import random \n",
    "from math import factorial as math_factorial\n",
    "\n",
    "def success_panel(msg: str, title: str) -> None:\n",
    "    print(Panel(msg, title=title, border_style=\"green\"))\n",
    "\n",
    "def problem_panel(msg: str, title: str) -> None:\n",
    "    print(Panel(msg, title=title, border_style=\"red\"))\n",
    "\n",
    "with Progress() as progress:\n",
    "    assert_task = progress.add_task(\"[green]Checking solution...\", total=len(data.keys()))\n",
    "    failed = 0\n",
    "    \n",
    "    try:\n",
    "        for i in range(10):\n",
    "            if factorial(i) != math_factorial(i):\n",
    "                failed += 1\n",
    "    except:\n",
    "        failed = 1\n",
    "    \n",
    "    if failed > 0:\n",
    "        problem_panel(f\"Oops! Things aren't quite right\\nDouble check your logic, make some changes, and re-run!\", \"\")\n",
    "    else:\n",
    "        success_panel(\"Congratulations! Everything seems all good :) Feel free to move onto the next exercise!\", \"Exercise complete!\")\n"
   ]
  }
 ],
 "metadata": {
  "kernelspec": {
   "display_name": "Python 3",
   "language": "python",
   "name": "python3"
  },
  "language_info": {
   "codemirror_mode": {
    "name": "ipython",
    "version": 3
   },
   "file_extension": ".py",
   "mimetype": "text/x-python",
   "name": "python",
   "nbconvert_exporter": "python",
   "pygments_lexer": "ipython3",
   "version": "3.11.4"
  }
 },
 "nbformat": 4,
 "nbformat_minor": 2
}
