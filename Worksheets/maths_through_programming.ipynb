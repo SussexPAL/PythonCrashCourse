{
 "cells": [
  {
   "cell_type": "markdown",
   "metadata": {},
   "source": [
    "# Maths through programming.\n",
    "Maths is one of the most fundamental elements of computing - arguably, ALL of computing is just maths, as everything a computer does it does by manipulating numbers behind the scenes! When learning to program, implementing some basic mathematical procedures is a great way to get to grips with the fundamental element of code. That is exactly what we will be doing in this exercise.  \n",
    "We will be starting with no assumed knowledge of Python or coding, but a basic sense and understanding of the logical and *algorithmic* thinking we may want to use when approaching writing our first piece of code - only as much as we covered in the very beginning of this course.\n",
    "\n",
    "### 1. The basics of variables, 'print' and \"Hello, World!\"\n",
    "The first thing we want to be able to do is *'print'*, this is how we get human readable our program to display human-readable messages when we run it.  "
   ]
  },
  {
   "cell_type": "code",
   "execution_count": 1,
   "metadata": {},
   "outputs": [
    {
     "name": "stdout",
     "output_type": "stream",
     "text": [
      "Hello, world\n"
     ]
    }
   ],
   "source": [
    "# Write your line of code here, then press the 'play' button on the left\n",
    "print(\"Hello, world\")\n",
    "# TODO I am going to leave this for now, I will double check exactly how far back-to-basics this needs to be, will move onto the maths stuff now"
   ]
  },
  {
   "cell_type": "markdown",
   "metadata": {},
   "source": [
    "### 2. Mathematical expressions\n",
    "These next questions will work on your ability to write and understand mathematical expressions in Python. Make sure to run each code cell after filling in your answer and before running the tester"
   ]
  },
  {
   "cell_type": "code",
   "execution_count": null,
   "metadata": {},
   "outputs": [],
   "source": [
    "# a) Add these two variables together, and store them in a new variable called 'ans_a'\n",
    "num1 = 2\n",
    "num2 = 3"
   ]
  },
  {
   "cell_type": "code",
   "execution_count": null,
   "metadata": {},
   "outputs": [],
   "source": [
    "# b) Using only the minus operator, num1, and num2, define the new variable 'ans_b' as 1"
   ]
  },
  {
   "cell_type": "code",
   "execution_count": null,
   "metadata": {},
   "outputs": [],
   "source": [
    "# c) Using both the plus and minus symbols, and num1 and num2 ONLY, define the new variable 'ans_c' as -5\n",
    "# HINT you will need to use the minus symbol to indicate a negative"
   ]
  },
  {
   "cell_type": "code",
   "execution_count": null,
   "metadata": {},
   "outputs": [],
   "source": [
    "# d) This line is supposed to make variable 'ans_d' equal 6, what is wrong with it? correct it.\n",
    "ans_d = num1 x num2"
   ]
  },
  {
   "cell_type": "code",
   "execution_count": null,
   "metadata": {},
   "outputs": [],
   "source": [
    "# e) Make the values of following variables match their names by ONLY adding parentheses (brackets) to the expressions \n",
    "should_be_nine = 1 + 2 * 3\n",
    "should_be_twelve = 4 * 4 - 1\n",
    "should_be_110 = 10 + 1 * 10"
   ]
  },
  {
   "cell_type": "code",
   "execution_count": null,
   "metadata": {},
   "outputs": [],
   "source": [
    "# f) There are two kinds of division operators, below we use both to define 'num3' and 'num4'\n",
    "num3 = 11 % 5\n",
    "num4 = 11 / 5\n",
    "# EXPLICITLY define (as one number, not referencing the above variables, not an expression with operator(s)) the below variables \n",
    "# such that: numx_will_be == numx\n",
    "# You may not check the values of num3 and num4 using print\n",
    "num3_will_be = \"<your answer here>\"\n",
    "num4_will_be = \"<your answer here>\"\n"
   ]
  },
  {
   "cell_type": "code",
   "execution_count": null,
   "metadata": {},
   "outputs": [],
   "source": [
    "# TODO answer checker"
   ]
  },
  {
   "cell_type": "markdown",
   "metadata": {},
   "source": [
    "### 3. Order of operation\n",
    "If we are affecting the same variable across multiple lines of code, the order in which those lines are executed matters. remember that code is run line by line, top to bottom. Below are some code snippets separated into different questions. In each case, the final answer should be 0, but currently they currently do not. Fix each one by reordering the lines (IE using cut and paste).\n",
    "\n",
    "You may ONLY change the order of the lines of code! You may not change any lines, add new lines, and each line of code must still be there. Each question tells which/how many lines you will need to move."
   ]
  },
  {
   "cell_type": "code",
   "execution_count": null,
   "metadata": {},
   "outputs": [],
   "source": [
    "# a)\n",
    "# move 1 line\n",
    "num1 = 0\n",
    "num1 = 1\n",
    "num1 = 10\n",
    "\n",
    "ans_a = num1\n",
    "print(ans_a)"
   ]
  },
  {
   "cell_type": "code",
   "execution_count": 4,
   "metadata": {},
   "outputs": [
    {
     "name": "stdout",
     "output_type": "stream",
     "text": [
      "5\n"
     ]
    }
   ],
   "source": [
    "# b)\n",
    "num1 = 5\n",
    "num2 = num1 # move this line ONLY\n",
    "num1 = num1 + num1\n",
    "num1 = num1 - num2\n",
    "\n",
    "ans_a = num1\n",
    "print(ans_a)"
   ]
  },
  {
   "cell_type": "code",
   "execution_count": null,
   "metadata": {},
   "outputs": [],
   "source": [
    "# TODO more of these maybe?"
   ]
  },
  {
   "cell_type": "markdown",
   "metadata": {},
   "source": [
    "### 4. Boolean expressions\n",
    "Recall that boolean expressions are ones that are evaluated as either 'true' or 'false'. Python uses the keywords *True* and *False* (case sensitive) as the two binary elements. The numbers *1* and *0* are also implicitly evaluated as true and false respectively, but we will be sticking to the keywords. These next questions will test your understanding of boolean expressions and operators in Python."
   ]
  }
 ],
 "metadata": {
  "kernelspec": {
   "display_name": "Python 3",
   "language": "python",
   "name": "python3"
  },
  "language_info": {
   "codemirror_mode": {
    "name": "ipython",
    "version": 3
   },
   "file_extension": ".py",
   "mimetype": "text/x-python",
   "name": "python",
   "nbconvert_exporter": "python",
   "pygments_lexer": "ipython3",
   "version": "3.12.2"
  }
 },
 "nbformat": 4,
 "nbformat_minor": 2
}
