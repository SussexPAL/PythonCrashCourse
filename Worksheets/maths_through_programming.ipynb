{
 "cells": [
  {
   "cell_type": "markdown",
   "metadata": {},
   "source": [
    "# Maths through programming.\n",
    "Maths is one of the most fundamental elements of computing - arguably, ALL of computing is just maths, as everything a computer does it does by manipulating numbers behind the scenes! When learning to program, implementing some basic mathematical procedures is a great way to get to grips with the fundamental element of code. That is exactly what we will be doing in this exercise.  "
   ]
  },
  {
   "cell_type": "code",
   "execution_count": 1,
   "metadata": {},
   "outputs": [
    {
     "name": "stdout",
     "output_type": "stream",
     "text": [
      "Hello, from Hugo!\n"
     ]
    }
   ],
   "source": [
    "print(\"Hello, from Hugo!\")"
   ]
  }
 ],
 "metadata": {
  "kernelspec": {
   "display_name": "Python 3",
   "language": "python",
   "name": "python3"
  },
  "language_info": {
   "codemirror_mode": {
    "name": "ipython",
    "version": 3
   },
   "file_extension": ".py",
   "mimetype": "text/x-python",
   "name": "python",
   "nbconvert_exporter": "python",
   "pygments_lexer": "ipython3",
   "version": "3.12.2"
  }
 },
 "nbformat": 4,
 "nbformat_minor": 2
}
