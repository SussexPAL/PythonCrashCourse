{
 "cells": [
  {
   "cell_type": "markdown",
   "id": "792e74bb",
   "metadata": {},
   "source": [
    "### *[ Code which allows us to mark your answers. Please run and then ignore :) ]*"
   ]
  },
  {
   "cell_type": "code",
   "execution_count": null,
   "id": "044e76b3",
   "metadata": {},
   "outputs": [],
   "source": [
    "%pip install rich\n",
    "%pip install ipywidgets\n",
    "\n",
    "from rich.progress import Progress\n",
    "from rich import print\n",
    "from rich.panel import Panel\n",
    "\n",
    "def success_panel(msg: str, title: str) -> None:\n",
    "    print(Panel(msg, title=title, border_style=\"green\"))\n",
    "\n",
    "def problem_panel(msg: str, title: str) -> None:\n",
    "    print(Panel(msg, title=title, border_style=\"red\"))\n",
    "\n",
    "def assert_variable_values(key, value):\n",
    "    assert(globals()[key] == value)\n",
    "    return\n",
    "\n",
    "def assert_class(keys,value):\n",
    "    keys = keys.split(\".\")\n",
    "    if len(keys) == 1:\n",
    "        assert(isinstance(globals()[keys[0]], globals()[value]))\n",
    "    elif len(keys) == 2:\n",
    "        attrVal = getattr(globals()[keys[0]], keys[1])\n",
    "        attrVal = attrVal.lower() if isinstance(attrVal, str) else attrVal\n",
    "        assert(attrVal == value)\n",
    "    return\n",
    "\n",
    "def check_answers_against_data(data, assert_method):\n",
    "    with Progress() as progress:\n",
    "        assert_task = progress.add_task(\"[green]Checking solution...\", total=len(data.keys()))\n",
    "        failed = 0\n",
    "        for key in data.keys():\n",
    "            value = data[key]\n",
    "            try:\n",
    "                #assert(globals()[key] == value)\n",
    "                assert_method(key, value)\n",
    "                success_panel(f\"Congratulations! \\\"{key}\\\" is the right data ({value})\", title=\"Data verified\")\n",
    "            except KeyError as e:\n",
    "                failed += 1\n",
    "                # key error means it isn't in globals...\n",
    "                problem_panel(f\"\\\"{key}\\\" isn't defined...\", \"Undefined variable\")\n",
    "            except AssertionError as e:\n",
    "                failed += 1\n",
    "                problem_panel(f\"\\\"{key}\\\" isn't what we were expecting...\", \"Data error\")\n",
    "            except AttributeError as e:\n",
    "                failed += 1\n",
    "                problem_panel(f\"\\\"{key}\\\" doesn't exist...\", \"Attribute error\")\n",
    "            progress.update(assert_task, advance=1)\n",
    "        \n",
    "        if failed > 0:\n",
    "            problem_panel(f\"Oops! {failed} of {len(data.keys())} things aren't quite right\\nDouble check your logic, make some changes, and re-run!\", \"\")\n",
    "        else:\n",
    "            success_panel(\"Congratulations! Everything seems all good :) Feel free to move onto the next exercise!\", \"Exercise complete!\")"
   ]
  },
  {
   "cell_type": "markdown",
   "id": "1e219a8e",
   "metadata": {},
   "source": [
    "# Object Oriented Programming\n",
    "This notebook will give you some practical experience with Object Oriented Programming in python. We'll apply its key concepts to create a mini game example for us to experiment with. By the end, you'll have a solid understanding of what classes and objects are, the properties and methods they can possess, and how they are able to relate and inherit from each other."
   ]
  },
  {
   "cell_type": "markdown",
   "id": "2af85362",
   "metadata": {},
   "source": [
    "## Classes and Objects\n",
    "A class is like a code template - it tells our program that anything created with that template must have certain properties and methods that are associated with the class. An object, therefore, is a unique product of that template. If a class is a cookie cutter, then objects are the cookies themselves. Each cookie has the same shape, as defined by the cutter, and you can make as many cookies as you want from just one cutter. In the same way, you can have many objects that are instances of the same class."
   ]
  },
  {
   "cell_type": "markdown",
   "id": "2fdc4fc8",
   "metadata": {},
   "source": [
    "Let's create the most basic class we can. We'll call it player, because eventually it will represent a player character in our game example.\n",
    "\n",
    "*Note: It's convention in Python for class names to start with a capital letter!*"
   ]
  },
  {
   "cell_type": "code",
   "execution_count": null,
   "id": "63557355",
   "metadata": {},
   "outputs": [],
   "source": [
    "class Player:   # Python syntax for defining a class\n",
    "    \n",
    "    # Class code would go inside here\n",
    "\n",
    "    pass        # Since our class is currently empty, we tell python to just pass on . This line is unnecessary for any non-empty class."
   ]
  },
  {
   "cell_type": "markdown",
   "id": "11f12dcb",
   "metadata": {},
   "source": [
    "It may be empty at the moment, but now that we have our `Player` class (or template), we can instantiate as many *Player objects* as we want:"
   ]
  },
  {
   "cell_type": "code",
   "execution_count": null,
   "id": "e0904995",
   "metadata": {},
   "outputs": [],
   "source": [
    "player_1 = Player() # Instantiate an object and store it as a variable: player_1\n",
    "player_2 = Player() # Instantiate another object and store it as a variable: player_2"
   ]
  },
  {
   "cell_type": "markdown",
   "id": "19ca5f0b",
   "metadata": {},
   "source": [
    "What happens when we print these objects?"
   ]
  },
  {
   "cell_type": "code",
   "execution_count": null,
   "id": "f7893de0",
   "metadata": {},
   "outputs": [],
   "source": [
    "print(player_1)\n",
    "print(player_2)"
   ]
  },
  {
   "cell_type": "markdown",
   "id": "8fa86e57",
   "metadata": {},
   "source": [
    "Here we can see that when you print an object, python shows you the class that the object belongs to (`__main__.Player`), followed by the location in memory where it is stored.\n",
    "\n",
    "Notice how these memory addresses are different from each other. This is because although `player_1` and `player_2` are created from the same class, they are separate objects which can have different properties from each other.\n",
    "\n",
    "*Later we'll discover a way to change what happens when you print an object, so that it displays something more useful to us humans!*"
   ]
  },
  {
   "cell_type": "markdown",
   "id": "1bb8829b",
   "metadata": {},
   "source": [
    "## Constructors"
   ]
  },
  {
   "cell_type": "markdown",
   "id": "f43e3444",
   "metadata": {},
   "source": [
    "Let's make our classes more useful! \n",
    "\n",
    "Every class has a special method in it, called a constructor, which is called when an object of that class is first instantiated. Constructors allow us to store data in our class objects by passing in parameters and saving them as object-specific variables.\n",
    "\n",
    "Constructors in python must be declared with the name `__init__`, letting python know that this is indeed a constructor. This is how we create them:\n",
    "\n",
    "<a id='player_def_1'></a>"
   ]
  },
  {
   "cell_type": "code",
   "execution_count": null,
   "id": "06013e35",
   "metadata": {},
   "outputs": [],
   "source": [
    "class Player:\n",
    "    \n",
    "    def __init__(self, name):\n",
    "        self.name = name"
   ]
  },
  {
   "cell_type": "markdown",
   "id": "76b857a4",
   "metadata": {},
   "source": [
    "You'll notice that our constructor takes two parameters: `self` and `name`. \n",
    "- `self`: refers to the particular object in question, and must be defined as the 1st parameter to every method declaration within a class.\n",
    "- `name`: is a parameter that we have defined ourselves, and will have to be passed into the constructor when a Player object is instantiated. \n",
    "\n",
    "Now, when we create a player object, we will need to pass in a name as a parameter. When we do this, it is stored as `self.name`, which is now a property *(or attribute)* of the `Player` class.\n",
    "\n",
    "Let's see how we would create a Player object now:"
   ]
  },
  {
   "cell_type": "code",
   "execution_count": null,
   "id": "9965afc9",
   "metadata": {},
   "outputs": [],
   "source": [
    "player_1 = Player(\"Jim the Hero\") # Create a Player object with the name: \"Jim the Hero\"\n",
    "\n",
    "print(\"player_1's name is: \" + player_1.name) # Print the object's name property"
   ]
  },
  {
   "cell_type": "markdown",
   "id": "641d3589",
   "metadata": {},
   "source": [
    "Things worth noting:\n",
    "\n",
    "- An object's properties/methods can be accessed by `[variable_name].[property/method_name]`\n",
    "\n",
    "- Notice that when we instantiated `player_1` this time, although we needed to give it a `name` parameter, we did not need to give it a `self` parameter. Unlike when you're declaring methods, you never need to explicitly pass in `self` as a parameter when you are calling them, as python will do this automatically for you! It knows which object you are referring to by virtue of how you are accessing that method.\n",
    "\n",
    "- The line in our Player constructor `self.name = name` is an important one! Without it, the `name` parameter that is passed into the constructor will be lost, as it is not stored as a property of that object (`self.name`). You can see that in the following example:"
   ]
  },
  {
   "cell_type": "code",
   "execution_count": null,
   "id": "595b986a",
   "metadata": {},
   "outputs": [],
   "source": [
    "# Create an example class which does not store the constructor's name parameter as an object property\n",
    "class Example_Class:\n",
    "    def __init__(self, name):\n",
    "        pass\n",
    "\n",
    "eg = Example_Class(\"Example name\") # Create an object instance of that class and pass in a name \n",
    "print(eg.name) # This line will produce an Attribute Error, as there is no name"
   ]
  },
  {
   "cell_type": "markdown",
   "id": "6d41d3c3",
   "metadata": {},
   "source": [
    "### Task 1 - Constructing your own constructor!"
   ]
  },
  {
   "cell_type": "markdown",
   "id": "90afacd9",
   "metadata": {},
   "source": [
    "Rewrite the `Player` class, such that it has a constructor which takes and stores 3 parameters:\n",
    "- `name`: A string representing the player's name\n",
    "- `level`: An integer value representing the player's level \n",
    "- `has_weapon`: A boolean value (True/False) representing whether the player has a weapon that they can use to fight with\n",
    "\n",
    "*(Note: Don't forget about the `self` variable!)*\n",
    "\n",
    "Then create a Player object with the following parameter values, storing them in the variable provided (`test_player`):\n",
    "- `name`: `\"Achilles\"`\n",
    "- `level`: `99`\n",
    "- `has_weapon`: `True`"
   ]
  },
  {
   "cell_type": "code",
   "execution_count": null,
   "id": "4cc967be",
   "metadata": {},
   "outputs": [],
   "source": [
    "# Put your new Player class definition here...\n",
    "\n",
    "\n"
   ]
  },
  {
   "cell_type": "code",
   "execution_count": null,
   "id": "9b81ccc3",
   "metadata": {},
   "outputs": [],
   "source": [
    "# Create your player object here...\n",
    "test_player = "
   ]
  },
  {
   "cell_type": "markdown",
   "id": "f86c97b9",
   "metadata": {},
   "source": [
    "#### Answer\n",
    "Run the following cell to check your answers to task 1"
   ]
  },
  {
   "cell_type": "code",
   "execution_count": null,
   "id": "9ee38c9b",
   "metadata": {},
   "outputs": [],
   "source": [
    "# TODO: remove this code cell\n",
    "# ANSWER FOR TESTING\n",
    "\n",
    "# Put your new Player class definition here...\n",
    "class Player:\n",
    "    def __init__(self, name, level, has_weapon):\n",
    "        self.name = name\n",
    "        self.level = level\n",
    "        self.has_weapon = has_weapon\n",
    "\n",
    "# Create your player object here\n",
    "test_player = Player(\"Achilles\", 99, True)"
   ]
  },
  {
   "cell_type": "code",
   "execution_count": null,
   "id": "fb7e22c7",
   "metadata": {},
   "outputs": [],
   "source": [
    "test_data = {\n",
    "    \"test_player\" : \"Player\",\n",
    "    \"test_player.name\" : \"achilles\",\n",
    "    \"test_player.level\" : 99,\n",
    "    \"test_player.has_weapon\" : True,\n",
    "}\n",
    "\n",
    "check_answers_against_data(test_data, assert_class)\n"
   ]
  },
  {
   "cell_type": "markdown",
   "id": "4f54c2d1",
   "metadata": {},
   "source": [
    "cell hyperlinking for my own reference\n",
    "\n",
    "[`Player` definition](#player_def_1)"
   ]
  }
 ],
 "metadata": {
  "kernelspec": {
   "display_name": "Python 3 (ipykernel)",
   "language": "python",
   "name": "python3"
  },
  "language_info": {
   "codemirror_mode": {
    "name": "ipython",
    "version": 3
   },
   "file_extension": ".py",
   "mimetype": "text/x-python",
   "name": "python",
   "nbconvert_exporter": "python",
   "pygments_lexer": "ipython3",
   "version": "3.11.4"
  }
 },
 "nbformat": 4,
 "nbformat_minor": 5
}
