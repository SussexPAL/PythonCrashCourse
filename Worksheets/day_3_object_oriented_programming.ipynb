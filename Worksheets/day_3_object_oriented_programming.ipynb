{
 "cells": [
  {
   "cell_type": "markdown",
   "id": "792e74bb",
   "metadata": {},
   "source": [
    "### *[ Code which allows us to mark your answers. Please run and then ignore :) ]*"
   ]
  },
  {
   "cell_type": "code",
   "execution_count": null,
   "id": "044e76b3",
   "metadata": {},
   "outputs": [],
   "source": [
    "%pip install rich\n",
    "%pip install ipywidgets\n",
    "\n",
    "from rich.progress import Progress\n",
    "from rich import print\n",
    "from rich.panel import Panel\n",
    "\n",
    "def success_panel(msg: str, title: str) -> None:\n",
    "    print(Panel(msg, title=title, border_style=\"green\"))\n",
    "\n",
    "def problem_panel(msg: str, title: str) -> None:\n",
    "    print(Panel(msg, title=title, border_style=\"red\"))\n",
    "\n",
    "def assert_variable_values(key, value):\n",
    "    assert(globals()[key] == value)\n",
    "    return\n",
    "\n",
    "def assert_class(keys,value):\n",
    "    keys = keys.split(\".\")\n",
    "    if len(keys) == 1:\n",
    "        assert(isinstance(globals()[keys[0]], globals()[value]))\n",
    "    elif len(keys) == 2:\n",
    "        attrVal = getattr(globals()[keys[0]], keys[1])\n",
    "        attrVal = attrVal.lower() if isinstance(attrVal, str) else attrVal\n",
    "        assert(attrVal == value)\n",
    "    return\n",
    "\n",
    "def check_answers_against_data(data, assert_method):\n",
    "    with Progress() as progress:\n",
    "        assert_task = progress.add_task(\"[green]Checking solution...\", total=len(data.keys()))\n",
    "        failed = 0\n",
    "        for key in data.keys():\n",
    "            value = data[key]\n",
    "            try:\n",
    "                assert_method(key, value)\n",
    "                success_panel(f\"Congratulations! \\\"{key}\\\" is the right data ({value})\", title=\"Data verified\")\n",
    "            except KeyError as e:\n",
    "                failed += 1\n",
    "                # key error means it isn't in globals...\n",
    "                problem_panel(f\"\\\"{key}\\\" isn't defined...\", \"Undefined variable\")\n",
    "            except AssertionError as e:\n",
    "                failed += 1\n",
    "                problem_panel(f\"\\\"{key}\\\" isn't what we were expecting...\", \"Data error\")\n",
    "            except AttributeError as e:\n",
    "                failed += 1\n",
    "                problem_panel(f\"\\\"{key}\\\" doesn't exist...\", \"Attribute error\")\n",
    "            progress.update(assert_task, advance=1)\n",
    "        \n",
    "        if failed > 0:\n",
    "            problem_panel(f\"Oops! {failed} of {len(data.keys())} things aren't quite right\\nDouble check your logic, make some changes, and re-run!\", \"\")\n",
    "        else:\n",
    "            success_panel(\"Congratulations! Everything seems all good :) Feel free to move onto the next exercise!\", \"Exercise complete!\")"
   ]
  },
  {
   "cell_type": "markdown",
   "id": "1e219a8e",
   "metadata": {},
   "source": [
    "# Object Oriented Programming\n",
    "This notebook will give you some practical experience with Object Oriented Programming in python. We'll apply its key concepts to create a mini game example for us to experiment with. By the end, you'll have a solid understanding of what classes and objects are, the properties and methods they can possess, and how they are able to relate and inherit from each other."
   ]
  },
  {
   "cell_type": "markdown",
   "id": "2af85362",
   "metadata": {},
   "source": [
    "## Introduction: Classes and Objects\n",
    "A class is like a code template - it tells our program that anything created with that template must have certain properties and methods that are associated with the class. An object, therefore, is a unique product of that template. If a class is a cookie cutter, then objects are the cookies themselves. Each cookie has the same shape, as defined by the cutter, and you can make as many cookies as you want from just one cutter. In the same way, you can have many objects that are instances of the same class."
   ]
  },
  {
   "cell_type": "markdown",
   "id": "2fdc4fc8",
   "metadata": {},
   "source": [
    "Let's create the most basic class we can. We'll call it player, because eventually it will represent a player character in our game example.\n",
    "\n",
    "*Note: It's convention in Python for class names to start with a capital letter!*"
   ]
  },
  {
   "cell_type": "code",
   "execution_count": null,
   "id": "63557355",
   "metadata": {},
   "outputs": [],
   "source": [
    "class Player:   # Python syntax for defining a class\n",
    "    \n",
    "    # Class code would go inside here\n",
    "\n",
    "    pass        # Since our class is currently empty, we tell python to just pass on . This line is unnecessary for any non-empty class."
   ]
  },
  {
   "cell_type": "markdown",
   "id": "11f12dcb",
   "metadata": {},
   "source": [
    "It may be empty at the moment, but now that we have our `Player` class (or template), we can instantiate as many *Player objects* as we want:"
   ]
  },
  {
   "cell_type": "code",
   "execution_count": null,
   "id": "e0904995",
   "metadata": {},
   "outputs": [],
   "source": [
    "player_1 = Player() # Instantiate an object and store it as a variable: player_1\n",
    "player_2 = Player() # Instantiate another object and store it as a variable: player_2"
   ]
  },
  {
   "cell_type": "markdown",
   "id": "19ca5f0b",
   "metadata": {},
   "source": [
    "What happens when we print these objects?"
   ]
  },
  {
   "cell_type": "code",
   "execution_count": null,
   "id": "f7893de0",
   "metadata": {},
   "outputs": [],
   "source": [
    "print(player_1)\n",
    "print(player_2)"
   ]
  },
  {
   "cell_type": "markdown",
   "id": "8fa86e57",
   "metadata": {},
   "source": [
    "Here we can see that when you print an object, python shows you the class that the object belongs to (`__main__.Player`), followed by the location in memory where it is stored.\n",
    "\n",
    "Notice how these memory addresses are different from each other. This is because although `player_1` and `player_2` are created from the same class, they are separate objects which can have different properties from each other.\n",
    "\n",
    "*Later we'll discover a way to change what happens when you print an object, so that it displays something more useful to us humans!*"
   ]
  },
  {
   "cell_type": "markdown",
   "id": "1bb8829b",
   "metadata": {},
   "source": [
    "## Part 1: Constructors"
   ]
  },
  {
   "cell_type": "markdown",
   "id": "f43e3444",
   "metadata": {},
   "source": [
    "Let's make our classes more useful! \n",
    "\n",
    "Every class has a special method in it, called a constructor, which is invoked when an object of that class is first instantiated. Constructors allow us to store data in our class objects by passing in parameters and saving them as object-specific variables, called properties *(or attributes)*.\n",
    "\n",
    "Constructors in python must be declared with the name `__init__`, letting python know that this is indeed a constructor. This is how we create them:"
   ]
  },
  {
   "cell_type": "code",
   "execution_count": null,
   "id": "06013e35",
   "metadata": {},
   "outputs": [],
   "source": [
    "class Player:\n",
    "    \n",
    "    def __init__(self, name):\n",
    "        self.name = name"
   ]
  },
  {
   "cell_type": "markdown",
   "id": "76b857a4",
   "metadata": {},
   "source": [
    "You'll notice that our constructor takes two parameters: `self` and `name`. \n",
    "- `self`: refers to the particular object in question, and must be defined as the 1st parameter to every method declaration within a class.\n",
    "- `name`: is a parameter that we have defined ourselves, and will have to be passed into the constructor when a Player object is instantiated. \n",
    "\n",
    "Now, when we create a player object, we will need to pass in a name as a parameter. When we do this, it is stored as `self.name`, which is now a property of the `Player` class.\n",
    "\n",
    "Let's see how we would create a Player object now:"
   ]
  },
  {
   "cell_type": "code",
   "execution_count": null,
   "id": "9965afc9",
   "metadata": {},
   "outputs": [],
   "source": [
    "player_1 = Player(\"Jim the Hero\") # Create a Player object with the name: \"Jim the Hero\"\n",
    "\n",
    "print(\"player_1's name is: \" + player_1.name) # Print the object's name property"
   ]
  },
  {
   "cell_type": "markdown",
   "id": "641d3589",
   "metadata": {},
   "source": [
    "Things worth noting:\n",
    "\n",
    "- An object's properties/methods can be accessed by `[variable_name].[property/method_name]`. In this example: `player_1.name`.\n",
    "\n",
    "- Notice that when we instantiated `player_1` this time, although we needed to give it a `name` parameter, we did not need to give it a `self` parameter. Unlike when you're declaring methods, you never need to explicitly pass in `self` as a parameter when you are calling them, as python will do this automatically for you! It knows which object you are referring to by virtue of how you are accessing that method.\n",
    "\n",
    "- The line in our Player constructor `self.name = name` is an important one! Without it, the `name` parameter that is passed into the constructor will be lost, as it is not stored as a property of that object (`self.name`). You can see that in the following example:"
   ]
  },
  {
   "cell_type": "code",
   "execution_count": null,
   "id": "595b986a",
   "metadata": {},
   "outputs": [],
   "source": [
    "# Create an example class which does not store the constructor's name parameter as an object property\n",
    "class Example_Class:\n",
    "    def __init__(self, name):\n",
    "        pass\n",
    "\n",
    "eg = Example_Class(\"Example name\") # Create an object instance of that class and pass in a name \n",
    "\n",
    "print(eg.name) # This line will produce an Attribute Error, as the class contains no self.name"
   ]
  },
  {
   "cell_type": "markdown",
   "id": "6d41d3c3",
   "metadata": {},
   "source": [
    "### Task 1 - Constructing your own constructor!"
   ]
  },
  {
   "cell_type": "markdown",
   "id": "90afacd9",
   "metadata": {},
   "source": [
    "Rewrite the `Player` class, such that it has a constructor which takes and stores 3 parameters:\n",
    "- `name`: A string representing the player's name\n",
    "- `level`: An integer value representing the player's level \n",
    "- `has_weapon`: A boolean value (True/False) representing whether the player has a weapon that they can use to fight with\n",
    "\n",
    "*(Note: Don't forget about the `self` variable!)*\n",
    "\n",
    "Then create a Player object with the following parameter values, storing them in the variable provided (`task_1_player`):\n",
    "- `name`: `\"Achilles\"`\n",
    "- `level`: `99`\n",
    "- `has_weapon`: `True`\n",
    "\n",
    "<a id='task_1'></a>"
   ]
  },
  {
   "cell_type": "code",
   "execution_count": null,
   "id": "4cc967be",
   "metadata": {},
   "outputs": [],
   "source": [
    "# Put your new Player class definition here...\n",
    "\n",
    "\n"
   ]
  },
  {
   "cell_type": "code",
   "execution_count": null,
   "id": "9b81ccc3",
   "metadata": {},
   "outputs": [],
   "source": [
    "# Create your player object here...\n",
    "task_1_player = "
   ]
  },
  {
   "cell_type": "markdown",
   "id": "f86c97b9",
   "metadata": {},
   "source": [
    "#### Task 1 Answers\n",
    "Run the following cell to check your answers to task 1"
   ]
  },
  {
   "cell_type": "code",
   "execution_count": null,
   "id": "9ee38c9b",
   "metadata": {},
   "outputs": [],
   "source": [
    "# ANSWER FOR TESTING\n",
    "# TODO: remove this code cell\n",
    "\n",
    "# Put your new Player class definition here...\n",
    "class Player:\n",
    "    def __init__(self, name, level, has_weapon):\n",
    "        self.name = name\n",
    "        self.level = level\n",
    "        self.has_weapon = has_weapon\n",
    "\n",
    "# Create your player object here\n",
    "task_1_player = Player(\"Achilles\", 99, True)"
   ]
  },
  {
   "cell_type": "code",
   "execution_count": null,
   "id": "fb7e22c7",
   "metadata": {},
   "outputs": [],
   "source": [
    "task_1_data = {\n",
    "    \"task_1_player\" : \"Player\",\n",
    "    \"task_1_player.name\" : \"achilles\",\n",
    "    \"task_1_player.level\" : 99,\n",
    "    \"task_1_player.has_weapon\" : True,\n",
    "}\n",
    "\n",
    "check_answers_against_data(task_1_data, assert_class)\n"
   ]
  },
  {
   "cell_type": "markdown",
   "id": "89d3fff3",
   "metadata": {},
   "source": [
    "## Part 2: Properties and Methods\n",
    "Let's learn more about what you can do with properties and methods! \n",
    "\n",
    "Properties are like variables that are attached to a class. Likewise, methods are like functions that are attached to a class. They are mostly the same as their class-less counterparts, but need a few extra considerations.\n"
   ]
  },
  {
   "cell_type": "markdown",
   "id": "e5905c23",
   "metadata": {},
   "source": [
    "### Properties *- Default Values*\n",
    "A class' properties don't have to always be specified in order to be defined. *Default property values* can be specified in the constructor, allowing you to avoid having to put in values when instantiating an object. This is useful if you know that there are common values an object's properties will have when it's first created.\n",
    "\n",
    "Here is an example class constructor with default values:"
   ]
  },
  {
   "cell_type": "code",
   "execution_count": null,
   "id": "a5de0718",
   "metadata": {},
   "outputs": [],
   "source": [
    "class Customer:\n",
    "    def __init__(self, name, is_elite_member = False):\n",
    "        self.name = name\n",
    "        self.is_elite_member = is_elite_member\n",
    "        self.num_purchases = 0"
   ]
  },
  {
   "cell_type": "markdown",
   "id": "1dfc37e2",
   "metadata": {},
   "source": [
    "Notice there are two ways that we have established default parameter values for this `Customer` class.\n",
    "1. `is_elite_member`: This is defined as a constructor parameter with a default value, allowing the possibility for the default value to be overriden when a Customer object is instantiated.   \n",
    "2. `num_purchases`: This is not given as a constructor parameter, and so cannot be overriden. A newly-created Customer object will always have its num_purchases property value start at 0.\n",
    "\n",
    "This is how we would instantiate Customer objects:"
   ]
  },
  {
   "cell_type": "code",
   "execution_count": null,
   "id": "cc8471bb",
   "metadata": {},
   "outputs": [],
   "source": [
    "customer_1 = Customer(\"Jenny\") # Instantiate object with all default values\n",
    "customer_2 = Customer(\"Paul\", True) # Instantiate object overriding available default values \n",
    "\n",
    "# Print customer object values for demonstration\n",
    "# Note: vars() returns a dictionary containing the attributes of a gibven object and their respective values\n",
    "print(\"Customer 1 values: \" + str(vars(customer_1)))\n",
    "print(\"Customer 2 values: \" + str(vars(customer_2)))"
   ]
  },
  {
   "cell_type": "markdown",
   "id": "65612240",
   "metadata": {},
   "source": [
    "### Properties *- Derived Values*\n",
    "Notice how the above `Customer` class example involved a property (`num_purchases`) which was not defined as a constructor parameter. This highlights the fact that there does not need to be a 1 to 1 relationship between a class' properties and its constructor parameters. Properties can not only be created with default values, but also _derived_ indirectly from other parameter values. Here's an example:  "
   ]
  },
  {
   "cell_type": "code",
   "execution_count": null,
   "id": "ca3f0eb5",
   "metadata": {},
   "outputs": [],
   "source": [
    "class Shop:\n",
    "    def __init__(self, num_items_sold, price_of_item):\n",
    "        # Total income is a product of the number of sold items, and how much they each cost \n",
    "        self.current_income = num_items_sold * price_of_item\n",
    "\n",
    "shop = Shop(10, 9.99)\n",
    "\n",
    "print(\"Total current income of our shop: £\" + str(shop.current_income))"
   ]
  },
  {
   "cell_type": "markdown",
   "id": "dcf77cf4",
   "metadata": {},
   "source": [
    "Nowhere in this `Shop` class example is there a constructor parameter for `current_income`, however it can be calculated from the other parameters. \n",
    "\n",
    "Notice also that the parameters `num_items_sold` and `price_of_item` that are passed into the constructor are not stored as part of the class. You don't always have to directly store parameter data!"
   ]
  },
  {
   "cell_type": "markdown",
   "id": "b9bbc9db",
   "metadata": {},
   "source": [
    "### Methods\n",
    "We have already come across a special kind of method, the constructor, but methods are just like functions in that we can create them to do whatever we want! Take a look at this example class:"
   ]
  },
  {
   "cell_type": "code",
   "execution_count": null,
   "id": "f542554e",
   "metadata": {},
   "outputs": [],
   "source": [
    "class Traveller:\n",
    "    def __init__(self):\n",
    "        self.distance_travelled = 0\n",
    "\n",
    "    def greet(self):\n",
    "        print(\"Hello Traveller!\")\n",
    "    \n",
    "    def move(self, distance):\n",
    "        self.greet()\n",
    "        self.distance_travelled += distance\n",
    "        print(f\"You've travelled a total of {self.distance_travelled} metres\")"
   ]
  },
  {
   "cell_type": "markdown",
   "id": "03f21ad1",
   "metadata": {},
   "source": [
    "This `Traveller` class example contains 2 methods, other than the constructor.\n",
    "\n",
    "- `greet()` simply prints a pre-defined message. Even still, it requires `self` to be passed in as a parameter. This is because `greet()` is bound to the class in which it is created, and so needs to have a reference to an instance of that class object. \n",
    "\n",
    "- `move()` is a simple example of how a class' methods can be used to display and update its properties. It also shows that methods can reference other methods within a class by calling `self.[method_name]`, in this case: `self.greet()`. Note that if we wanted to call that same method from outside the class definition, we would call `[object_name].greet()`."
   ]
  },
  {
   "cell_type": "markdown",
   "id": "80b42779",
   "metadata": {},
   "source": [
    "### Task 2 - TODO Title\n",
    "\n",
    "Going back to our game example, extend your `Player` class definition to include the following properties & methods:\n",
    "\n",
    "1. `self.health` property.\n",
    "    - This is not explicitly given as a parameter in the constructor, but instead calculated as follows: \n",
    "    - `(level * 10) - injuries`, where `injuries` is a parameter given in the constructor that defaults to 0. \n",
    "    - Do not save `injuries` as a property of the `Player` class.\n",
    "\n",
    "2. `level_up()` method. \n",
    "    - This will take a parameter called `increase`, which will be 1 by default, but can be overriden.\n",
    "    - This will increase the player's `self.level` property by the `increase` parameter value specified above.\n",
    "    - After that, it will recalculate the player's `self.health` property, by multiplying their new level by 10.\n",
    "    - Then you can print out the player's new level and health!\n",
    "\n",
    "You can choose to either add to the `Player` class definition from [Task 1](#task_1) and rerun the code cell, or rewrite it in a code cell below. I would recommend rewriting it below, to maintain the flow of the worksheet _(you can copy and paste it below, and then add to it)_.\n",
    "\n",
    "<a id='task_2'></a>"
   ]
  },
  {
   "cell_type": "code",
   "execution_count": null,
   "id": "99bf374e",
   "metadata": {},
   "outputs": [],
   "source": [
    "# Put your Player class definition for task 2 here..\n",
    "\n",
    "\n"
   ]
  },
  {
   "cell_type": "markdown",
   "id": "56268960",
   "metadata": {},
   "source": [
    "#### Task 2 Answers\n",
    "Run the following cell to check your answers to task 2"
   ]
  },
  {
   "cell_type": "code",
   "execution_count": null,
   "id": "dbb34a56",
   "metadata": {},
   "outputs": [],
   "source": [
    "# ANSWER FOR TESTING\n",
    "# TODO: remove this code cell\n",
    "\n",
    "class Player:\n",
    "    def __init__(self, name, level, has_weapon, injuries = 0):\n",
    "        self.name = name\n",
    "        self.level = level\n",
    "        self.has_weapon = has_weapon\n",
    "        self.health = (level * 10) - injuries\n",
    "    \n",
    "    def level_up(self, increase = 1):\n",
    "        self.level += increase\n",
    "        self.health = self.level * 10\n",
    "        print(f\"{self.name} leveled up by {increase}!\\nNew level: {self.level}\\nNew health: {self.health}\")"
   ]
  },
  {
   "cell_type": "code",
   "execution_count": null,
   "id": "8e7dd9ee",
   "metadata": {},
   "outputs": [],
   "source": [
    "task_2_player_class = None\n",
    "try:\n",
    "    task_2_player_class = Player(\"John\", 1, True, 2)\n",
    "except NameError as e:\n",
    "    print(\"The Player class doesn't exist!\")\n",
    "except TypeError as e:\n",
    "    print(\"Your class doesn't have the correct number of constructor parameters!\")\n",
    "\n",
    "if(task_2_player_class):\n",
    "    task_2_player_a = Player(\"a\", 1, True)\n",
    "    task_2_player_b = Player(\"b\", 2, True, 2)\n",
    "    task_2_player_c = Player(\"c\", 3, True)\n",
    "    task_2_player_d = Player(\"d\", 4, True)\n",
    "\n",
    "    task_2_player_c.level_up()\n",
    "    task_2_player_d.level_up(5)\n",
    "\n",
    "    task_2_data = {\n",
    "        \"task_2_player_a.level\" : 1,\n",
    "        \"task_2_player_a.health\" : 10,\n",
    "        \"task_2_player_b.level\" : 2,\n",
    "        \"task_2_player_b.health\" : 18,\n",
    "        \"task_2_player_c.level\" : 4,\n",
    "        \"task_2_player_c.health\" : 40,\n",
    "        \"task_2_player_d.level\" : 9,\n",
    "        \"task_2_player_d.health\" : 90\n",
    "    }\n",
    "\n",
    "    check_answers_against_data(task_2_data, assert_class)"
   ]
  }
 ],
 "metadata": {
  "kernelspec": {
   "display_name": "Python 3 (ipykernel)",
   "language": "python",
   "name": "python3"
  },
  "language_info": {
   "codemirror_mode": {
    "name": "ipython",
    "version": 3
   },
   "file_extension": ".py",
   "mimetype": "text/x-python",
   "name": "python",
   "nbconvert_exporter": "python",
   "pygments_lexer": "ipython3",
   "version": "3.11.4"
  }
 },
 "nbformat": 4,
 "nbformat_minor": 5
}
