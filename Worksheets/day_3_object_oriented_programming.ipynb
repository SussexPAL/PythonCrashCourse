{
 "cells": [
  {
   "cell_type": "markdown",
   "id": "792e74bb",
   "metadata": {},
   "source": [
    "### *[ Code which allows us to mark your answers. Please run and then ignore :) ]*"
   ]
  },
  {
   "cell_type": "code",
   "execution_count": null,
   "id": "044e76b3",
   "metadata": {},
   "outputs": [],
   "source": [
    "%pip install rich\n",
    "%pip install ipywidgets\n",
    "\n",
    "from rich.progress import Progress\n",
    "from rich import print\n",
    "from rich.panel import Panel\n",
    "\n",
    "def success_panel(msg: str, title: str) -> None:\n",
    "    print(Panel(msg, title=title, border_style=\"green\"))\n",
    "\n",
    "def problem_panel(msg: str, title: str) -> None:\n",
    "    print(Panel(msg, title=title, border_style=\"red\"))\n",
    "\n",
    "def assert_variable_values(key, value):\n",
    "    assert(globals()[key] == value)\n",
    "    return\n",
    "\n",
    "def assert_class(keys,value):\n",
    "    keys = keys.split(\".\")\n",
    "    if len(keys) == 1:\n",
    "        assert(isinstance(globals()[keys[0]], globals()[value]))\n",
    "    elif len(keys) == 2:\n",
    "        attrVal = getattr(globals()[keys[0]], keys[1])\n",
    "        attrVal = attrVal.lower() if isinstance(attrVal, str) else attrVal\n",
    "        assert(attrVal == value)\n",
    "    return\n",
    "\n",
    "def check_answers_against_data(data, assert_method):\n",
    "    with Progress() as progress:\n",
    "        assert_task = progress.add_task(\"[green]Checking solution...\", total=len(data.keys()))\n",
    "        failed = 0\n",
    "        for key in data.keys():\n",
    "            value = data[key]\n",
    "            try:\n",
    "                assert_method(key, value)\n",
    "                success_panel(f\"Congratulations! \\\"{key}\\\" is the right data ({value})\", title=\"Data verified\")\n",
    "            except KeyError as e:\n",
    "                failed += 1\n",
    "                # key error means it isn't in globals...\n",
    "                problem_panel(f\"\\\"{key}\\\" isn't defined...\", \"Undefined variable\")\n",
    "            except AssertionError as e:\n",
    "                failed += 1\n",
    "                problem_panel(f\"\\\"{key}\\\" isn't what we were expecting...\", \"Data error\")\n",
    "            except AttributeError as e:\n",
    "                failed += 1\n",
    "                problem_panel(f\"\\\"{key}\\\" doesn't exist...\", \"Attribute error\")\n",
    "            progress.update(assert_task, advance=1)\n",
    "        \n",
    "        if failed > 0:\n",
    "            problem_panel(f\"Oops! {failed} of {len(data.keys())} things aren't quite right\\nDouble check your logic, make some changes, and re-run!\", \"\")\n",
    "        else:\n",
    "            success_panel(\"Congratulations! Everything seems all good :) Feel free to move onto the next exercise!\", \"Exercise complete!\")"
   ]
  },
  {
   "cell_type": "markdown",
   "id": "1e219a8e",
   "metadata": {},
   "source": [
    "# Object Oriented Programming\n",
    "This notebook will give you some practical experience with Object Oriented Programming in python. We'll apply its key concepts to create a mini game example for us to experiment with. By the end, you'll have a solid understanding of what classes and objects are, the properties and methods they can possess, and how they are able to relate and inherit from each other."
   ]
  },
  {
   "cell_type": "markdown",
   "id": "2af85362",
   "metadata": {},
   "source": [
    "## Introduction: Classes and Objects\n",
    "A class is like a code template - it tells our program that anything created with that template must have certain properties and methods that are associated with the class. An object, therefore, is a unique product of that template. If a class is a cookie cutter, then objects are the cookies themselves. Each cookie has the same shape, as defined by the cutter, and you can make as many cookies as you want from just one cutter. In the same way, you can have many objects that are instances of the same class."
   ]
  },
  {
   "cell_type": "markdown",
   "id": "2fdc4fc8",
   "metadata": {},
   "source": [
    "Let's create the most basic class we can. We'll call it player, because eventually it will represent a player character in our game example.\n",
    "\n",
    "*Note: It's convention in Python for class names to start with a capital letter!*"
   ]
  },
  {
   "cell_type": "code",
   "execution_count": null,
   "id": "63557355",
   "metadata": {},
   "outputs": [],
   "source": [
    "class Player:   # Python syntax for defining a class\n",
    "    \n",
    "    # Class code would go inside here\n",
    "\n",
    "    pass        # Since our class is currently empty, we tell python to just pass on . This line is unnecessary for any non-empty class."
   ]
  },
  {
   "cell_type": "markdown",
   "id": "11f12dcb",
   "metadata": {},
   "source": [
    "It may be empty at the moment, but now that we have our `Player` class (or template), we can instantiate as many *Player objects* as we want:"
   ]
  },
  {
   "cell_type": "code",
   "execution_count": null,
   "id": "e0904995",
   "metadata": {},
   "outputs": [],
   "source": [
    "player_1 = Player() # Instantiate an object and store it as a variable: player_1\n",
    "player_2 = Player() # Instantiate another object and store it as a variable: player_2"
   ]
  },
  {
   "cell_type": "markdown",
   "id": "19ca5f0b",
   "metadata": {},
   "source": [
    "<a id='obj_print'></a>\n",
    "What happens when we print these objects?"
   ]
  },
  {
   "cell_type": "code",
   "execution_count": null,
   "id": "f7893de0",
   "metadata": {},
   "outputs": [],
   "source": [
    "print(player_1)\n",
    "print(player_2)"
   ]
  },
  {
   "cell_type": "markdown",
   "id": "8fa86e57",
   "metadata": {},
   "source": [
    "Here we can see that when you print an object, python shows you the class that the object belongs to (`__main__.Player`), followed by the location in memory where it is stored.\n",
    "\n",
    "Notice how these memory addresses are different from each other. This is because although `player_1` and `player_2` are created from the same class, they are separate objects which can have different properties from each other.\n",
    "\n",
    "*Later we'll discover a way to change what happens when you print an object, so that it displays something more useful to us humans!*"
   ]
  },
  {
   "cell_type": "markdown",
   "id": "1bb8829b",
   "metadata": {},
   "source": [
    "## Part 1: Constructors\n",
    "Let's make our classes more useful! \n",
    "\n",
    "Every class has a special method in it, called a constructor, which is invoked when an object of that class is first instantiated. Constructors allow us to store data in our class objects by passing in parameters and saving them as object-specific variables, called properties *(or attributes)*.\n",
    "\n",
    "Constructors in python must be declared with the name `__init__`, letting python know that this is indeed a constructor. This is how we create them:"
   ]
  },
  {
   "cell_type": "code",
   "execution_count": null,
   "id": "06013e35",
   "metadata": {},
   "outputs": [],
   "source": [
    "class Player:\n",
    "    \n",
    "    def __init__(self, name):\n",
    "        self.name = name"
   ]
  },
  {
   "cell_type": "markdown",
   "id": "76b857a4",
   "metadata": {},
   "source": [
    "You'll notice that our constructor takes two parameters: `self` and `name`. \n",
    "- `self`: refers to the particular object in question, and must be defined as the 1st parameter to every method declaration within a class.\n",
    "- `name`: is a parameter that we have defined ourselves, and will have to be passed into the constructor when a Player object is instantiated. \n",
    "\n",
    "Now, when we create a player object, we will need to pass in a name as a parameter. When we do this, it is stored as `self.name`, which is now a property of the `Player` class.\n",
    "\n",
    "Let's see how we would create a Player object now:"
   ]
  },
  {
   "cell_type": "code",
   "execution_count": null,
   "id": "9965afc9",
   "metadata": {},
   "outputs": [],
   "source": [
    "player_1 = Player(\"Jim the Hero\") # Create a Player object with the name: \"Jim the Hero\"\n",
    "\n",
    "print(\"player_1's name is: \" + player_1.name) # Print the object's name property"
   ]
  },
  {
   "cell_type": "markdown",
   "id": "641d3589",
   "metadata": {},
   "source": [
    "Things worth noting:\n",
    "\n",
    "- An object's properties/methods can be accessed by `[variable_name].[property/method_name]`. In this example: `player_1.name`.\n",
    "\n",
    "- Notice that when we instantiated `player_1` this time, although we needed to give it a `name` parameter, we did not need to give it a `self` parameter. Unlike when you're declaring methods, you never need to explicitly pass in `self` as a parameter when you are calling them, as python will do this automatically for you! It knows which object you are referring to by virtue of how you are accessing that method.\n",
    "\n",
    "- The line in our Player constructor `self.name = name` is an important one! Without it, the `name` parameter that is passed into the constructor will be lost, as it is not stored as a property of that object (`self.name`). You can see that in the following example:"
   ]
  },
  {
   "cell_type": "code",
   "execution_count": null,
   "id": "595b986a",
   "metadata": {},
   "outputs": [],
   "source": [
    "# Create an example class which does not store the constructor's name parameter as an object property\n",
    "class Example_Class:\n",
    "    def __init__(self, name):\n",
    "        pass\n",
    "\n",
    "eg = Example_Class(\"Example name\") # Create an object instance of that class and pass in a name \n",
    "\n",
    "print(eg.name) # This line will produce an Attribute Error, as the class contains no self.name"
   ]
  },
  {
   "cell_type": "markdown",
   "id": "6d41d3c3",
   "metadata": {},
   "source": [
    "### Task 1: Constructing your own constructor!"
   ]
  },
  {
   "cell_type": "markdown",
   "id": "90afacd9",
   "metadata": {},
   "source": [
    "Rewrite the `Player` class, such that it has a constructor which takes and stores 3 parameters:\n",
    "- `name`: A string representing the player's name\n",
    "- `level`: An integer value representing the player's level \n",
    "- `has_weapon`: A boolean value (True/False) representing whether the player has a weapon that they can use to fight with\n",
    "\n",
    "*(Note: Don't forget about the `self` variable!)*\n",
    "\n",
    "Then create a Player object with the following parameter values, storing them in the variable provided (`task_1_player`):\n",
    "- `name`: `\"Achilles\"`\n",
    "- `level`: `99`\n",
    "- `has_weapon`: `True`\n",
    "\n",
    "<a id='task_1'></a>"
   ]
  },
  {
   "cell_type": "code",
   "execution_count": null,
   "id": "4cc967be",
   "metadata": {},
   "outputs": [],
   "source": [
    "# Put your new Player class definition here...\n",
    "\n",
    "\n"
   ]
  },
  {
   "cell_type": "code",
   "execution_count": null,
   "id": "9b81ccc3",
   "metadata": {},
   "outputs": [],
   "source": [
    "# Create your player object here...\n",
    "task_1_player = "
   ]
  },
  {
   "cell_type": "markdown",
   "id": "f86c97b9",
   "metadata": {},
   "source": [
    "#### Task 1 Answers\n",
    "Run the following cell to check your answers to task 1"
   ]
  },
  {
   "cell_type": "code",
   "execution_count": null,
   "id": "9ee38c9b",
   "metadata": {},
   "outputs": [],
   "source": [
    "# ANSWER FOR TESTING\n",
    "# TODO: remove this code cell\n",
    "\n",
    "# Put your new Player class definition here...\n",
    "class Player:\n",
    "    def __init__(self, name, level, has_weapon):\n",
    "        self.name = name\n",
    "        self.level = level\n",
    "        self.has_weapon = has_weapon\n",
    "\n",
    "# Create your player object here\n",
    "task_1_player = Player(\"Achilles\", 99, True)"
   ]
  },
  {
   "cell_type": "code",
   "execution_count": null,
   "id": "fb7e22c7",
   "metadata": {},
   "outputs": [],
   "source": [
    "# CODE CELL FOR AUTO-MARKING\n",
    "# RUN THIS TO MARK YOUR ANSWERS\n",
    "\n",
    "task_1_data = {\n",
    "    \"task_1_player\" : \"Player\",\n",
    "    \"task_1_player.name\" : \"achilles\",\n",
    "    \"task_1_player.level\" : 99,\n",
    "    \"task_1_player.has_weapon\" : True,\n",
    "}\n",
    "\n",
    "check_answers_against_data(task_1_data, assert_class)\n"
   ]
  },
  {
   "cell_type": "markdown",
   "id": "89d3fff3",
   "metadata": {},
   "source": [
    "## Part 2: Properties and Methods\n",
    "Let's learn more about what you can do with properties and methods! \n",
    "\n",
    "Properties are like variables that are attached to a class. Likewise, methods are like functions that are attached to a class. They are mostly the same as their class-less counterparts, but need a few extra considerations.\n"
   ]
  },
  {
   "cell_type": "markdown",
   "id": "e5905c23",
   "metadata": {},
   "source": [
    "### Properties *- Default Values*\n",
    "A class' properties don't have to always be specified in order to be defined. *Default property values* can be specified in the constructor, allowing you to avoid having to put in values when instantiating an object. This is useful if you know that there are common values an object's properties will have when it's first created.\n",
    "\n",
    "Here is an example class constructor with default values:"
   ]
  },
  {
   "cell_type": "code",
   "execution_count": null,
   "id": "a5de0718",
   "metadata": {},
   "outputs": [],
   "source": [
    "class Customer:\n",
    "    def __init__(self, name, is_elite_member = False):\n",
    "        self.name = name\n",
    "        self.is_elite_member = is_elite_member\n",
    "        self.num_purchases = 0"
   ]
  },
  {
   "cell_type": "markdown",
   "id": "1dfc37e2",
   "metadata": {},
   "source": [
    "Notice there are two ways that we have established default parameter values for this `Customer` class.\n",
    "1. `is_elite_member`: This is defined as a constructor parameter with a default value, allowing the possibility for the default value to be overriden when a Customer object is instantiated.   \n",
    "2. `num_purchases`: This is not given as a constructor parameter, and so cannot be overriden. A newly-created Customer object will always have its num_purchases property value start at 0.\n",
    "\n",
    "This is how we would instantiate Customer objects:"
   ]
  },
  {
   "cell_type": "code",
   "execution_count": null,
   "id": "cc8471bb",
   "metadata": {},
   "outputs": [],
   "source": [
    "customer_1 = Customer(\"Jenny\") # Instantiate object with all default values\n",
    "customer_2 = Customer(\"Paul\", True) # Instantiate object overriding available default values \n",
    "\n",
    "# Print customer object values for demonstration\n",
    "# Note: vars() returns a dictionary containing the attributes of a gibven object and their respective values\n",
    "print(\"Customer 1 values: \" + str(vars(customer_1)))\n",
    "print(\"Customer 2 values: \" + str(vars(customer_2)))"
   ]
  },
  {
   "cell_type": "markdown",
   "id": "65612240",
   "metadata": {},
   "source": [
    "### Properties *- Derived Values*\n",
    "Notice how the above `Customer` class example involved a property (`num_purchases`) which was not defined as a constructor parameter. This highlights the fact that there does not need to be a 1 to 1 relationship between a class' properties and its constructor parameters. Properties can not only be created with default values, but also _derived_ indirectly from other parameter values. Here's an example:  "
   ]
  },
  {
   "cell_type": "code",
   "execution_count": null,
   "id": "ca3f0eb5",
   "metadata": {},
   "outputs": [],
   "source": [
    "class Shop:\n",
    "    def __init__(self, num_items_sold, price_of_item):\n",
    "        # Total income is a product of the number of sold items, and how much they each cost \n",
    "        self.current_income = num_items_sold * price_of_item\n",
    "\n",
    "shop = Shop(10, 9.99)\n",
    "\n",
    "print(\"Total current income of our shop: £\" + str(shop.current_income))"
   ]
  },
  {
   "cell_type": "markdown",
   "id": "dcf77cf4",
   "metadata": {},
   "source": [
    "Nowhere in this `Shop` class example is there a constructor parameter for `current_income`, however it can be calculated from the other parameters. \n",
    "\n",
    "Notice also that the parameters `num_items_sold` and `price_of_item` that are passed into the constructor are not stored as part of the class. You don't always have to directly store parameter data!"
   ]
  },
  {
   "cell_type": "markdown",
   "id": "b9bbc9db",
   "metadata": {},
   "source": [
    "### Methods\n",
    "We have already come across a special kind of method, the constructor, but methods are just like functions in that we can create them to do whatever we want! Take a look at this example class:"
   ]
  },
  {
   "cell_type": "code",
   "execution_count": null,
   "id": "f542554e",
   "metadata": {},
   "outputs": [],
   "source": [
    "class Traveller:\n",
    "    def __init__(self):\n",
    "        self.distance_travelled = 0\n",
    "\n",
    "    def greet(self):\n",
    "        print(\"Hello Traveller!\")\n",
    "    \n",
    "    def move(self, distance):\n",
    "        self.greet()\n",
    "        self.distance_travelled += distance\n",
    "        print(f\"You've travelled a total of {self.distance_travelled} metres\")"
   ]
  },
  {
   "cell_type": "markdown",
   "id": "03f21ad1",
   "metadata": {},
   "source": [
    "This `Traveller` class example contains 2 methods, other than the constructor.\n",
    "\n",
    "- `greet()` simply prints a pre-defined message. Even still, it requires `self` to be passed in as a parameter. This is because `greet()` is bound to the class in which it is created, and so needs to have a reference to an instance of that class object. \n",
    "\n",
    "- `move()` is a simple example of how a class' methods can be used to display and update its properties. It also shows that methods can reference other methods within a class by calling `self.[method_name]`, in this case: `self.greet()`. Note that if we wanted to call that same method from outside the class definition, we would call `[object_name].greet()`."
   ]
  },
  {
   "cell_type": "markdown",
   "id": "80b42779",
   "metadata": {},
   "source": [
    "### Task 2: Creating your own properties and methods\n",
    "\n",
    "Going back to our game example, extend your `Player` class definition to include the following properties & methods:\n",
    "\n",
    "1. `self.health` property.\n",
    "    - This is not explicitly given as a parameter in the constructor, but instead calculated as follows: \n",
    "    - `(level * 10) - injuries`, where `injuries` is a parameter given in the constructor that defaults to 0. \n",
    "    - Do not save `injuries` as a property of the `Player` class.\n",
    "\n",
    "2. `level_up()` method. \n",
    "    - This will take a parameter called `increase`, which will be 1 by default, but can be overriden.\n",
    "    - This will increase the player's `self.level` property by the `increase` parameter value specified above.\n",
    "    - After that, it will recalculate the player's `self.health` property, by multiplying their new level by 10.\n",
    "    - Then you can print out the player's new level and health!\n",
    "\n",
    "You can choose to either add to the `Player` class definition from [Task 1](#task_1) and rerun the code cell, or rewrite it in a code cell below. I would recommend rewriting it below, to maintain the flow of the worksheet _(you can copy and paste it below, and then add to it)_.\n",
    "\n",
    "<a id='task_2'></a>"
   ]
  },
  {
   "cell_type": "code",
   "execution_count": null,
   "id": "99bf374e",
   "metadata": {},
   "outputs": [],
   "source": [
    "# Put your Player class definition for task 2 here..\n",
    "\n",
    "\n"
   ]
  },
  {
   "cell_type": "markdown",
   "id": "56268960",
   "metadata": {},
   "source": [
    "#### Task 2 Answers\n",
    "Run the following cell to check your answers to task 2"
   ]
  },
  {
   "cell_type": "code",
   "execution_count": null,
   "id": "dbb34a56",
   "metadata": {},
   "outputs": [],
   "source": [
    "# ANSWER FOR TESTING\n",
    "# TODO: remove this code cell\n",
    "\n",
    "class Player:\n",
    "    def __init__(self, name, level, has_weapon, injuries = 0):\n",
    "        self.name = name\n",
    "        self.level = level\n",
    "        self.has_weapon = has_weapon\n",
    "        self.health = (level * 10) - injuries\n",
    "    \n",
    "    def level_up(self, increase = 1):\n",
    "        self.level += increase\n",
    "        self.health = self.level * 10\n",
    "        print(f\"{self.name} leveled up by {increase}!\\nNew level: {self.level}\\nNew health: {self.health}\")"
   ]
  },
  {
   "cell_type": "code",
   "execution_count": null,
   "id": "8e7dd9ee",
   "metadata": {},
   "outputs": [],
   "source": [
    "# CODE CELL FOR AUTO-MARKING\n",
    "# RUN THIS TO MARK YOUR ANSWERS\n",
    "\n",
    "task_2_player_class = None\n",
    "try:\n",
    "    task_2_player_class = Player(\"John\", 1, True)\n",
    "except NameError as e:\n",
    "    problem_panel(\"The Player class doesn't exist!\", \"Class Required\")\n",
    "except TypeError as e:\n",
    "    problem_panel(\"Your class' constructor parameters are not all correct! Go back and read the task instructions carefully.\", \"Type Error\")\n",
    "\n",
    "if (task_2_player_class):\n",
    "    if(not callable(getattr(task_2_player_class, \"level_up\", None))):\n",
    "        problem_panel(\"Your Player class has not defined a method called level_up()! Go back and read the task instructions carefully.\", \"Method Required\")\n",
    "        task_2_player_class = None\n",
    "\n",
    "if(task_2_player_class):\n",
    "    task_2_player_a = Player(\"a\", 1, True)\n",
    "    task_2_player_b = Player(\"b\", 2, True, 2)\n",
    "    task_2_player_c = Player(\"c\", 3, True)\n",
    "    task_2_player_d = Player(\"d\", 4, True)\n",
    "\n",
    "    task_2_player_c.level_up()\n",
    "    task_2_player_d.level_up(5)\n",
    "\n",
    "    task_2_data = {\n",
    "        \"task_2_player_a.level\" : 1,\n",
    "        \"task_2_player_a.health\" : 10,\n",
    "        \"task_2_player_b.level\" : 2,\n",
    "        \"task_2_player_b.health\" : 18,\n",
    "        \"task_2_player_c.level\" : 4,\n",
    "        \"task_2_player_c.health\" : 40,\n",
    "        \"task_2_player_d.level\" : 9,\n",
    "        \"task_2_player_d.health\" : 90\n",
    "    }\n",
    "\n",
    "    check_answers_against_data(task_2_data, assert_class)"
   ]
  },
  {
   "cell_type": "markdown",
   "id": "f3ed54b2",
   "metadata": {},
   "source": [
    "## Part 3: Inheritance\n",
    "The relationship between different things in real life can often be organised hierarchically. For example, both cats and dogs are mammals, and all mammals are animals. Still, a cat is not a dog. Although they share some properties by virtue of them both being mammals, they also differ in a lot of ways. Similarly, in python, you may want different classes to share properties/methods with each other, while also having their own unique ones. This section outlines how this is possible. "
   ]
  },
  {
   "cell_type": "markdown",
   "id": "f8198eac",
   "metadata": {},
   "source": [
    "### Inheritance Basics\n",
    "To go with our `Player` class, here we have a definition for an `Enemy` class: "
   ]
  },
  {
   "cell_type": "code",
   "execution_count": null,
   "id": "625080a3",
   "metadata": {},
   "outputs": [],
   "source": [
    "class Enemy:\n",
    "    # Constructor\n",
    "    def __init__(self, health, damage):\n",
    "        self.health = health\n",
    "        self.damage = damage\n",
    "        self.is_angry = False\n",
    "\n",
    "    # Another special method: __str__()\n",
    "    # It's called everytime we cast this object as a string\n",
    "    def __str__(self):\n",
    "        return \"basic enemy\"\n",
    "    \n",
    "    # Method which gets prints what kind of enemy this is, based off the above __str__() method\n",
    "    def identify(self):\n",
    "        print(\"This is a \" + str(self) + \".\")"
   ]
  },
  {
   "cell_type": "markdown",
   "id": "487ce967",
   "metadata": {},
   "source": [
    ">\\*\\**Side Note*\\*\\*<br>\n",
    "You may have noticed another pre-defined, special method in this class definition: `__str__()`.<br>\n",
    "This method allows you to return a custom string value, which replaces the text that otherwise would have been returned when this object is cast as a string. <br> Remember what was outputted at the beginning of this notebook, when we [printed objects](#obj_print)? Now, when we call `print([enemy_object])`, instead of printing a long and confusing string, `\"basic enemy\"` is printed instead!"
   ]
  },
  {
   "cell_type": "markdown",
   "id": "c1233fdb",
   "metadata": {},
   "source": [
    "Now that we have our basic `Enemy` class, what if we want to be able to distinguish between different types of enemies? This is where inheritance comes in.\n",
    "\n",
    "Here we will create a new class, `Robot`, which inherits from `Enemy`. This means that it will keep all of the same properties and methods as `Enemy`. In other words, `Enemy` is the **parent** class, while `Robot` is a **child** class.\n",
    "\n",
    "This is the syntax for creating a child class:"
   ]
  },
  {
   "cell_type": "code",
   "execution_count": null,
   "id": "b6234c1a",
   "metadata": {},
   "outputs": [],
   "source": [
    "# Brackets after the new class name allow you to specify a parent class to inherit from\n",
    "class Robot(Enemy):\n",
    "    pass"
   ]
  },
  {
   "cell_type": "markdown",
   "id": "271fb07c",
   "metadata": {},
   "source": [
    "`Robot` is now an exact copy of the `Enemy` class. Notice how if we create a robot object, its properties and methods will be the exact same as `Enemy`'s, even though we did not declare any of them in the `Robot`'s class definition:"
   ]
  },
  {
   "cell_type": "code",
   "execution_count": null,
   "id": "31b860c6",
   "metadata": {},
   "outputs": [],
   "source": [
    "# Instantiate Enemy and Robot objects\n",
    "enemy = Enemy(50, 10)\n",
    "robot = Robot(50, 10)\n",
    "\n",
    "# Compare properties\n",
    "print(\"Enemy properties: \" + str(vars(enemy)))\n",
    "print(\"Robot properties: \" + str(vars(robot)))\n",
    "\n",
    "# Compare methods\n",
    "enemy.identify()\n",
    "robot.identify()"
   ]
  },
  {
   "cell_type": "markdown",
   "id": "0624cfb8",
   "metadata": {},
   "source": [
    "Let's now add a method to `Robot` that is specific to that class only:"
   ]
  },
  {
   "cell_type": "code",
   "execution_count": null,
   "id": "fa190166",
   "metadata": {},
   "outputs": [],
   "source": [
    "# Redefining the robot class, this time with an extra method!\n",
    "class Robot(Enemy):\n",
    "    def double_health(self):\n",
    "        self.health = self.health * 2"
   ]
  },
  {
   "cell_type": "markdown",
   "id": "ed402c83",
   "metadata": {},
   "source": [
    "We've added a method `double_health`, which doubles the robot's `self.health` property value.\n",
    "\n",
    "Methods of a child class cannot be accessed by the parent class, or by other children of that parent class. This is how inheritance allows us to create objects that share properties/ methods with other objects, while still having their own that are specific to them. \n",
    "\n",
    "Look what happens when we try to call `enemy.double_health`:"
   ]
  },
  {
   "cell_type": "code",
   "execution_count": null,
   "id": "e1c07d5a",
   "metadata": {},
   "outputs": [],
   "source": [
    "# Instantiate Enemy and Robot objects\n",
    "enemy = Enemy(50, 10)\n",
    "robot = Robot(50, 10)\n",
    "\n",
    "# Call double_health() on robot (child) and print the result \n",
    "robot.double_health()\n",
    "print(\"New robot health: \" + str(robot.health))\n",
    "\n",
    "# Call double_health() on enemy (parent). \n",
    "enemy.double_health() # This line will produce an error!"
   ]
  },
  {
   "cell_type": "markdown",
   "id": "2aca0edc",
   "metadata": {},
   "source": [
    "### Super() and Overrides\n",
    "In addition to being able to have unique methods, child classes can also **override** methods from their parents. This means they can provide unique functionality to the existing methods that they inherited from parent classes. \n",
    "\n",
    "This is often used in conjuction with python's `super()` method. `super()` allows a child class to access any attribute of its parent class. It's kind of like `self`, but instead of referring to this object, it refers to this object's parent class.\n",
    "\n",
    "Here's an example of how it can be used to override the functionality of a parent class:"
   ]
  },
  {
   "cell_type": "code",
   "execution_count": null,
   "id": "1756fdc7",
   "metadata": {},
   "outputs": [],
   "source": [
    "class Parent:\n",
    "    def say_hello(self):\n",
    "        print(\"Parent class: Hello!\")\n",
    "\n",
    "\n",
    "class Child(Parent):\n",
    "    # Redefine an existing method to override it\n",
    "    def say_hello(self):\n",
    "        super().say_hello() # Use super() to call say_hello() from the parent class\n",
    "        print(\"Child class: Goodbye!\") # Override with new functionality\n",
    "\n",
    "\n",
    "obj = Child()\n",
    "obj.say_hello()"
   ]
  },
  {
   "cell_type": "markdown",
   "id": "28d50eb5",
   "metadata": {},
   "source": [
    "Going back to our game example, let's redefine our `Robot` class to override its constructor, and make it so that it always starts with 10 health: "
   ]
  },
  {
   "cell_type": "code",
   "execution_count": null,
   "id": "83cb4f37",
   "metadata": {},
   "outputs": [],
   "source": [
    "# Once again, redefining the Robot class\n",
    "class Robot(Enemy):\n",
    "    # Override the constructor\n",
    "    def __init__(self, damage):\n",
    "        # Call the parent's constructor, passing in 10 as the health parameter\n",
    "        super().__init__(10, damage) \n",
    "\n",
    "    # Same method from before\n",
    "    def double_health(self):\n",
    "        self.health = self.health * 2\n",
    "\n",
    "# Now when we instantiate a Robot, we only need to pass damage into the constructor\n",
    "robot = Robot(100)\n",
    "print(vars(robot))"
   ]
  },
  {
   "cell_type": "markdown",
   "id": "1dda0814",
   "metadata": {},
   "source": [
    "### Task 3: Different Enemy types with inheritance\n",
    "1. Create a class called `Goblin`, which extends `Enemy`.\n",
    "2. Override `Goblin`'s constructor, such that it always has a `damage` value of 7, but `health` still needs to be passed into the constructor.\n",
    "    - *Hint: If you are stuck on this, look at the above code cell for help!*\n",
    "3. Add a method to `Goblin`, called `toggle_angry`, which sets `self.is_angry` to True if it was False, and False if it was True\n",
    "    - *Hint: The contents of `toggle_angry` can be done in one line! Can you figure out how to do that?*\n",
    "4. Override `Goblin.__str__()` to return the string `\"goblin\"`.\n",
    "5. Similar to (4.), extend the above `Robot` class definition to override `Robot.__str__()` to return the string `\"robot\"`.\n",
    "    - *Either directly edit the `Robot` class definition above (don't forget to rerun the code cell if you do), or copy and paste it into the code cell below and edit it from there.*"
   ]
  },
  {
   "cell_type": "code",
   "execution_count": null,
   "id": "b64f2409",
   "metadata": {},
   "outputs": [],
   "source": [
    "# Put your Goblin class definition here...\n",
    "\n",
    "\n",
    "\n",
    "# Put your edited Robot class definition here... (if you decided to copy and paste it. else, ignore)\n",
    "\n",
    "\n"
   ]
  },
  {
   "cell_type": "markdown",
   "id": "cb1b5bdd",
   "metadata": {},
   "source": [
    "#### Task 3 Answers\n",
    "Run the following cell to check your answers to task 3"
   ]
  },
  {
   "cell_type": "code",
   "execution_count": null,
   "id": "b38a4cd6",
   "metadata": {},
   "outputs": [],
   "source": [
    "# ANSWER FOR TESTING\n",
    "# TODO: remove this code cell\n",
    "\n",
    "class Goblin(Enemy):\n",
    "    def __init__(self, health):\n",
    "        super().__init__(health, 7)\n",
    "    \n",
    "    def __str__(self):\n",
    "        return \"goblin\"\n",
    "    \n",
    "    def toggle_angry(self):\n",
    "        self.is_angry = not self.is_angry\n",
    "\n",
    "class Robot(Enemy):\n",
    "    def __init__(self, damage):\n",
    "        super().__init__(10, damage) \n",
    "\n",
    "    def __str__(self):\n",
    "        return \"robot\"\n",
    "\n",
    "    def double_health(self):\n",
    "        self.health = self.health * 2"
   ]
  },
  {
   "cell_type": "code",
   "execution_count": null,
   "id": "d663e3b8",
   "metadata": {},
   "outputs": [],
   "source": [
    "# CODE CELL FOR AUTO-MARKING\n",
    "# RUN THIS TO MARK YOUR ANSWERS\n",
    "\n",
    "correct_classes = False\n",
    "try:\n",
    "    correct_classes = issubclass(Goblin, Enemy) and issubclass(Robot, Enemy)\n",
    "    success_panel(\"All of the required classes exist (Enemy, Goblin, Robot)\", \"Class Verified\")\n",
    "    if(correct_classes):\n",
    "        success_panel(\"Both Goblin and Robot are children of Enemy\", \"Class Relationship Verified\")\n",
    "    else:\n",
    "        problem_panel(\"Your Robot and/or Goblin class does not inherit from the Enemy class\", \"Class Relationship Required\")\n",
    "except NameError as e:\n",
    "    problem_panel(\"One (or more) of the required classes for this task doesn't exist!\", \"Class Required\")\n",
    "\n",
    "correct_params = False\n",
    "if(correct_classes):\n",
    "    try:\n",
    "        task_3_enemy_class = Enemy(100, 200)\n",
    "        task_3_goblin_class = Goblin(99)\n",
    "        task_3_robot_class = Robot(33)\n",
    "        success_panel(\"You have the correct number of parameters for all of your classes' constructors!\", \"Constructor Params Verified\")\n",
    "        correct_params = True\n",
    "    except TypeError as e:\n",
    "        problem_panel(\"One (or more) of your class' constructor parameters are not all correct! Did you override Goblin's constructor correctly?\", \"Type Error\")\n",
    "     \n",
    "game_methods_exist = False\n",
    "angry_count = 0\n",
    "if (correct_params):\n",
    "    game_methods_exist = callable(getattr(task_3_goblin_class, \"toggle_angry\", None))\n",
    "    if(not game_methods_exist):\n",
    "        problem_panel(\"Your Goblin class has not defined a method called toggle_angry()! Go back and read the task instructions carefully.\", \"Method Required\")\n",
    "    else:\n",
    "        task_3_goblin_class.toggle_angry()\n",
    "        if(task_3_goblin_class.is_angry):\n",
    "            angry_count += 1\n",
    "        task_3_goblin_class.toggle_angry()\n",
    "        if(not task_3_goblin_class.is_angry):\n",
    "            angry_count += 1\n",
    "        if (angry_count == 2):\n",
    "            success_panel(\"Goblin.toggle_angry() works correctly!\", \"Correct method implementation\")\n",
    "        else:\n",
    "            problem_panel(\"Goblin.toggle_angry() does not work correctly! Go back and read the task instructions carefully.\", \"Incorrect method implementation\")\n",
    "\n",
    "correct_overrides = False\n",
    "if(angry_count == 2):\n",
    "    correct_overrides = str(task_3_goblin_class).lower() == \"goblin\" and str(task_3_robot_class).lower() == \"robot\"\n",
    "    if (correct_overrides):\n",
    "        success_panel(\"Both of your __str__() overrides work correctly!\", \"Correct method override\")\n",
    "    else:\n",
    "        problem_panel(\"One (or more) of your __str__() overrides does not work correctly!\", \"Incorrect method override\")\n",
    "\n",
    "if(correct_overrides):\n",
    "    if(task_3_goblin_class.damage == 7 and task_3_goblin_class.health == 99):\n",
    "        success_panel(\"You overrided Goblin's constructor correctly!\", \"Correct method override\")\n",
    "        success_panel(\"Congratulations! Everything seems all good :) Feel free to move onto the next exercise!\", \"Exercise complete!\")\n",
    "    else:\n",
    "        problem_panel(\"You overrided Goblin's constructor incorrectly!\", \"Incorrect method override\")"
   ]
  },
  {
   "cell_type": "markdown",
   "id": "59b3af2e",
   "metadata": {},
   "source": [
    "## Part 4: Multiple Class Interaction\n",
    "Now it's time to tie everything together! The elegance of Object Oriented Programming really shines when you have multiple classes interacting with each other. This final section will show you some of the ways that these class interactions can occur."
   ]
  },
  {
   "cell_type": "markdown",
   "id": "ce79e948",
   "metadata": {},
   "source": [
    "### Creating Objects from another class' method\n",
    "Take a look at this example:"
   ]
  },
  {
   "cell_type": "code",
   "execution_count": null,
   "id": "8e7cc278",
   "metadata": {},
   "outputs": [],
   "source": [
    "# Animal class with some properties\n",
    "class Animal:\n",
    "    def __init__(self, species: str, age: int, gender: str):\n",
    "        self.species = species\n",
    "        self.age = age\n",
    "        self.gender = gender\n",
    "\n",
    "# Zoo class which stores a list of animals \n",
    "class Zoo:\n",
    "    def __init__(self):\n",
    "        self.animals = []\n",
    "    \n",
    "    # Create an animal object with the given parameters and add it to self.animals\n",
    "    def add_animal(self, species: str, age: int, gender: str):\n",
    "        self.animals.append(Animal(species, age, gender))\n",
    "\n",
    "    # Remove an animal object from a given index of self.animals\n",
    "    def remove_animal(self, animal_idx):\n",
    "        del(self.animals[animal_idx])\n",
    "\n",
    "# -- Demonstration --\n",
    "\n",
    "# Create a zoo object and add an animal to it via the add_animal() method\n",
    "zoo = Zoo()\n",
    "zoo.add_animal(\"zebra\", 4, \"male\")\n",
    "print(vars(zoo.animals[0])) # Will print the properties of the newly-created animal object\n",
    "\n",
    "# Remove the first and only entry in the zoo\n",
    "zoo.remove_animal(0)\n",
    "print(zoo.animals) # Will print an empty list"
   ]
  },
  {
   "cell_type": "markdown",
   "id": "92cfd6eb",
   "metadata": {},
   "source": [
    "There are three things worth noting in this example:\n",
    "1. Class properties can be any data type, even other class objects! Or even still, lists of other class objects! \n",
    "\n",
    "    In the `Zoo` class, the property `self.animals` represents a list of `Animal` objects.\n",
    "\n",
    "2. You can have class methods which, given some parameters, are dedicated to creating an object of another class.\n",
    "\n",
    "    The `Zoo` class method `add_animal()` creates an animal object with the given parameters, and adds it to it's list of animals. \n",
    "    \n",
    "    This is a good way for an object to immediately have a reference to another newly-created object.\n",
    "\n",
    "3. You can delete a reference to an object instance by using python's `del()` method. If all references to an object are deleted, the object instance itself will be deleted, as shown by `zoo.remove_animal()`."
   ]
  },
  {
   "cell_type": "markdown",
   "id": "662b0657",
   "metadata": {},
   "source": [
    ">\\*\\**Side Note*\\*\\*<br>\n",
    "You can suggest the type that you want a parameter to have in python by stating `[param]: [type]`.<br>\n",
    "In this case, we told python that we wanted the `player` parameter to be a `Player` object by stating `player: Player` in the constructor's parameter declaration. "
   ]
  },
  {
   "cell_type": "markdown",
   "id": "bf6e2f80",
   "metadata": {},
   "source": [
    "### Disguised calls to methods from other classes"
   ]
  },
  {
   "cell_type": "markdown",
   "id": "8e794257",
   "metadata": {},
   "source": [
    "Somtimes you might want multiple classes to have the same method functionality. Instead of rewriting the same code across multiple classes, you can have one method with all of the functionality, and have the equivalent methods in other classes just call that method.\n",
    "\n",
    "Take a look at this example:"
   ]
  },
  {
   "cell_type": "code",
   "execution_count": null,
   "id": "c674a360",
   "metadata": {},
   "outputs": [],
   "source": [
    "class Address_Book:\n",
    "    def __init__(self):\n",
    "        self.addresses = []\n",
    "    \n",
    "    def register_person(self, person):\n",
    "        self.addresses.append(person)\n",
    "        print(person.name + \" has been added to the address book!\")\n",
    "\n",
    "class Person:\n",
    "    def __init__(self, name: str):\n",
    "        self.name = name\n",
    "    \n",
    "    # This method just calls a method from another class!\n",
    "    def register_person(self, book : Address_Book):\n",
    "        book.register_person(self)"
   ]
  },
  {
   "cell_type": "markdown",
   "id": "e49bde0f",
   "metadata": {},
   "source": [
    "Both of these classes have the function `register_person()`. However, only the method in `Address_Book` actually performs the task of registering a person into the address book, the equivalent method in `Person` is just a disguised call to the other class. \n",
    "\n",
    "Learning not to duplicate code in this way is a powerful coding habit that will save you a lot of time in the future! Say you wanted to change how `register_person()` worked: with this method, you would only need to change it in one place as opposed to in all classes with that method."
   ]
  },
  {
   "cell_type": "markdown",
   "id": "cf5e68f8",
   "metadata": {},
   "source": [
    "### Task 4: Completing the game example\n",
    "Let's test your understanding of Object Oriented Programming by completing our game example. By the end of this task, you will have 5 classes (`Game`, `Player`, `Enemy`, `Robot`, `Goblin`) which all relate to each other, according to various inter-relational rules.\n",
    "\n",
    "1. Create a class called `Game`, with a constructor which takes 1 parameter: `player`.\n",
    "2. The `Game` constructor should have 2 properties:\n",
    "    - `self.player`: its value should be assigned to the `player` parameter\n",
    "    - `self.enemies`: it should be initialized as an empty list\n",
    "3. Create 2 methods within `Game`:\n",
    "    - `add_robot()`: which takes `damage` as a parameter (as robots already have a pre-determined `health`), creates a `Robot` object, and adds it to `self.enemies`\n",
    "    - `add_goblin()`: which takes `health` as a parameter (as goblins already have a pre-determined `damage`), creates a `Goblin` object, and adds it to `self.enemies`\n",
    "4. Create one more method within `Game`: `fight_next_enemy()`\n",
    "    - 4.1.) It should take 2 parameters: `hit_damage`, and `player`, which should default to `None`\n",
    "    - 4.2.) If `player == None`, set it to `self.player`\n",
    "    - 4.3.) If `self.enemies` is empty *(`len(self.enemies == 0)`)*, it should print `\"No enemies left!\"`, and return\n",
    "    - 4.4.) Otherwise, it should take the first `Enemy` in `self.enemies` *`(self.enemies[0])`*, update its `health` to be `health - hit_damage`, and print the enemies new health\n",
    "    - 4.5.) If that `Enemy`'s health is now below 1, it should delete that `Enemy` object instance from `self.enemies`, effectively reducing the list's length by 1\n",
    "        - *\\*Hint:\\* If you're having trouble deleting the enemy object, make sure you have deleted the object that resides within the `enemies` list. You may have stored a reference to that object as a variable, calling `del()` on that variable will not get rid of it from the `enemies` list.*\n",
    "        - *\\*Hint Hint:\\* `del(self.enemies[0])`*\n",
    "    - 4.6.) If an enemy has been defeated, you can print `\"Enemy has been defeated!\"`. Then call that player's `level_up()` method, keeping the `increase` parameter at its default of `1`.\n",
    "5. Extend the `Player` class to include one more method: `fight_next_enemy()`\n",
    "    - It should have 2 parameters: `game` and `hit_damage`\n",
    "    - Instead of rewriting that whole method from the `Game` class, just call that same method from the given `game` parameter\n",
    "    - Make sure to pass in the correct parameters! \n",
    "\n",
    "You can choose to either add to the `Player` class definition from [Task 2](#task_2) and rerun the code cell, or rewrite it in the code cell below.\n",
    "\n",
    "This is quite a challenging task, and it might take you a while to get, but keep at it! All of the info and syntax you need to solve this task is within this section of the notebook. Remember you can create extra code cells to experiment with programming techniques, and to see what your solutions are actually doing. Good luck!  "
   ]
  },
  {
   "cell_type": "code",
   "execution_count": null,
   "id": "2b43ef5c",
   "metadata": {},
   "outputs": [],
   "source": [
    "# Put your Game class definition here...\n",
    "\n",
    "\n",
    "\n",
    "# Put your edited Player class definition here... (if you decided to copy and paste it. else, ignore)\n",
    "\n",
    "\n"
   ]
  },
  {
   "cell_type": "markdown",
   "id": "f106066e",
   "metadata": {},
   "source": [
    "#### Task 4 Answers\n",
    "Run the following cell to check your answers to task 4"
   ]
  },
  {
   "cell_type": "code",
   "execution_count": null,
   "id": "a8d1b81b",
   "metadata": {},
   "outputs": [],
   "source": [
    "# ANSWER FOR TESTING\n",
    "# TODO: remove this code cell\n",
    "\n",
    "class Game:\n",
    "    def __init__(self, player: Player):\n",
    "        self.player = player\n",
    "        self.enemies = [] # Property representing a list of enemies in this game\n",
    "\n",
    "    def add_robot(self, damage):\n",
    "        self.enemies.append(Robot(damage))\n",
    "\n",
    "    def add_goblin(self, health):\n",
    "        self.enemies.append(Goblin(health))\n",
    "\n",
    "    def fight_next_enemy(self, hit_damage, player = None):\n",
    "        if (not player):\n",
    "            player = self.player\n",
    "        if (len(self.enemies) == 0):\n",
    "            print(\"No enemies left!\")\n",
    "            return\n",
    "        self.enemies[0].health -= hit_damage\n",
    "        print(f\"Enemy hit! It now has {self.enemies[0].health} health.\")\n",
    "        if(self.enemies[0].health < 1):\n",
    "            del(self.enemies[0])\n",
    "            print(\"Enemy has been defeated!\")\n",
    "            player.level_up()\n",
    "\n",
    "class Player:\n",
    "    def __init__(self, name, level, has_weapon, injuries = 0):\n",
    "        self.name = name\n",
    "        self.level = level\n",
    "        self.has_weapon = has_weapon\n",
    "        self.health = (level * 10) - injuries\n",
    "    \n",
    "    def level_up(self, increase = 1):\n",
    "        self.level += increase\n",
    "        self.health = self.level * 10\n",
    "        print(f\"{self.name} leveled up by {increase}!\\nNew level: {self.level}\\nNew health: {self.health}\")\n",
    "\n",
    "    def fight_next_enemy(self, game, hit_damage):\n",
    "        game.fight_next_enemy(hit_damage, self)"
   ]
  },
  {
   "cell_type": "code",
   "execution_count": null,
   "id": "3e7124b0",
   "metadata": {},
   "outputs": [],
   "source": [
    "# CODE CELL FOR AUTO-MARKING\n",
    "# RUN THIS TO MARK YOUR ANSWERS\n",
    "\n",
    "correct_classes = False\n",
    "try:\n",
    "    correct_classes = issubclass(Goblin, Enemy) and issubclass(Robot, Enemy)\n",
    "    if (not \"Player\" in dir() or not \"Game\" in dir()):\n",
    "        problem_panel(\"One (or more) of the required classes for this task doesn't exist!\", \"Class Required\")\n",
    "    else:\n",
    "        success_panel(\"All of the required classes exist (Game, Player, Enemy, Goblin, Robot)\", \"Class Verified\")\n",
    "    if(correct_classes):\n",
    "        success_panel(\"Both Goblin and Robot are children of Enemy\", \"Class Relationship Verified\")\n",
    "    else:\n",
    "        problem_panel(\"Your Robot and/or Goblin class does not inherit from the Enemy class\", \"Class Relationship Required\")\n",
    "except NameError as e:\n",
    "    problem_panel(\"One (or more) of the required classes for this task doesn't exist!\", \"Class Required\")\n",
    "\n",
    "correct_params = False\n",
    "if(correct_classes):\n",
    "    try:\n",
    "        task_4_player = Player(\"Hercules\", 5, True, 16)\n",
    "        task_4_game = Game(task_4_player)\n",
    "        task_4_goblin = Goblin(1)\n",
    "        task_4_robot = Robot(1)\n",
    "        success_panel(\"You have the correct number of parameters for all of your classes' constructors!\", \"Constructor Params Verified\")\n",
    "        assert(len(task_4_game.enemies) == 0)\n",
    "        correct_params = True\n",
    "    except:\n",
    "        problem_panel(\"One (or more) of your class' constructors is not fully correct!\", \"Type Error\")\n",
    "     \n",
    "game_methods_exist = False\n",
    "if (correct_params):\n",
    "    game_methods_exist = callable(getattr(task_4_game, \"add_robot\", None)) and callable(getattr(task_4_game, \"add_goblin\", None)) and callable(getattr(task_4_game, \"fight_next_enemy\", None))\n",
    "    if(not game_methods_exist):\n",
    "        problem_panel(\"Your Game class has not defined one (or more) of the required methods! Go back and read the task instructions carefully.\", \"Method Required\")\n",
    "\n",
    "player_method_exists = False\n",
    "if(game_methods_exist):\n",
    "    player_method_exists = callable(getattr(task_4_player, \"fight_next_enemy\", None))\n",
    "    if(not player_method_exists):\n",
    "        problem_panel(\"Your Player class has not defined the 'fight_next_enemy()' method! Go back and read the task instructions carefully.\", \"Method Required\")\n",
    "\n",
    "adds_work = False\n",
    "if(player_method_exists):\n",
    "    try:\n",
    "        task_4_game.add_goblin(1)\n",
    "        assert(len(task_4_game.enemies) == 1)\n",
    "        assert(isinstance(task_4_game.enemies[0], Goblin))\n",
    "        task_4_game.add_robot(1)\n",
    "        assert(len(task_4_game.enemies) == 2)\n",
    "        assert(isinstance(task_4_game.enemies[1], Robot))\n",
    "        success_panel(\"Game.add_robot() and Game.add_goblin() both work correctly!\", \"Correct method implementation\")\n",
    "        adds_work = True\n",
    "    except:\n",
    "        problem_panel(\"Game.add_robot() and/or Game.add_goblin() does not work correctly! Go back and read the task instructions carefully.\", \"Incorrect method implementation\")\n",
    "\n",
    "game_fight_works = False\n",
    "if(adds_work):\n",
    "    try:\n",
    "        task_4_game.fight_next_enemy(8)\n",
    "        assert(len(task_4_game.enemies) == 1)\n",
    "        assert(isinstance(task_4_game.enemies[0], Robot))\n",
    "        assert(task_4_player.level == 6)\n",
    "        task_4_game.fight_next_enemy(5)\n",
    "        assert(len(task_4_game.enemies) == 1)\n",
    "        assert(isinstance(task_4_game.enemies[0], Robot))\n",
    "        assert(task_4_player.level == 6)\n",
    "        task_4_game.fight_next_enemy(5)\n",
    "        assert(len(task_4_game.enemies) == 0)\n",
    "        assert(task_4_player.level == 7)\n",
    "        success_panel(\"Game.fight_next_enemy() works correctly!\", \"Correct method implementation\")\n",
    "        game_fight_works = True\n",
    "    except:\n",
    "        problem_panel(\"Game.fight_next_enemy() does not work correctly! Go back and read the task instructions carefully.\", \"Incorrect method implementation\")\n",
    "\n",
    "if(game_fight_works):\n",
    "    task_4_game.add_goblin(1)\n",
    "    task_4_game.add_robot(1)\n",
    "    try:\n",
    "        task_4_player.fight_next_enemy(task_4_game, hit_damage=8)\n",
    "        assert(len(task_4_game.enemies) == 1)\n",
    "        assert(isinstance(task_4_game.enemies[0], Robot))\n",
    "        assert(task_4_player.level == 8)\n",
    "        task_4_player.fight_next_enemy(task_4_game, hit_damage=5)\n",
    "        assert(len(task_4_game.enemies) == 1)\n",
    "        assert(isinstance(task_4_game.enemies[0], Robot))\n",
    "        assert(task_4_player.level == 8)\n",
    "        task_4_player.fight_next_enemy(task_4_game, hit_damage=5)\n",
    "        assert(len(task_4_game.enemies) == 0)\n",
    "        assert(task_4_player.level == 9)\n",
    "        success_panel(\"Player.fight_next_enemy() works correctly!\", \"Correct method implementation\")\n",
    "    except:\n",
    "        problem_panel(\"Player.fight_next_enemy() does not work correctly! Go back and read the task instructions carefully.\", \"Incorrect method implementation\")\n",
    "        "
   ]
  },
  {
   "cell_type": "markdown",
   "id": "bfc1d702",
   "metadata": {},
   "source": [
    "## Game Example - Class Overview"
   ]
  },
  {
   "cell_type": "markdown",
   "id": "2b8623da",
   "metadata": {},
   "source": [
    "If you've made it this far... Congratulations! This is the end of the worksheet.\n",
    "\n",
    "If you're interested, here is a brief walkthrough of all the game example classes and how they relate to each other"
   ]
  },
  {
   "cell_type": "code",
   "execution_count": null,
   "id": "d7e186bd",
   "metadata": {},
   "outputs": [],
   "source": [
    "# Let's instantiate two Player objects \n",
    "player_1 = Player(\"Hercules\", 5, True)\n",
    "player_2 = Player(\"Bob\", 1, False, 2)\n",
    "\n",
    "# Print out their properties\n",
    "print(f\"player_1 properties: {vars(player_1)}\")\n",
    "print(f\"player_2 properties: {vars(player_2)}\")\n"
   ]
  },
  {
   "cell_type": "code",
   "execution_count": null,
   "id": "79df0f0e",
   "metadata": {},
   "outputs": [],
   "source": [
    "# Now we can create a Game object, which takes a player.\n",
    "# Let's give it Hercules\n",
    "game = Game(player_1)\n",
    "\n",
    "# Print out game's properties\n",
    "print(f\"game properties: {vars(game)}\") \n",
    "\n",
    "# From this output we will see that there is a player object and an empty enemy list\n"
   ]
  },
  {
   "cell_type": "code",
   "execution_count": null,
   "id": "271eaf27",
   "metadata": {},
   "outputs": [],
   "source": [
    "# Let's add some enemies to our game\n",
    "game.add_robot(damage=20)\n",
    "game.add_goblin(health=5)\n",
    "\n",
    "# Inspect the enemies we have just created\n",
    "print(f\"The game now has {len(game.enemies)} enemies.\")\n",
    "\n",
    "print(\"== Enemy 1 ====================================\")\n",
    "enemy_1 = game.enemies[0]\n",
    "enemy_1.identify()\n",
    "print(f\"health: {enemy_1.health}\")\n",
    "print(f\"damage: {enemy_1.damage}\")\n",
    "print(f\"Robot inherits from {str(Robot.__mro__[1])}\") # display the parent class of Robot \n",
    "\n",
    "print(\"== Enemy 2 ====================================\")\n",
    "enemy_2 = game.enemies[1]\n",
    "enemy_2.identify()\n",
    "print(f\"health: {enemy_2.health}\")\n",
    "print(f\"damage: {enemy_2.damage}\")\n",
    "print(f\"Goblin inherits from {str(Goblin.__mro__[1])}\") # display the parent class of Goblin \n"
   ]
  },
  {
   "cell_type": "code",
   "execution_count": null,
   "id": "4e6933db",
   "metadata": {},
   "outputs": [],
   "source": [
    "# Let's defeat the first robot enemy by calling fight_next_enemy() from the game object\n",
    "game.fight_next_enemy(hit_damage=10)\n",
    "\n",
    "# If you included print statements in your methods, you should see some outputs saying that the enemy is defeated and that the player has levelled up to level 6"
   ]
  },
  {
   "cell_type": "code",
   "execution_count": null,
   "id": "0577598b",
   "metadata": {},
   "outputs": [],
   "source": [
    "# Now let's defeat the first robot enemy by calling fight_next_enemy() from the player object\n",
    "# We'll defeat it in 2 stages to see if the enemy persists between battles if not defeated \n",
    "player_1.fight_next_enemy(game=game, hit_damage=3)\n",
    "player_1.fight_next_enemy(game=game, hit_damage=5)"
   ]
  }
 ],
 "metadata": {
  "kernelspec": {
   "display_name": "Python 3 (ipykernel)",
   "language": "python",
   "name": "python3"
  },
  "language_info": {
   "codemirror_mode": {
    "name": "ipython",
    "version": 3
   },
   "file_extension": ".py",
   "mimetype": "text/x-python",
   "name": "python",
   "nbconvert_exporter": "python",
   "pygments_lexer": "ipython3",
   "version": "3.11.4"
  }
 },
 "nbformat": 4,
 "nbformat_minor": 5
}
