{
 "cells": [
  {
   "cell_type": "code",
   "execution_count": null,
   "metadata": {},
   "outputs": [],
   "source": [
    "%pip install rich\n",
    "%pip install ipywidgets"
   ]
  },
  {
   "cell_type": "code",
   "execution_count": null,
   "metadata": {},
   "outputs": [],
   "source": [
    "import time\n",
    "import traceback\n",
    "import sys\n",
    "from rich.progress import Progress\n",
    "from rich import print\n",
    "from rich.panel import Panel\n"
   ]
  },
  {
   "attachments": {},
   "cell_type": "markdown",
   "metadata": {},
   "source": [
    "Before we get started, make sure to run the above two code cells. THis mat take a bit of time to download the correct packages."
   ]
  },
  {
   "cell_type": "markdown",
   "metadata": {},
   "source": [
    "# Introduction to Data Types\n",
    "Data Types are a fundamental component of programming. This worksheet will introduce the primitive data types, as well as a couple of more complex composite data structures.\n",
    "\n",
    "## Part 1: Primitive Data Types\n",
    "The bread and butter of data manipulation, your primitive data types are:\n",
    "* Integer\n",
    "* Floating-point\n",
    "* Boolean\n",
    "* String\n",
    "* NoneType\n",
    "\n",
    "## Composite Data Structures\n",
    "Python comes with several built-in composite data structures. This worksheet will cover two of them:\n",
    "* List\n",
    "* Dictionary"
   ]
  },
  {
   "cell_type": "markdown",
   "metadata": {},
   "source": [
    "# Primitive Data Types"
   ]
  },
  {
   "cell_type": "markdown",
   "metadata": {},
   "source": [
    "## Integer\n",
    "Integers, also known as Ints, are whole numbers, positive or negative, without decimals.\n",
    "\n",
    "### Examples\n",
    "```\n",
    "        9\n",
    "      -32\n",
    "        0\n",
    "987654321\n",
    "```\n",
    "### Usage\n",
    "Intagers are used in scenarios such as:\n",
    "* counting\n",
    "* indexing\n",
    "* iteration \n",
    "\n",
    "In these instances, only whole numbers are generally required."
   ]
  },
  {
   "cell_type": "markdown",
   "metadata": {},
   "source": [
    "### Integer Excercise\n",
    "This exercise covers using integers complex for counting."
   ]
  },
  {
   "cell_type": "markdown",
   "metadata": {},
   "source": [
    "We start by initialising a count variable:"
   ]
  },
  {
   "cell_type": "code",
   "execution_count": null,
   "metadata": {},
   "outputs": [],
   "source": [
    "count = 0"
   ]
  },
  {
   "cell_type": "markdown",
   "metadata": {},
   "source": [
    "Your task is to select an appropriate value for int1 that, when passed to the range function below, results in count being set to 55"
   ]
  },
  {
   "cell_type": "code",
   "execution_count": null,
   "metadata": {},
   "outputs": [],
   "source": [
    "int1 = YOUR_ANSWER"
   ]
  },
  {
   "cell_type": "markdown",
   "metadata": {},
   "source": [
    "The code below will run the equation on count once for every value of i between 1 and the integer we provide"
   ]
  },
  {
   "cell_type": "code",
   "execution_count": null,
   "metadata": {},
   "outputs": [],
   "source": [
    "count=0\n",
    "for i in range(1, int1):\n",
    "    count += 1\n"
   ]
  },
  {
   "cell_type": "markdown",
   "metadata": {},
   "source": [
    "HINT: The value of i is added to our count for each iteration. So, if you were to enter 3 as the value, could would be (1 + 2 + 3) = 6"
   ]
  },
  {
   "cell_type": "markdown",
   "metadata": {},
   "source": [
    "### Answer\n",
    "Run the following cell to check your answer"
   ]
  },
  {
   "cell_type": "code",
   "execution_count": null,
   "metadata": {},
   "outputs": [],
   "source": [
    "# Expected answer\n",
    "data = {\n",
    "    \"count\": 55\n",
    "}\n",
    "\n",
    "\n",
    "def success_panel(msg: str, title: str) -> None:\n",
    "    print(Panel(msg, title=title, border_style=\"green\"))\n",
    "\n",
    "def problem_panel(msg: str, title: str) -> None:\n",
    "    print(Panel(msg, title=title, border_style=\"red\"))\n",
    "\n",
    "\n",
    "with Progress() as progress:\n",
    "    assert_task = progress.add_task(\"[green]Checking solution...\", total=len(data.keys()))\n",
    "    failed = 0\n",
    "    for key in data.keys():\n",
    "        value = data[key]\n",
    "        try:\n",
    "            assert(globals()[key] == value)\n",
    "            success_panel(f\"Congratulations! \\\"{key}\\\" is equal to the expected value of {value}\", title=\"Data verified\")\n",
    "        except KeyError as e:\n",
    "            failed += 1\n",
    "            problem_panel(f\"\\\"{key}\\\" isn't defined...\", \"Undefined variable\")\n",
    "        except AssertionError as e:\n",
    "            failed += 1\n",
    "            problem_panel(f\"\\\"{key}\\\" isn't what we were expecting...\", \"Data error\")\n",
    "        progress.update(assert_task, advance=1)\n",
    "    \n",
    "    if failed > 0:\n",
    "        problem_panel(f\"Oops! {failed} of {len(data.keys())} things aren't quite right\\nDouble check your logic, make some changes, and re-run!\", \"\")\n",
    "    else:\n",
    "        success_panel(\"Congratulations! Everything seems all good :) Feel free to move onto the next exercise!\", \"Exercise complete!\")"
   ]
  },
  {
   "cell_type": "markdown",
   "metadata": {},
   "source": [
    "## Floating-point Numbers\n",
    "Floating-point numbers, also known as floats, are numbers with a decimal point.\n",
    "\n",
    "### Examples\n",
    "```\n",
    "   3.14\n",
    "-0.0001\n",
    "    2.0\n",
    "```\n",
    "\n",
    "### Usage\n",
    "Floats are used in scenarios such as:\n",
    "* Measurements\n",
    "* Scientific Calculations\n",
    "* Financial Computations"
   ]
  },
  {
   "cell_type": "markdown",
   "metadata": {},
   "source": [
    "### Floating-point Number Exercise"
   ]
  },
  {
   "cell_type": "markdown",
   "metadata": {},
   "source": [
    "In this exercise we will user our knowledge of floating point numbers to do a little financial management.\n",
    "\n",
    "Joseph's bank balance is $500.00. Today, he has paid his monthly spotify premium subscription, which is $10.99. He also owes his friend Grace $23.47 for a pair of headphones he purchased from her. Her bank balance is currently $887.12.\n",
    "\n",
    "Using + and -, and floating point numbers, ensure that Joseph and Grace have the correct amount of money in their bank accounts"
   ]
  },
  {
   "cell_type": "markdown",
   "metadata": {},
   "source": [
    "Initial Balances"
   ]
  },
  {
   "cell_type": "code",
   "execution_count": null,
   "metadata": {},
   "outputs": [],
   "source": [
    "balance_joseph = 500.00\n",
    "balance_grace = 887.12"
   ]
  },
  {
   "cell_type": "markdown",
   "metadata": {},
   "source": [
    "Enter the correct code to enact the transactions below to manipulate the balances above"
   ]
  },
  {
   "cell_type": "code",
   "execution_count": null,
   "metadata": {},
   "outputs": [],
   "source": [
    "# ANSWER BELOW"
   ]
  },
  {
   "cell_type": "markdown",
   "metadata": {},
   "source": [
    "## Answer\n",
    "Run the following cell to check your answer"
   ]
  },
  {
   "cell_type": "code",
   "execution_count": null,
   "metadata": {},
   "outputs": [],
   "source": [
    "# Expected answer\n",
    "data = {\n",
    "    \"balance_joseph\": 465.54,\n",
    "    \"balance_grace\": 910.59\n",
    "}\n",
    "\n",
    "\n",
    "def success_panel(msg: str, title: str) -> None:\n",
    "    print(Panel(msg, title=title, border_style=\"green\"))\n",
    "\n",
    "def problem_panel(msg: str, title: str) -> None:\n",
    "    print(Panel(msg, title=title, border_style=\"red\"))\n",
    "\n",
    "\n",
    "with Progress() as progress:\n",
    "    assert_task = progress.add_task(\"[green]Checking solution...\", total=len(data.keys()))\n",
    "    failed = 0\n",
    "    for key in data.keys():\n",
    "        value = data[key]\n",
    "        try:\n",
    "            assert(globals()[key] == value)\n",
    "            success_panel(f\"Congratulations! \\\"{key}\\\" is equal to the expected value of {value}\", title=\"Data verified\")\n",
    "        except KeyError as e:\n",
    "            failed += 1\n",
    "            problem_panel(f\"\\\"{key}\\\" isn't defined...\", \"Undefined variable\")\n",
    "        except AssertionError as e:\n",
    "            failed += 1\n",
    "            problem_panel(f\"\\\"{key}\\\" isn't what we were expecting...\", \"Data error\")\n",
    "        progress.update(assert_task, advance=1)\n",
    "    \n",
    "    if failed > 0:\n",
    "        problem_panel(f\"Oops! {failed} of {len(data.keys())} things aren't quite right\\nDouble check your logic, make some changes, and re-run!\", \"\")\n",
    "    else:\n",
    "        success_panel(\"Congratulations! Everything seems all good :) Feel free to move onto the next exercise!\", \"Exercise complete!\")"
   ]
  },
  {
   "cell_type": "markdown",
   "metadata": {},
   "source": [
    "## Boolean\n",
    "Booleans, or bools, represent true or false.\n",
    "They are declared as follows:\n",
    "```\n",
    "True\n",
    "False\n",
    "```\n",
    "\n",
    "Different statements in python can be equal to (evaluate to) True or False:\n",
    "\n",
    "```(1+1==2)``` is True, ```(5==3)``` is False\n",
    "\n",
    "Multiple statements can be compared and evaluated using logical operators to a final boolean value:\n",
    "\n",
    "* And: both must be true:\n",
    "\n",
    "    ```(1+1==2) and (5==5)``` = True\n",
    "\n",
    "    ```(1+1==2) and (5==3)``` = False\n",
    "\n",
    "* Or: At least one must be true but not necessarily both\n",
    "\n",
    "    ```(1+1==2) or (5==3)``` = True\n",
    "\n",
    "    ```(1+1==2) or (5==5)``` = True\n",
    "\n",
    "    ```(1+1==4) or (5==3)``` = False\n",
    "\n",
    "* Not: the boolean value of one statement must not be the same as another:\n",
    "\n",
    "    ```(1+1==2) is not False``` = True\n",
    "\n",
    "    ```(1+1==2) is not True``` = False\n",
    "\n",
    "    ```(1+1==4) is not True``` = True\n",
    "\n",
    "Comparison operators compare two statements and evaluate to the result of the comparison:\n",
    "\n",
    "* == True if two statements are equal\n",
    "* != True that two statements are not equal\n",
    "* < True if left statement is a value less than right statement\n",
    "* \\> True if left statement is a value greater than right statement\n",
    "* <= True if left statement is a value less than OR equal to right statement\n",
    "* \\>= True if left statement is a value greater than OR equal to right statement\n",
    "\n",
    "These statements can be used in conditional structures such as if statements and loops, e.g.:\n",
    "\n",
    "```\n",
    "count = 0\n",
    "while count <= 5:\n",
    "    count += 1\n",
    "```"
   ]
  },
  {
   "cell_type": "markdown",
   "metadata": {},
   "source": [
    "## Boolean Exercise\n",
    "\n",
    "In this exercise, we'll practice working with boolean values and logical operators.\n",
    "\n",
    "A website requires users to be at least 18 years old or have parental consent if they are under 18. Users also need to agree to the terms of service. Here are the details of three potential users:"
   ]
  },
  {
   "cell_type": "code",
   "execution_count": null,
   "metadata": {},
   "outputs": [],
   "source": [
    "user_age_1 = 16\n",
    "has_parental_consent_1 = True\n",
    "agreed_to_terms_1 = True\n",
    "\n",
    "user_age_2 = 27\n",
    "has_parental_consent_2 = False\n",
    "agreed_to_terms_2 = True\n",
    "\n",
    "user_age_3 = 31\n",
    "has_parental_consent_3 = False\n",
    "agreed_to_terms_3 = False"
   ]
  },
  {
   "cell_type": "markdown",
   "metadata": {},
   "source": [
    "For each user, write a statement using only the variables above and the boolean operators we discussed earlier to evaluate whether the users should be able to access the website. You must not simply write True or False."
   ]
  },
  {
   "cell_type": "code",
   "execution_count": null,
   "metadata": {},
   "outputs": [],
   "source": [
    "access_user_1 = \n",
    "access_user_2 = \n",
    "access_user_2 = \n"
   ]
  },
  {
   "cell_type": "markdown",
   "metadata": {},
   "source": [
    "### Answer\n",
    "Run the following cell to check your answers"
   ]
  },
  {
   "cell_type": "code",
   "execution_count": null,
   "metadata": {},
   "outputs": [],
   "source": [
    "# Expected answer\n",
    "data = {\n",
    "    \"access_user_1\": True,\n",
    "    \"access_user_2\": True,\n",
    "    \"access_user_3\": False\n",
    "}\n",
    "\n",
    "\n",
    "def success_panel(msg: str, title: str) -> None:\n",
    "    print(Panel(msg, title=title, border_style=\"green\"))\n",
    "\n",
    "def problem_panel(msg: str, title: str) -> None:\n",
    "    print(Panel(msg, title=title, border_style=\"red\"))\n",
    "\n",
    "\n",
    "with Progress() as progress:\n",
    "    assert_task = progress.add_task(\"[green]Checking solution...\", total=len(data.keys()))\n",
    "    failed = 0\n",
    "    for key in data.keys():\n",
    "        value = data[key]\n",
    "        try:\n",
    "            assert(globals()[key] == value)\n",
    "            success_panel(f\"Congratulations! \\\"{key}\\\" is equal to the expected value of {value}\", title=\"Data verified\")\n",
    "        except KeyError as e:\n",
    "            failed += 1\n",
    "            problem_panel(f\"\\\"{key}\\\" isn't defined...\", \"Undefined variable\")\n",
    "        except AssertionError as e:\n",
    "            failed += 1\n",
    "            problem_panel(f\"\\\"{key}\\\" isn't what we were expecting...\", \"Data error\")\n",
    "        progress.update(assert_task, advance=1)\n",
    "    \n",
    "    if failed > 0:\n",
    "        problem_panel(f\"Oops! {failed} of {len(data.keys())} things aren't quite right\\nDouble check your logic, make some changes, and re-run!\", \"\")\n",
    "    else:\n",
    "        success_panel(\"Congratulations! Everything seems all good :) Feel free to move onto the next exercise!\", \"Exercise complete!\")"
   ]
  },
  {
   "cell_type": "markdown",
   "metadata": {},
   "source": [
    "## String\n",
    "Strings are a sequence of charaters. They are declared using single, double or tripple quotes surrounding the characters:\n",
    "\n",
    "```my_string = \"Hello world!\"```\n",
    "\n",
    "```single_quoted = 'Hello'```\n",
    "\n",
    "```double_quoted = \"world!\"```\n",
    "\n",
    "```\n",
    "multiline_string = \"\"\"Python\n",
    "    is\n",
    "    awesome!\"\"\"\n",
    "```\n",
    "\n",
    "String Operations and Methods\n",
    "\n",
    "Common String Operations\n",
    "\n",
    "Concatenation: Combining two or more strings together.\n",
    "\n",
    "```\n",
    "first_name = \"John\"\n",
    "last_name = \"Doe\"\n",
    "full_name = first_name + \" \" + last_name\n",
    "```\n",
    "\n",
    "Length: Finding the length of a string.\n",
    "\n",
    "```\n",
    "greeting = \"Hello, world!\"\n",
    "length = len(greeting)\n",
    "```\n",
    "\n",
    "Indexing: Accessing individual characters in a string using their index.\n",
    "\n",
    "```\n",
    "message = \"Python\"\n",
    "first_character = message[0] # 'P'\n",
    "```\n",
    "\n",
    "Slicing: Extracting a substring from a string.\n",
    "\n",
    "```\n",
    "phrase = \"Data Science\"\n",
    "substring = phrase[5:11] # 'Scien'\n",
    "```\n",
    "\n",
    "Repetition: Repeating a string multiple times.\n",
    "\n",
    "```\n",
    "smiley = \":)\"\n",
    "repeated_smiley = smiley * 3 # ':):):)'\n",
    "```\n",
    "\n",
    "Common String Methods\n",
    "\n",
    "upper() and lower(): Converting a string to uppercase or lowercase.\n",
    "\n",
    "```\n",
    "sentence = \"Hello, World!\"\n",
    "uppercase_sentence = sentence.upper() # 'HELLO, WORLD!'\n",
    "```\n",
    "\n",
    "strip(): Removing leading and trailing whitespace from a string.\n",
    "\n",
    "```\n",
    "text = \" Hello \"\n",
    "stripped_text = text.strip() # 'Hello'\n",
    "```\n",
    "\n",
    "replace(): Replacing occurrences of a substring within a string.\n",
    "\n",
    "```\n",
    "sentence = \"I love apples, apples are tasty!\"\n",
    "new_sentence = sentence.replace(\"apples\", \"bananas\") # 'I love bananas, bananas are tasty!'\n",
    "```\n",
    "\n",
    "split(): Splitting a string into a list of substrings based on a delimiter.\n",
    "\n",
    "```\n",
    "sentence = \"Hello, world!\"\n",
    "words = sentence.split(\", \") # ['Hello', 'world!']\n",
    "```\n",
    "\n",
    "join(): Joining a list of strings into a single string using a delimiter.\n",
    "\n",
    "```\n",
    "words = [\"Hello\", \"world!\"]\n",
    "sentence = \", \".join(words) # 'Hello, world!'\n",
    "```"
   ]
  },
  {
   "cell_type": "markdown",
   "metadata": {},
   "source": [
    "## String Exercise\n",
    "Lets put what we've learned about strings into practice.\n",
    "Given the following string:"
   ]
  },
  {
   "cell_type": "code",
   "execution_count": null,
   "metadata": {},
   "outputs": [],
   "source": [
    "original_text = \" Python Programming is fun! \""
   ]
  },
  {
   "cell_type": "markdown",
   "metadata": {},
   "source": [
    "1. Convert the text to lowercase and remove leading/trailing whitespace.\n",
    "2. Replace \"Programming\" with \"Development\".\n",
    "3. Split the text into words and count the number of words.\n",
    "4. Join the words into a single string with a hyphen (\"-\") between each word."
   ]
  },
  {
   "cell_type": "markdown",
   "metadata": {},
   "source": [
    "Your solutions should be assigned to the respective variables:"
   ]
  },
  {
   "cell_type": "code",
   "execution_count": null,
   "metadata": {},
   "outputs": [],
   "source": [
    "cleaned_text = # Your solution here\n",
    "replaced_text = # Your solution here\n",
    "word_count = # Your solution here\n",
    "hyphenated_text = # Your solution here"
   ]
  },
  {
   "cell_type": "markdown",
   "metadata": {},
   "source": [
    "### Answer\n",
    "Run the following cell to check your answers"
   ]
  },
  {
   "cell_type": "code",
   "execution_count": null,
   "metadata": {},
   "outputs": [],
   "source": [
    "# Expected answer\n",
    "data = {\n",
    "\"cleaned_text\": \"python programming is fun!\",\n",
    "\"replaced_text\": \" Python Development is fun! \",\n",
    "\"word_count\": 4,\n",
    "\"hyphenated_text\": \"Python-Programming-is-fun!\"\n",
    "}\n",
    "\n",
    "\n",
    "def success_panel(msg: str, title: str) -> None:\n",
    "    print(Panel(msg, title=title, border_style=\"green\"))\n",
    "\n",
    "def problem_panel(msg: str, title: str) -> None:\n",
    "    print(Panel(msg, title=title, border_style=\"red\"))\n",
    "\n",
    "\n",
    "with Progress() as progress:\n",
    "    assert_task = progress.add_task(\"[green]Checking solution...\", total=len(data.keys()))\n",
    "    failed = 0\n",
    "    for key in data.keys():\n",
    "        value = data[key]\n",
    "        try:\n",
    "            assert(globals()[key] == value)\n",
    "            success_panel(f\"Congratulations! \\\"{key}\\\" is equal to the expected value of {value}\", title=\"Data verified\")\n",
    "        except KeyError as e:\n",
    "            failed += 1\n",
    "            problem_panel(f\"\\\"{key}\\\" isn't defined...\", \"Undefined variable\")\n",
    "        except AssertionError as e:\n",
    "            failed += 1\n",
    "            problem_panel(f\"\\\"{key}\\\" isn't what we were expecting...\", \"Data error\")\n",
    "        progress.update(assert_task, advance=1)\n",
    "    \n",
    "    if failed > 0:\n",
    "        problem_panel(f\"Oops! {failed} of {len(data.keys())} things aren't quite right\\nDouble check your logic, make some changes, and re-run!\", \"\")\n",
    "    else:\n",
    "        success_panel(\"Congratulations! Everything seems all good :) Feel free to move onto the next exercise!\", \"Exercise complete!\")"
   ]
  },
  {
   "cell_type": "markdown",
   "metadata": {},
   "source": [
    "## Part 2: Lists and Dictionaries\n",
    "Python comes with several built-in composite data structures. This worksheet will cover two of them: Lists and Dictionaries"
   ]
  },
  {
   "cell_type": "markdown",
   "metadata": {},
   "source": [
    "##Lists\n",
    "A list is a collection of items in a particular order. Lists are one of the most versatile data structures in Python and can hold items of any data type.\n",
    "\n",
    "Examples:\n",
    "```\n",
    "numbers = [1, 2, 3, 4, 5]\n",
    "fruits = [\"apple\", \"banana\", \"cherry\"]\n",
    "mixed = [1, \"apple\", 3.5, True]\n",
    "```\n",
    "\n",
    "Usage:\n",
    "\n",
    "Lists are used when you need to store multiple items in a single variable. They are useful in scenarios such as:\n",
    "* Grouping related data\n",
    "* Iterating through items\n",
    "* Storing results from functions or operations\n",
    "* Common List Operations:\n",
    "\n",
    "Accessing Elements:\n",
    "\n",
    "```first_fruit = fruits[0] # 'apple'```\n",
    "\n",
    "Modifying Elements:\n",
    "\n",
    "```fruits[1] = \"blueberry\"```\n",
    "\n",
    "Adding Elements:\n",
    "\n",
    "```fruits.append(\"orange\")```\n",
    "\n",
    "Removing Elements:\n",
    "\n",
    "```fruits.remove(\"cherry\")```\n",
    "\n",
    "Slicing:\n",
    "\n",
    "```subset = fruits[1:3] # ['banana', 'cherry']```\n",
    "\n",
    "We can also use functions such as \"len(array)\" to get the length, \"sum(array)\" to add up all items and min and max as functions.\n",
    "\n",
    "We can also round integers using the round function \n",
    "\n",
    "```\n",
    "round(value,num_decimals)\n",
    "```"
   ]
  },
  {
   "cell_type": "markdown",
   "metadata": {},
   "source": [
    "\n",
    "## List Exercise\n",
    "\n",
    "Let's practice working with lists. You have been provided with a list of temperatures in Celsius. Your task is to:\n",
    "\n",
    "* Find the average temperature and round to two decimal places\n",
    "* Identify the maximum and minimum temperatures"
   ]
  },
  {
   "cell_type": "markdown",
   "metadata": {},
   "source": [
    "Given list:"
   ]
  },
  {
   "cell_type": "code",
   "execution_count": null,
   "metadata": {},
   "outputs": [],
   "source": [
    "temperatures_celsius = [20, 23, 19, 25, 18, 22, 24]"
   ]
  },
  {
   "cell_type": "markdown",
   "metadata": {},
   "source": [
    "Your solutions should be assigned to the respective variables:\n"
   ]
  },
  {
   "cell_type": "code",
   "execution_count": null,
   "metadata": {},
   "outputs": [],
   "source": [
    "average_temperature = # Your solution here\n",
    "max_temperature = # Your solution here\n",
    "min_temperature = # Your solution here"
   ]
  },
  {
   "cell_type": "markdown",
   "metadata": {},
   "source": [
    "## Answer\n",
    "\n",
    "Run the following cell to check your answers:"
   ]
  },
  {
   "cell_type": "code",
   "execution_count": null,
   "metadata": {},
   "outputs": [],
   "source": [
    "# Expected answer\n",
    "data = {\n",
    "\"average_temperature\": 70.54,\n",
    "\"max_temperature\": 77.0,\n",
    "\"min_temperature\": 64.4\n",
    "}\n",
    "\n",
    "def success_panel(msg: str, title: str) -> None:\n",
    "    print(Panel(msg, title=title, border_style=\"green\"))\n",
    "\n",
    "def problem_panel(msg: str, title: str) -> None:\n",
    "    print(Panel(msg, title=title, border_style=\"red\"))\n",
    "\n",
    "\n",
    "with Progress() as progress:\n",
    "    assert_task = progress.add_task(\"[green]Checking solution...\", total=len(data.keys()))\n",
    "    failed = 0\n",
    "    for key in data.keys():\n",
    "        value = data[key]\n",
    "        try:\n",
    "            assert(globals()[key] == value)\n",
    "            success_panel(f\"Congratulations! \\\"{key}\\\" is equal to the expected value of {value}\", title=\"Data verified\")\n",
    "        except KeyError as e:\n",
    "            failed += 1\n",
    "            problem_panel(f\"\\\"{key}\\\" isn't defined...\", \"Undefined variable\")\n",
    "        except AssertionError as e:\n",
    "            failed += 1\n",
    "            problem_panel(f\"\\\"{key}\\\" isn't what we were expecting...\", \"Data error\")\n",
    "        progress.update(assert_task, advance=1)\n",
    "    \n",
    "    if failed > 0:\n",
    "        problem_panel(f\"Oops! {failed} of {len(data.keys())} things aren't quite right\\nDouble check your logic, make some changes, and re-run!\", \"\")\n",
    "    else:\n",
    "        success_panel(\"Congratulations! Everything seems all good :) Feel free to move onto the next exercise!\", \"Exercise complete!\")"
   ]
  },
  {
   "cell_type": "markdown",
   "metadata": {},
   "source": [
    "## Dictionaries\n",
    "\n",
    "A dictionary is a collection of key-value pairs. Each key is connected to a value, and you can use the key to access the value associated with that key. Keys are unique, and the values can be of any data type.\n",
    "\n",
    "Examples:\n",
    "\n",
    "```\n",
    "student = {\n",
    "    \"name\": \"John Doe\",\n",
    "    \"age\": 21,\n",
    "    \"major\": \"Computer Science\"\n",
    "}\n",
    "\n",
    "product = {\n",
    "    \"id\": 101,\n",
    "    \"name\": \"Laptop\",\n",
    "    \"price\": 799.99,\n",
    "    \"in_stock\": True\n",
    "}\n",
    "```\n",
    "Usage:\n",
    "\n",
    "Dictionaries are used to store data values in key-value pairs. They are useful in scenarios such as:\n",
    "\n",
    "* Storing related data\n",
    "* Fast lookups by key\n",
    "* * Grouping data with unique identifiers\n",
    "Common Dictionary Operations:\n",
    "\n",
    "Accessing Values:\n",
    "\n",
    "```student_name = student[\"name\"] # 'John Doe'```\n",
    "\n",
    "Modifying Values:\n",
    "\n",
    "```student[\"age\"] = 22```\n",
    "\n",
    "Adding Key-Value Pairs:\n",
    "\n",
    "```student[\"graduation_year\"] = 2024```\n",
    "\n",
    "Removing Key-Value Pairs:\n",
    "\n",
    "```del student[\"major\"]```\n",
    "\n",
    "Iterating Through Keys and Values:\n",
    "\n",
    "```\n",
    "for key, value in student.items():\n",
    "print(key, value)\n",
    "```\n"
   ]
  },
  {
   "cell_type": "markdown",
   "metadata": {},
   "source": [
    "## Dictionary Exercise:\n",
    "\n",
    "Let's practice working with dictionaries. You have been provided with a dictionary representing a book collection. Your task is to:\n",
    "\n",
    "* Add a new book to the collection\n",
    "* Update the price of an existing book\n",
    "* Remove a book from the collection\n",
    "* Retrieve a list of all book titles in the collection"
   ]
  },
  {
   "cell_type": "markdown",
   "metadata": {},
   "source": [
    "Given dictionary:"
   ]
  },
  {
   "cell_type": "code",
   "execution_count": null,
   "metadata": {},
   "outputs": [],
   "source": [
    "book_collection = {\n",
    "    \"978-0132350884\": {\n",
    "        \"title\": \"Clean Code\",\n",
    "        \"author\": \"Robert C. Martin\",\n",
    "        \"price\": 28.99\n",
    "    },\n",
    "    \"978-1491950296\": {\n",
    "        \"title\": \"The Pragmatic Programmer\",\n",
    "        \"author\": \"Andrew Hunt and David Thomas\",\n",
    "        \"price\": 35.99\n",
    "    },\n",
    "    \"978-0134685991\": {\n",
    "        \"title\": \"Effective Java\",\n",
    "        \"author\": \"Joshua Bloch\",\n",
    "        \"price\": 40.75\n",
    "    }\n",
    "}"
   ]
  },
  {
   "cell_type": "markdown",
   "metadata": {},
   "source": [
    "Your solution should be implemented in the following cells:"
   ]
  },
  {
   "cell_type": "code",
   "execution_count": null,
   "metadata": {},
   "outputs": [],
   "source": [
    "# Your code goes here\n"
   ]
  },
  {
   "cell_type": "code",
   "execution_count": null,
   "metadata": {},
   "outputs": [],
   "source": [
    "# CREATE THE LIST OF BOOK TITLES HERE\n",
    "book_titles = "
   ]
  },
  {
   "cell_type": "markdown",
   "metadata": {},
   "source": [
    "## Answer\n",
    "\n",
    "Run the following cell to check your answers:"
   ]
  },
  {
   "cell_type": "code",
   "execution_count": null,
   "metadata": {},
   "outputs": [],
   "source": [
    "initial_book_collection = {\n",
    "    \"978-0132350884\": {\n",
    "        \"title\": \"Clean Code\",\n",
    "        \"author\": \"Robert C. Martin\",\n",
    "        \"price\": 28.99\n",
    "    },\n",
    "    \"978-1491950296\": {\n",
    "        \"title\": \"The Pragmatic Programmer\",\n",
    "        \"author\": \"Andrew Hunt and David Thomas\",\n",
    "        \"price\": 35.99\n",
    "    },\n",
    "    \"978-0134685991\": {\n",
    "        \"title\": \"Effective Java\",\n",
    "        \"author\": \"Joshua Bloch\",\n",
    "        \"price\": 40.75\n",
    "    }\n",
    "}\n",
    "\n",
    "initial_isbns = set(initial_book_collection.keys())\n",
    "current_isbns = set(book_collection.keys())\n",
    "added_books = current_isbns - initial_isbns\n",
    "removed_books = initial_isbns - current_isbns\n",
    "new_book_added = len(added_books) == 1\n",
    "book_removed = len(removed_books) == 1\n",
    "\n",
    "price_updated = any(\n",
    "        initial_book_collection[isbn][\"price\"] != book[\"price\"]\n",
    "        for isbn, book in book_collection.items()\n",
    "        if isbn in initial_book_collection\n",
    "    )\n",
    "book_titles1=sorted(book_titles) == sorted([\n",
    "        book[\"title\"] for book in book_collection.values()\n",
    "])\n",
    "# Expected answer\n",
    "data = {\n",
    "    # Check if any new book has been added\n",
    "    \"new_book_added\": True,\n",
    "    \n",
    "    # Check if the price of any book has changed\n",
    "    \"price_updated\": True,\n",
    "    \n",
    "    # Check if a book has been removed\n",
    "    \"book_removed\": True,\n",
    "    \n",
    "    # Check if the titles match the remaining books\n",
    "    \"book_titles1\": True\n",
    "}\n",
    "\n",
    "\n",
    "def success_panel(msg: str, title: str) -> None:\n",
    "    print(Panel(msg, title=title, border_style=\"green\"))\n",
    "\n",
    "def problem_panel(msg: str, title: str) -> None:\n",
    "    print(Panel(msg, title=title, border_style=\"red\"))\n",
    "\n",
    "\n",
    "with Progress() as progress:\n",
    "    assert_task = progress.add_task(\"[green]Checking solution...\", total=len(data.keys()))\n",
    "    failed = 0\n",
    "    for key in data.keys():\n",
    "        value = data[key]\n",
    "        try:\n",
    "            assert(globals()[key] == value)\n",
    "            success_panel(f\"Congratulations! \\\"{key}\\\" is equal to the expected value of {value}\", title=\"Data verified\")\n",
    "        except KeyError as e:\n",
    "            failed += 1\n",
    "            problem_panel(f\"\\\"{key}\\\" isn't defined...\", \"Undefined variable\")\n",
    "        except AssertionError as e:\n",
    "            failed += 1\n",
    "            problem_panel(f\"\\\"{key}\\\" isn't what we were expecting...\", \"Data error\")\n",
    "        progress.update(assert_task, advance=1)\n",
    "    \n",
    "    if failed > 0:\n",
    "        problem_panel(f\"Oops! {failed} of {len(data.keys())} things aren't quite right\\nDouble check your logic, make some changes, and re-run!\", \"\")\n",
    "    else:\n",
    "        success_panel(\"Congratulations! Everything seems all good :) Feel free to move onto the next exercise!\", \"Exercise complete!\")"
   ]
  }
 ],
 "metadata": {
  "kernelspec": {
   "display_name": "Python 3",
   "language": "python",
   "name": "python3"
  },
  "language_info": {
   "codemirror_mode": {
    "name": "ipython",
    "version": 3
   },
   "file_extension": ".py",
   "mimetype": "text/x-python",
   "name": "python",
   "nbconvert_exporter": "python",
   "pygments_lexer": "ipython3",
   "version": "3.12.4"
  }
 },
 "nbformat": 4,
 "nbformat_minor": 2
}
