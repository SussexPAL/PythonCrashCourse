{
 "cells": [
  {
   "cell_type": "markdown",
   "id": "6727cf4d-46d7-438f-9102-a80bbae54276",
   "metadata": {},
   "source": [
    "# Introduction to Python Errors\n",
    "\n",
    "In this notebook, we will explore various types of Python errors, understand how to read error messages, and learn techniques to handle and prevent errors efficiently. By the end of this guide, you will be more comfortable debugging Python code and resolving issues that arise during development.\n"
   ]
  },
  {
   "cell_type": "markdown",
   "id": "76ef9c5d-8a1a-4353-85c8-10af3a077f5c",
   "metadata": {
    "jp-MarkdownHeadingCollapsed": true
   },
   "source": [
    "## Understanding Python Exceptions\n",
    "\n",
    "Errors in Python are managed through something called \"exceptions.\" An exception is an event, which occurs during the execution of a program, that disrupts the normal flow of the program's instructions. In most cases, Python will stop and generate an error message if it encounters an exception.\n"
   ]
  },
  {
   "cell_type": "markdown",
   "id": "79d46ec0-f458-4d4d-bbbe-b5cef6f80755",
   "metadata": {},
   "source": [
    "### Hierarchy of Python Exceptions\n",
    "\n",
    "Python exceptions are organized in a hierarchy, and at the top of this hierarchy is the `BaseException` class. Commonly encountered exceptions are derived from the `Exception` class, which in turn is derived from `BaseException`.\n"
   ]
  },
  {
   "cell_type": "code",
   "execution_count": 1,
   "id": "76f7974e-a0e5-49b4-b7f9-7f7f7b4c0f54",
   "metadata": {},
   "outputs": [],
   "source": [
    "# Let's look at a small snippet of the exception hierarchy in Python\n",
    "# This is not executable code, but a conceptual illustration.\n",
    "\n",
    "# BaseException\n",
    "#  +-- SystemExit\n",
    "#  +-- KeyboardInterrupt\n",
    "#  +-- Exception\n",
    "#       +-- StopIteration\n",
    "#       +-- ArithmeticError\n",
    "#            +-- ZeroDivisionError\n",
    "#       +-- ImportError\n",
    "#       +-- etc...\n"
   ]
  },
  {
   "cell_type": "markdown",
   "id": "33fdae9b-65c5-4094-b9dd-528603e117d1",
   "metadata": {},
   "source": [
    "### Common Python Errors\n",
    "\n",
    "Let's discuss some of the most common types of Python errors you are likely to encounter. Understanding these will help you quickly diagnose issues in your code.\n"
   ]
  },
  {
   "cell_type": "markdown",
   "id": "cfa2db1b-1aaa-4409-9d98-0207cb5bae82",
   "metadata": {},
   "source": [
    "#### SyntaxError\n",
    "\n",
    "A `SyntaxError` occurs when Python cannot understand your code. It often happens when you miss a symbol such as a colon, bracket, or quotation mark.\n"
   ]
  },
  {
   "cell_type": "code",
   "execution_count": 11,
   "id": "85c54b6f-7bcc-4a03-9174-c5b46f475671",
   "metadata": {},
   "outputs": [
    {
     "ename": "SyntaxError",
     "evalue": "incomplete input (3142529880.py, line 2)",
     "output_type": "error",
     "traceback": [
      "\u001b[1;36m  Cell \u001b[1;32mIn[11], line 2\u001b[1;36m\u001b[0m\n\u001b[1;33m    print(\"Hello world\"\u001b[0m\n\u001b[1;37m                       ^\u001b[0m\n\u001b[1;31mSyntaxError\u001b[0m\u001b[1;31m:\u001b[0m incomplete input\n"
     ]
    }
   ],
   "source": [
    "# Example of SyntaxError\n",
    "print(\"Hello world\""
   ]
  },
  {
   "cell_type": "markdown",
   "id": "f9c2fe88-76e1-4e9f-873f-ef826601ecc0",
   "metadata": {},
   "source": [
    "#### NameError\n",
    "\n",
    "A `NameError` is thrown when a variable is not defined, i.e., it has not been assigned any value or simply does not exist.\n"
   ]
  },
  {
   "cell_type": "code",
   "execution_count": 12,
   "id": "9c0e61f1-3c71-40eb-91d1-d641c77f904b",
   "metadata": {},
   "outputs": [
    {
     "ename": "NameError",
     "evalue": "name 'age' is not defined",
     "output_type": "error",
     "traceback": [
      "\u001b[1;31m---------------------------------------------------------------------------\u001b[0m",
      "\u001b[1;31mNameError\u001b[0m                                 Traceback (most recent call last)",
      "Cell \u001b[1;32mIn[12], line 2\u001b[0m\n\u001b[0;32m      1\u001b[0m \u001b[38;5;66;03m# Example of NameError\u001b[39;00m\n\u001b[1;32m----> 2\u001b[0m \u001b[38;5;28mprint\u001b[39m(\u001b[43mage\u001b[49m)\n",
      "\u001b[1;31mNameError\u001b[0m: name 'age' is not defined"
     ]
    }
   ],
   "source": [
    "# Example of NameError\n",
    "print(age)"
   ]
  },
  {
   "cell_type": "markdown",
   "id": "ad2253d9-db38-4dad-92e3-6764e449b80f",
   "metadata": {},
   "source": [
    "#### TypeError\n",
    "\n",
    "A `TypeError` happens when an operation is applied to an object of inappropriate type.\n"
   ]
  },
  {
   "cell_type": "code",
   "execution_count": 13,
   "id": "a2bba5dc-f414-43d9-9a40-ce02c1e4e454",
   "metadata": {},
   "outputs": [
    {
     "ename": "TypeError",
     "evalue": "can only concatenate str (not \"int\") to str",
     "output_type": "error",
     "traceback": [
      "\u001b[1;31m---------------------------------------------------------------------------\u001b[0m",
      "\u001b[1;31mTypeError\u001b[0m                                 Traceback (most recent call last)",
      "Cell \u001b[1;32mIn[13], line 2\u001b[0m\n\u001b[0;32m      1\u001b[0m \u001b[38;5;66;03m# Example of TypeError\u001b[39;00m\n\u001b[1;32m----> 2\u001b[0m \u001b[38;5;124;43m\"\u001b[39;49m\u001b[38;5;124;43m2\u001b[39;49m\u001b[38;5;124;43m\"\u001b[39;49m\u001b[43m \u001b[49m\u001b[38;5;241;43m+\u001b[39;49m\u001b[43m \u001b[49m\u001b[38;5;241;43m2\u001b[39;49m  \u001b[38;5;66;03m# Attempting to add a string and an integer\u001b[39;00m\n",
      "\u001b[1;31mTypeError\u001b[0m: can only concatenate str (not \"int\") to str"
     ]
    }
   ],
   "source": [
    "# Example of TypeError\n",
    "\"2\" + 2  # Attempting to add a string and an integer"
   ]
  },
  {
   "cell_type": "markdown",
   "id": "eefe9380-d3aa-494b-995c-001b83d48d10",
   "metadata": {},
   "source": [
    "#### IndexError and KeyError\n",
    "\n",
    "`IndexError` is thrown when trying to access an index that is not present in the list, while `KeyError` occurs when the specified key is not found in the dictionary.\n"
   ]
  },
  {
   "cell_type": "code",
   "execution_count": 6,
   "id": "d51b7579-5cc5-4130-91c7-63adc9ee90d7",
   "metadata": {},
   "outputs": [
    {
     "ename": "IndexError",
     "evalue": "list index out of range",
     "output_type": "error",
     "traceback": [
      "\u001b[1;31m---------------------------------------------------------------------------\u001b[0m",
      "\u001b[1;31mIndexError\u001b[0m                                Traceback (most recent call last)",
      "Cell \u001b[1;32mIn[6], line 3\u001b[0m\n\u001b[0;32m      1\u001b[0m \u001b[38;5;66;03m# Example of IndexError\u001b[39;00m\n\u001b[0;32m      2\u001b[0m numbers \u001b[38;5;241m=\u001b[39m [\u001b[38;5;241m1\u001b[39m, \u001b[38;5;241m2\u001b[39m, \u001b[38;5;241m3\u001b[39m]\n\u001b[1;32m----> 3\u001b[0m \u001b[38;5;28mprint\u001b[39m(\u001b[43mnumbers\u001b[49m\u001b[43m[\u001b[49m\u001b[38;5;241;43m3\u001b[39;49m\u001b[43m]\u001b[49m)\n",
      "\u001b[1;31mIndexError\u001b[0m: list index out of range"
     ]
    }
   ],
   "source": [
    "# Example of IndexError\n",
    "numbers = [1, 2, 3]\n",
    "print(numbers[3])"
   ]
  },
  {
   "cell_type": "code",
   "execution_count": 7,
   "id": "f7c13305-9c17-4af6-8970-12f1190c9b8f",
   "metadata": {},
   "outputs": [
    {
     "ename": "KeyError",
     "evalue": "'age'",
     "output_type": "error",
     "traceback": [
      "\u001b[1;31m---------------------------------------------------------------------------\u001b[0m",
      "\u001b[1;31mKeyError\u001b[0m                                  Traceback (most recent call last)",
      "Cell \u001b[1;32mIn[7], line 3\u001b[0m\n\u001b[0;32m      1\u001b[0m \u001b[38;5;66;03m# Example of KeyError\u001b[39;00m\n\u001b[0;32m      2\u001b[0m data \u001b[38;5;241m=\u001b[39m {\u001b[38;5;124m\"\u001b[39m\u001b[38;5;124mname\u001b[39m\u001b[38;5;124m\"\u001b[39m: \u001b[38;5;124m\"\u001b[39m\u001b[38;5;124mAlice\u001b[39m\u001b[38;5;124m\"\u001b[39m}\n\u001b[1;32m----> 3\u001b[0m \u001b[38;5;28mprint\u001b[39m(\u001b[43mdata\u001b[49m\u001b[43m[\u001b[49m\u001b[38;5;124;43m\"\u001b[39;49m\u001b[38;5;124;43mage\u001b[39;49m\u001b[38;5;124;43m\"\u001b[39;49m\u001b[43m]\u001b[49m)\n",
      "\u001b[1;31mKeyError\u001b[0m: 'age'"
     ]
    }
   ],
   "source": [
    "# Example of KeyError\n",
    "data = {\"name\": \"Alice\"}\n",
    "print(data[\"age\"])"
   ]
  },
  {
   "cell_type": "markdown",
   "id": "d073cc9f-616a-431d-a8a2-ac2dea714028",
   "metadata": {},
   "source": [
    "#### ValueError\n",
    "\n",
    "A `ValueError` occurs when a built-in operation or function receives an argument that has the right type but an inappropriate value."
   ]
  },
  {
   "cell_type": "code",
   "execution_count": 8,
   "id": "335971b6-1a25-49b9-8d29-2f0d8f701b89",
   "metadata": {},
   "outputs": [
    {
     "ename": "ValueError",
     "evalue": "invalid literal for int() with base 10: 'xyz'",
     "output_type": "error",
     "traceback": [
      "\u001b[1;31m---------------------------------------------------------------------------\u001b[0m",
      "\u001b[1;31mValueError\u001b[0m                                Traceback (most recent call last)",
      "Cell \u001b[1;32mIn[8], line 2\u001b[0m\n\u001b[0;32m      1\u001b[0m \u001b[38;5;66;03m# Example of ValueError\u001b[39;00m\n\u001b[1;32m----> 2\u001b[0m \u001b[38;5;28;43mint\u001b[39;49m\u001b[43m(\u001b[49m\u001b[38;5;124;43m\"\u001b[39;49m\u001b[38;5;124;43mxyz\u001b[39;49m\u001b[38;5;124;43m\"\u001b[39;49m\u001b[43m)\u001b[49m\n",
      "\u001b[1;31mValueError\u001b[0m: invalid literal for int() with base 10: 'xyz'"
     ]
    }
   ],
   "source": [
    "# Example of ValueError\n",
    "int(\"xyz\")"
   ]
  },
  {
   "cell_type": "markdown",
   "id": "721c7bd0-23ed-4b70-ac8d-c3fa3949d36f",
   "metadata": {
    "jp-MarkdownHeadingCollapsed": true
   },
   "source": [
    "## Reading Error Messages\n",
    "\n",
    "To effectively debug errors, you must be able to read and understand the error messages Python provides. This involves noting the type of error and the traceback that shows where the error occurred.\n"
   ]
  },
  {
   "cell_type": "markdown",
   "id": "fa1cbfd5-6167-48dd-a4fd-0035117a4247",
   "metadata": {},
   "source": [
    "### Example of Reading an Error Message\n",
    "\n",
    "When you run code that results in an error, Python will typically show you a traceback of what happened, right up to the line where the error occurred. Let's look at an example."
   ]
  },
  {
   "cell_type": "code",
   "execution_count": 9,
   "id": "4a28d10e-d0a3-4d18-b25f-ca0600f08658",
   "metadata": {},
   "outputs": [
    {
     "ename": "ZeroDivisionError",
     "evalue": "division by zero",
     "output_type": "error",
     "traceback": [
      "\u001b[1;31m---------------------------------------------------------------------------\u001b[0m",
      "\u001b[1;31mZeroDivisionError\u001b[0m                         Traceback (most recent call last)",
      "Cell \u001b[1;32mIn[9], line 8\u001b[0m\n\u001b[0;32m      5\u001b[0m     \u001b[38;5;28;01mreturn\u001b[39;00m a \u001b[38;5;241m/\u001b[39m b\n\u001b[0;32m      7\u001b[0m \u001b[38;5;66;03m# Let's provoke a ZeroDivisionError by trying to divide by zero\u001b[39;00m\n\u001b[1;32m----> 8\u001b[0m \u001b[43mdivide\u001b[49m\u001b[43m(\u001b[49m\u001b[38;5;241;43m1\u001b[39;49m\u001b[43m,\u001b[49m\u001b[43m \u001b[49m\u001b[38;5;241;43m0\u001b[39;49m\u001b[43m)\u001b[49m\n",
      "Cell \u001b[1;32mIn[9], line 5\u001b[0m, in \u001b[0;36mdivide\u001b[1;34m(a, b)\u001b[0m\n\u001b[0;32m      4\u001b[0m \u001b[38;5;28;01mdef\u001b[39;00m \u001b[38;5;21mdivide\u001b[39m(a, b):\n\u001b[1;32m----> 5\u001b[0m     \u001b[38;5;28;01mreturn\u001b[39;00m \u001b[43ma\u001b[49m\u001b[43m \u001b[49m\u001b[38;5;241;43m/\u001b[39;49m\u001b[43m \u001b[49m\u001b[43mb\u001b[49m\n",
      "\u001b[1;31mZeroDivisionError\u001b[0m: division by zero"
     ]
    }
   ],
   "source": [
    "# This code is intended to provoke an error\n",
    "# We will analyze the error message that Python returns\n",
    "\n",
    "def divide(a, b):\n",
    "    return a / b\n",
    "\n",
    "# Let's provoke a ZeroDivisionError by trying to divide by zero\n",
    "divide(1, 0)"
   ]
  },
  {
   "cell_type": "markdown",
   "id": "b6e68c6a-4f86-4ceb-8cbd-b4ff89177e1f",
   "metadata": {},
   "source": [
    "### Analyzing the Error Message and Traceback\n",
    "\n",
    "When an error occurs, Python provides a traceback, which is a report showing where in the code the problem happened. Let's break down the traceback provided to understand each part:\n",
    "\n",
    "\n",
    "- `ZeroDivisionError`: This is the type of error. It indicates what kind of exception was raised. Here, it signifies that the code attempted to divide by zero, which is not allowed in Python.\n",
    "\n",
    "- `Traceback (most recent call last)`: This line starts the traceback. It tells you that the following lines are tracing the error back to its origin. It shows the steps Python took in the call stack up to the point where the error occurred.\n",
    "\n",
    "- `Cell In[9], line 8`: This indicates the cell and line number where the error was first triggered. In this case, it's in cell number 9, line 8. This line tries to execute the `divide(1, 0)` function.\n",
    "\n",
    "- `----> 8 divide(1, 0)`: The arrow points to the exact line and code that triggered the error when executed. This visual cue helps you quickly locate the problematic code.\n",
    "\n",
    "- `Cell In[9], line 5, in divide(a, b)`: This part of the traceback goes deeper into the code, specifically into the `divide` function. It tells you the error happened inside this function.\n",
    "\n",
    "- `----> 5     return a / b`: Again, the arrow points to the specific operation within the function that caused the error. Here, `a / b` results in a division by zero.\n",
    "\n",
    "Understanding each element of this traceback allows you to quickly diagnose what went wrong and where to look in your code to fix the issue. This detailed information is crucial for debugging effectively in Python.\n"
   ]
  },
  {
   "cell_type": "markdown",
   "id": "4973e883-726e-4e52-a568-3bb026c05537",
   "metadata": {
    "jp-MarkdownHeadingCollapsed": true
   },
   "source": [
    "## Handling Exceptions\n",
    "\n",
    "Using `try` and `except` blocks, you can catch exceptions and handle them. This prevents the program from crashing and allows you to provide more user-friendly error messages.\n"
   ]
  },
  {
   "cell_type": "code",
   "execution_count": 22,
   "id": "6b605954-1f63-4326-b6d7-3d7b342cea26",
   "metadata": {},
   "outputs": [],
   "source": [
    "def convert_and_divide(number_str, divisor_str):\n",
    "    try:\n",
    "        # Attempt to convert strings to integers and divide\n",
    "        number = int(number_str)\n",
    "        divisor = int(divisor_str)\n",
    "        result = number / divisor\n",
    "    except ValueError:\n",
    "        # Handle the case where conversion from string to int fails\n",
    "        print(\"Error: One of the inputs is not a valid integer.\")\n",
    "    except ZeroDivisionError:\n",
    "        # Handle the case where the divisor is zero\n",
    "        print(\"Error: Division by zero is not allowed.\")\n",
    "    except Exception as e:\n",
    "        # Handle any other kind of exception\n",
    "        print(\"An unexpected error occurred:\", str(e))\n",
    "    else:\n",
    "        # This block runs if no exceptions were raised in the try block\n",
    "        print(\"Result of division:\", result)\n",
    "    finally:\n",
    "        # This block will always run, regardless of other outcomes\n",
    "        print(\"Operation complete.\")"
   ]
  },
  {
   "cell_type": "code",
   "execution_count": 23,
   "id": "18aef4c1-4364-4cfc-8143-2a9e837fcd6a",
   "metadata": {},
   "outputs": [
    {
     "name": "stdout",
     "output_type": "stream",
     "text": [
      "Result of division: 5.0\n",
      "Operation complete.\n"
     ]
    }
   ],
   "source": [
    "convert_and_divide(\"10\", \"2\")  # Valid inputs"
   ]
  },
  {
   "cell_type": "code",
   "execution_count": 24,
   "id": "053ca16c-a72b-483d-bb3a-8ee4cef1b64d",
   "metadata": {},
   "outputs": [
    {
     "name": "stdout",
     "output_type": "stream",
     "text": [
      "Error: One of the inputs is not a valid integer.\n",
      "Operation complete.\n"
     ]
    }
   ],
   "source": [
    "convert_and_divide(\"a\", \"2\")   # Causes ValueError"
   ]
  },
  {
   "cell_type": "code",
   "execution_count": 25,
   "id": "1a22818e-8b7e-430f-810d-bf54a29c4b1d",
   "metadata": {},
   "outputs": [
    {
     "name": "stdout",
     "output_type": "stream",
     "text": [
      "Error: Division by zero is not allowed.\n",
      "Operation complete.\n"
     ]
    }
   ],
   "source": [
    "convert_and_divide(\"10\", \"0\")  # Causes ZeroDivisionError"
   ]
  },
  {
   "cell_type": "markdown",
   "id": "08ce2609-43e6-4f09-9234-3b44c2286a26",
   "metadata": {
    "jp-MarkdownHeadingCollapsed": true
   },
   "source": [
    "## Raising Exceptions\n",
    "\n",
    "In Python, you can raise exceptions intentionally with the `raise` keyword. This is useful when you want to enforce certain conditions within your functions or methods, and stop the function execution if these conditions are not met. This helps in maintaining the program's integrity and preventing it from proceeding with invalid states."
   ]
  },
  {
   "cell_type": "markdown",
   "id": "393a3f2f-3c02-4a94-a914-e632e35c0bf6",
   "metadata": {},
   "source": [
    "### Why Raise Exceptions?\n",
    "\n",
    "Raising exceptions can be useful for:\n",
    "- Enforcing input requirements or constraints.\n",
    "- Handling errors in the program's logic that are not covered by Python's built-in exceptions.\n",
    "- Making your code safer and easier to debug by catching errors early."
   ]
  },
  {
   "cell_type": "markdown",
   "id": "0ade5e4e-16f7-416d-8f86-13bfdec86273",
   "metadata": {},
   "source": [
    "### How to Raise an Exception\n",
    "\n",
    "Here's an example of a function that raises an exception if a given parameter is not as expected:"
   ]
  },
  {
   "cell_type": "code",
   "execution_count": 27,
   "id": "2561842d-473f-45b8-b2be-ddcc947e6b42",
   "metadata": {},
   "outputs": [],
   "source": [
    "def get_user_details():\n",
    "    name = input(\"Enter your name:\")\n",
    "    age  = input(\"Enter your age:\")\n",
    "    age  = int(age)\n",
    "    if not 0 <= age <= 100:\n",
    "        raise ValueError(\"Invalid age\")\n",
    "    print(f\"Hello, {name}!\")"
   ]
  },
  {
   "cell_type": "code",
   "execution_count": 30,
   "id": "a599e56c-fbde-4ba4-8971-e2b0c1813e89",
   "metadata": {},
   "outputs": [
    {
     "name": "stdin",
     "output_type": "stream",
     "text": [
      "Enter your name: Guido\n",
      "Enter your age: 120\n"
     ]
    },
    {
     "name": "stdout",
     "output_type": "stream",
     "text": [
      "Invalid age\n"
     ]
    }
   ],
   "source": [
    "try:\n",
    "    get_user_details()\n",
    "except ValueError as e:\n",
    "    print(e)"
   ]
  },
  {
   "cell_type": "markdown",
   "id": "6cb38489-5459-446d-bdf4-86d599e2964f",
   "metadata": {
    "jp-MarkdownHeadingCollapsed": true
   },
   "source": [
    "## Creating Custom Exceptions\n",
    "\n",
    "In Python, you can define your own exceptions by creating a new exception class. This class needs to derive from the built-in `Exception` class or one of its subclasses."
   ]
  },
  {
   "cell_type": "markdown",
   "id": "62ac3001-62cc-41c8-9ecd-1dafc2c10d72",
   "metadata": {},
   "source": [
    "Creating custom exceptions can be very useful for several reasons:\n",
    "\n",
    "- **Enhancing Code Readability**: Custom exceptions with descriptive names can make your code more readable and understandable.\n",
    "- **Handling Specific Errors**: By creating specific exceptions for specific error conditions, your error handling code can be more targeted and efficient.\n",
    "- **Maintaining a Consistent Error Handling Strategy**: Using custom exceptions allows you to maintain a consistent approach to error handling across your application."
   ]
  },
  {
   "cell_type": "markdown",
   "id": "43d345e3-0bbf-47fc-ae39-212078e95129",
   "metadata": {},
   "source": [
    "### Extending an Existing Exception\n",
    "\n",
    "Sometimes, you might want to create a custom exception that is a specialized version of an existing exception. This can be beneficial when you want your exception to inherit behavior from an already implemented exception but also want it to be catchable separately for more precise error handling.\n",
    "\n",
    "For example, let's create a custom exception called `NegativeValueError` that extends `ValueError`. This is useful for cases where you specifically want to handle errors arising from negative values, which could be considered a special kind of value error.\n"
   ]
  },
  {
   "cell_type": "code",
   "execution_count": 1,
   "id": "bd0d9700-c8b8-40ad-97bc-4fc34d5b806f",
   "metadata": {},
   "outputs": [],
   "source": [
    "# Define a custom exception by extending ValueError\n",
    "class NegativeValueError(ValueError): pass\n",
    "\n",
    "# Function that might raise our custom exception\n",
    "def sqrt(value):\n",
    "    \"\"\"Calculate square root; raise NegativeValueError if input is negative.\"\"\"\n",
    "    if value < 0:\n",
    "        raise NegativeValueError(\"Cannot compute square root of a negative number\")\n",
    "    return value ** 0.5"
   ]
  },
  {
   "cell_type": "code",
   "execution_count": 2,
   "id": "b34c8378-8e88-4456-8c01-c229b744c9bb",
   "metadata": {},
   "outputs": [
    {
     "name": "stdout",
     "output_type": "stream",
     "text": [
      "Cannot compute square root of a negative number\n",
      "Execution of sqrt completed.\n"
     ]
    }
   ],
   "source": [
    "try:\n",
    "    # This will raise an exception if the input is negative\n",
    "    result = sqrt(-10)\n",
    "except NegativeValueError as ne:\n",
    "    print(ne)\n",
    "finally:\n",
    "    print(\"Execution of sqrt completed.\")"
   ]
  },
  {
   "cell_type": "markdown",
   "id": "33dbf3da-7831-47de-8f32-d27d08e929f8",
   "metadata": {
    "jp-MarkdownHeadingCollapsed": true
   },
   "source": [
    "## Using the Python Debugger (pdb)\n",
    "\n",
    "The Python Debugger (`pdb`) is a module that provides an interactive debugging environment for Python programs. It includes features that allow you to pause execution, inspect values of variables, and control the program's execution step-by-step. This makes it an invaluable tool for diagnosing and fixing bugs more efficiently."
   ]
  },
  {
   "cell_type": "markdown",
   "id": "b75c5075-ff9c-441d-bdf0-71fca055dd11",
   "metadata": {},
   "source": [
    "### Features of pdb\n",
    "- **Breakpoints**: Pause your program execution at a specified line.\n",
    "- **Step through**: Execute your program one line at a time.\n",
    "- **Inspect variables**: Look at the value of variables to see where things might be going wrong.\n",
    "- **Modify variables**: Change the value of variables to test different scenarios interactively."
   ]
  },
  {
   "cell_type": "markdown",
   "id": "d4aba3f0-d04d-4ec4-935f-f3e8ccb80143",
   "metadata": {},
   "source": [
    "### Basic Commands in pdb\n",
    "- `l` (list): Displays 11 lines around the current line or the specified line.\n",
    "- `n` (next): Move to the next line within the same function.\n",
    "- `c` (continue): Resume execution until a breakpoint is encountered.\n",
    "- `b` (breakpoint): Set a breakpoint at a specified line.\n",
    "- `p` (print): Print the value of an expression to the console.\n",
    "- `q` (quit): Exit from the debugger."
   ]
  },
  {
   "cell_type": "markdown",
   "id": "b7d35d6e-5cc6-47a2-a9fb-23b71c4cb652",
   "metadata": {},
   "source": [
    "### Example Usage\n",
    "Below is a simple example to demonstrate the use of `pdb` in a Python script. We will intentionally provoke an error and use `pdb` to step through the code and inspect variables."
   ]
  },
  {
   "cell_type": "code",
   "execution_count": null,
   "id": "b57fff00-ed3f-4081-9952-14f4f7628996",
   "metadata": {},
   "outputs": [],
   "source": [
    "import pdb\n",
    "\n",
    "def calculate_sum(numbers):\n",
    "    total = 0\n",
    "    for number in numbers:\n",
    "        pdb.set_trace()  # Start pdb debugger here\n",
    "        total += number\n",
    "    return total\n",
    "\n",
    "# Let's invoke the function with a list of numbers\n",
    "numbers = [1, 2, 'three', 4]  # This includes an intentional error\n",
    "\n",
    "try:\n",
    "    print(\"The sum is:\", calculate_sum(numbers))\n",
    "except TypeError:\n",
    "    print(\"Type Error: Please check that all elements are numbers.\")\n"
   ]
  },
  {
   "cell_type": "markdown",
   "id": "580d1fd4-cae2-4337-9cfb-08753f70e4e2",
   "metadata": {
    "jp-MarkdownHeadingCollapsed": true
   },
   "source": [
    "## Conclusion\n",
    "\n",
    "Throughout this workbook, we've explored the essential aspects of error handling in Python, from understanding different types of Python exceptions and interpreting error messages, to effectively handling and raising exceptions. We also ventured into creating custom exceptions and using the Python Debugger (`pdb`) to enhance our debugging skills."
   ]
  },
  {
   "cell_type": "markdown",
   "id": "564322b7-f08f-4412-a200-9c871b97f742",
   "metadata": {},
   "source": [
    "### Key Takeaways\n",
    "\n",
    "1. **Understanding Python Exceptions**: We've learned that exceptions are Python's way of managing errors that occur during program execution. Familiarity with common exceptions like `SyntaxError`, `ValueError`, and `TypeError` is crucial for diagnosing issues quickly.\n",
    "\n",
    "2. **Reading Error Messages**: Effectively interpreting error messages and tracebacks is essential for debugging. Knowing how to read these messages allows you to pinpoint where and why a problem occurred.\n",
    "\n",
    "3. **Handling Exceptions**: Using `try`, `except`, `else`, and `finally` blocks provides robust ways to manage exceptions, ensuring that your programs handle unexpected events gracefully and maintain functionality under various conditions.\n",
    "\n",
    "4. **Raising Exceptions**: We covered the importance of using the `raise` keyword to trigger exceptions intentionally when conditions in your code deviate from expected norms. This is particularly useful for enforcing constraints or notifying users of incorrect usage.\n",
    "\n",
    "5. **Creating Custom Exceptions**: By defining our own exceptions, we can clarify our code's intent and handle very specific error conditions more appropriately. This helps make our code more intuitive and maintainable.\n",
    "\n",
    "6. **Using the Python Debugger (pdb)**: Learning to use `pdb` effectively can dramatically improve your ability to diagnose and fix problems in your code. This tool allows for detailed inspection and manipulation of program execution, which is invaluable in complex debugging scenarios."
   ]
  },
  {
   "cell_type": "markdown",
   "id": "39ed0cdd-4224-40d0-8c22-7301892f4a7f",
   "metadata": {},
   "source": [
    "### Moving Forward\n",
    "\n",
    "Effective error handling and debugging are marks of an experienced programmer. Mastering these skills can lead to more reliable, robust, and user-friendly Python applications. As you continue to develop your programming skills, remember that handling errors gracefully and debugging efficiently are just as important as writing new code.\n",
    "\n",
    "We encourage you to apply the concepts and techniques learned here to your own projects. Experiment with different types of error handling, raise your own exceptions, and utilize `pdb` to deepen your understanding of your code's behavior under various conditions."
   ]
  }
 ],
 "metadata": {
  "kernelspec": {
   "display_name": "Python 3 (ipykernel)",
   "language": "python",
   "name": "python3"
  },
  "language_info": {
   "codemirror_mode": {
    "name": "ipython",
    "version": 3
   },
   "file_extension": ".py",
   "mimetype": "text/x-python",
   "name": "python",
   "nbconvert_exporter": "python",
   "pygments_lexer": "ipython3",
   "version": "3.12.1"
  }
 },
 "nbformat": 4,
 "nbformat_minor": 5
}
