{
 "cells": [
  {
   "attachments": {},
   "cell_type": "markdown",
   "metadata": {},
   "source": [
    "# Maths through programming.\n",
    "Maths is one of the most fundamental elements of computing - arguably, ALL of computing is just maths, as everything a computer does it does by manipulating numbers behind the scenes! When learning to program, implementing some basic mathematical procedures is a great way to get to grips with the fundamental element of code. That is exactly what we will be doing in this exercise.  \n",
    "We will be starting with no assumed knowledge of Python or coding, but a basic sense and understanding of the logical and *algorithmic* thinking we may want to use when approaching writing our first piece of code - only as much as we covered in the very beginning of this course.\n",
    "\n",
    "### 1. The basics of variables, 'print' and \"Hello, World!\"\n",
    "The first thing we want to be able to do is *'print'*, this is how we get human readable our program to display human-readable messages when we run it. We will want to be using this throughout this notebook to view what our variables are"
   ]
  },
  {
   "cell_type": "code",
   "execution_count": null,
   "metadata": {},
   "outputs": [],
   "source": [
    "# Write your line of code here, then press the 'play' button on the left\n",
    "print(\"Hello, world\")\n"
   ]
  },
  {
   "cell_type": "markdown",
   "metadata": {},
   "source": [
    "### 2. Mathematical expressions\n",
    "These next questions will work on your ability to write and understand mathematical expressions in Python. Make sure to run each code cell after filling in your answer and before running the tester"
   ]
  },
  {
   "cell_type": "code",
   "execution_count": null,
   "metadata": {},
   "outputs": [],
   "source": [
    "# a) Add these two variables together, and store them in a new variable called 'ans_a'\n",
    "num1 = 2\n",
    "num2 = 3"
   ]
  },
  {
   "cell_type": "code",
   "execution_count": null,
   "metadata": {},
   "outputs": [],
   "source": [
    "# b) Using only the minus operator, num1, and num2, define the new variable 'ans_b' with the value of 1"
   ]
  },
  {
   "cell_type": "code",
   "execution_count": null,
   "metadata": {},
   "outputs": [],
   "source": [
    "# c) Using BOTH the plus and minus symbols, and num1 and num2 ONLY, define the new variable 'ans_c' as -5\n",
    "# HINT you will need to use the minus symbol to indicate a negative"
   ]
  },
  {
   "cell_type": "code",
   "execution_count": null,
   "metadata": {},
   "outputs": [],
   "source": [
    "# d) This line is supposed to make variable 'ans_d' equal 6 by multiplying num1 by num2, what is wrong with it? correct it. How do you multiply in Python?\n",
    "ans_d = num1 x num2"
   ]
  },
  {
   "cell_type": "code",
   "execution_count": null,
   "metadata": {},
   "outputs": [],
   "source": [
    "# e) Make the values of following variables match their names by ONLY adding parentheses (brackets) to the expressions\n",
    "# The first one is done for you \n",
    "should_be_100 = (9 + 1) * 10 #this makes 100\n",
    "should_be_nine = 1 + 2 * 3\n",
    "should_be_twelve = 4 * 4 - 1\n",
    "should_be_110 = 10 + 1 * 10"
   ]
  },
  {
   "cell_type": "code",
   "execution_count": null,
   "metadata": {},
   "outputs": [],
   "source": [
    "# f) There are two kinds of division operators, below we use both to define 'num3' and 'num4'\n",
    "num3 = 11 % 5\n",
    "num4 = 11 / 5\n",
    "# EXPLICITLY define (as one number, not referencing the above variables, not an expression with operator(s)) the below variables \n",
    "# such that: numx_will_be == numx\n",
    "# You may not check the values of num3 and num4 using print\n",
    "num3_will_be = \"<your answer here>\"\n",
    "num4_will_be = \"<your answer here>\"\n"
   ]
  },
  {
   "cell_type": "code",
   "execution_count": null,
   "metadata": {},
   "outputs": [],
   "source": [
    "# TODO answer checker"
   ]
  },
  {
   "cell_type": "markdown",
   "metadata": {},
   "source": [
    "### 3. Boolean expressions\n",
    "Recall that boolean expressions are ones that are evaluated as either 'true' or 'false'. Python uses the keywords *True* and *False* (case sensitive) as the two binary elements. The numbers *1* and *0* are also implicitly evaluated as true and false respectively, but we will be sticking to the keywords. These next questions will test your understanding of boolean expressions and operators in Python."
   ]
  },
  {
   "cell_type": "code",
   "execution_count": null,
   "metadata": {},
   "outputs": [],
   "source": [
    "# a) Below are some variables defined as boolean expressions.\n",
    "exp1 = 2 * 2 == 2 + 2\n",
    "exp2 = 100 < 10 ** 2\n",
    "exp3 = 5 != \"five\"\n",
    "exp4 = 1 + (1 + 1) >= 1 + 1 + 1\n",
    "exp5 = 100 - 1 == 10 * (10 - 1)\n",
    "exp6 = 51 % 10 >= 5\n",
    "\n",
    "# Here are some variables missing definitions. Define each one using ONLY 'True' or 'False' such that they match.\n",
    "exp1_is = \n",
    "exp2_is = \n",
    "exp3_is = \n",
    "exp4_is = \n",
    "exp5_is = \n",
    "exp6_is = "
   ]
  },
  {
   "cell_type": "code",
   "execution_count": null,
   "metadata": {},
   "outputs": [],
   "source": [
    "# b) x and y should be numbers such that both expressions below are true. Currently they are both 0, and the expressions below are false \n",
    "x = 0\n",
    "y = 0\n",
    "\n",
    "exp1 = x + y > 10\n",
    "exp2 = x * y < 30\n",
    "exp3 = x * 2 > y\n",
    "\n",
    "print(exp1)\n",
    "print(exp2)\n",
    "print(exp3)"
   ]
  },
  {
   "cell_type": "code",
   "execution_count": null,
   "metadata": {},
   "outputs": [],
   "source": [
    "# c) I am thinking of a number...\n",
    "# Say my friend guesses my number is 8, I save that in variable x\n",
    "x = 8\n",
    "\n",
    "# Write boolean expressions for each of the following hints, using the variable x and the operators we have seen so far\n",
    "# My number squared is greater than 40\n",
    "hint1 = \n",
    "# My number is no greater than 11\n",
    "hint2 = \n",
    "# My number is an odd number\n",
    "hint3 ="
   ]
  }
 ],
 "metadata": {
  "kernelspec": {
   "display_name": "Python 3",
   "language": "python",
   "name": "python3"
  },
  "language_info": {
   "codemirror_mode": {
    "name": "ipython",
    "version": 3
   },
   "file_extension": ".py",
   "mimetype": "text/x-python",
   "name": "python",
   "nbconvert_exporter": "python",
   "pygments_lexer": "ipython3",
   "version": "3.10.8"
  }
 },
 "nbformat": 4,
 "nbformat_minor": 2
}
