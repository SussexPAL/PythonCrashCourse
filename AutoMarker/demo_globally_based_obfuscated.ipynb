{
 "cells": [
  {
   "cell_type": "code",
   "execution_count": 1,
   "metadata": {
    "slideshow": {
     "slide_type": "skip"
    }
   },
   "outputs": [
    {
     "name": "stdout",
     "output_type": "stream",
     "text": [
      "Requirement already satisfied: rich in /Users/valknight/OfflineDocuments/PythonCrashCourse/venv/lib/python3.12/site-packages (13.7.1)\n",
      "Requirement already satisfied: markdown-it-py>=2.2.0 in /Users/valknight/OfflineDocuments/PythonCrashCourse/venv/lib/python3.12/site-packages (from rich) (3.0.0)\n",
      "Requirement already satisfied: pygments<3.0.0,>=2.13.0 in /Users/valknight/OfflineDocuments/PythonCrashCourse/venv/lib/python3.12/site-packages (from rich) (2.18.0)\n",
      "Requirement already satisfied: mdurl~=0.1 in /Users/valknight/OfflineDocuments/PythonCrashCourse/venv/lib/python3.12/site-packages (from markdown-it-py>=2.2.0->rich) (0.1.2)\n",
      "\n",
      "\u001b[1m[\u001b[0m\u001b[34;49mnotice\u001b[0m\u001b[1;39;49m]\u001b[0m\u001b[39;49m A new release of pip is available: \u001b[0m\u001b[31;49m23.2.1\u001b[0m\u001b[39;49m -> \u001b[0m\u001b[32;49m24.0\u001b[0m\n",
      "\u001b[1m[\u001b[0m\u001b[34;49mnotice\u001b[0m\u001b[1;39;49m]\u001b[0m\u001b[39;49m To update, run: \u001b[0m\u001b[32;49mpip install --upgrade pip\u001b[0m\n",
      "Note: you may need to restart the kernel to use updated packages.\n",
      "Requirement already satisfied: ipywidgets in /Users/valknight/OfflineDocuments/PythonCrashCourse/venv/lib/python3.12/site-packages (8.1.2)\n",
      "Requirement already satisfied: comm>=0.1.3 in /Users/valknight/OfflineDocuments/PythonCrashCourse/venv/lib/python3.12/site-packages (from ipywidgets) (0.2.2)\n",
      "Requirement already satisfied: ipython>=6.1.0 in /Users/valknight/OfflineDocuments/PythonCrashCourse/venv/lib/python3.12/site-packages (from ipywidgets) (8.24.0)\n",
      "Requirement already satisfied: traitlets>=4.3.1 in /Users/valknight/OfflineDocuments/PythonCrashCourse/venv/lib/python3.12/site-packages (from ipywidgets) (5.14.3)\n",
      "Requirement already satisfied: widgetsnbextension~=4.0.10 in /Users/valknight/OfflineDocuments/PythonCrashCourse/venv/lib/python3.12/site-packages (from ipywidgets) (4.0.10)\n",
      "Requirement already satisfied: jupyterlab-widgets~=3.0.10 in /Users/valknight/OfflineDocuments/PythonCrashCourse/venv/lib/python3.12/site-packages (from ipywidgets) (3.0.10)\n",
      "Requirement already satisfied: decorator in /Users/valknight/OfflineDocuments/PythonCrashCourse/venv/lib/python3.12/site-packages (from ipython>=6.1.0->ipywidgets) (5.1.1)\n",
      "Requirement already satisfied: jedi>=0.16 in /Users/valknight/OfflineDocuments/PythonCrashCourse/venv/lib/python3.12/site-packages (from ipython>=6.1.0->ipywidgets) (0.19.1)\n",
      "Requirement already satisfied: matplotlib-inline in /Users/valknight/OfflineDocuments/PythonCrashCourse/venv/lib/python3.12/site-packages (from ipython>=6.1.0->ipywidgets) (0.1.7)\n",
      "Requirement already satisfied: prompt-toolkit<3.1.0,>=3.0.41 in /Users/valknight/OfflineDocuments/PythonCrashCourse/venv/lib/python3.12/site-packages (from ipython>=6.1.0->ipywidgets) (3.0.43)\n",
      "Requirement already satisfied: pygments>=2.4.0 in /Users/valknight/OfflineDocuments/PythonCrashCourse/venv/lib/python3.12/site-packages (from ipython>=6.1.0->ipywidgets) (2.18.0)\n",
      "Requirement already satisfied: stack-data in /Users/valknight/OfflineDocuments/PythonCrashCourse/venv/lib/python3.12/site-packages (from ipython>=6.1.0->ipywidgets) (0.6.3)\n",
      "Requirement already satisfied: pexpect>4.3 in /Users/valknight/OfflineDocuments/PythonCrashCourse/venv/lib/python3.12/site-packages (from ipython>=6.1.0->ipywidgets) (4.9.0)\n",
      "Requirement already satisfied: parso<0.9.0,>=0.8.3 in /Users/valknight/OfflineDocuments/PythonCrashCourse/venv/lib/python3.12/site-packages (from jedi>=0.16->ipython>=6.1.0->ipywidgets) (0.8.4)\n",
      "Requirement already satisfied: ptyprocess>=0.5 in /Users/valknight/OfflineDocuments/PythonCrashCourse/venv/lib/python3.12/site-packages (from pexpect>4.3->ipython>=6.1.0->ipywidgets) (0.7.0)\n",
      "Requirement already satisfied: wcwidth in /Users/valknight/OfflineDocuments/PythonCrashCourse/venv/lib/python3.12/site-packages (from prompt-toolkit<3.1.0,>=3.0.41->ipython>=6.1.0->ipywidgets) (0.2.13)\n",
      "Requirement already satisfied: executing>=1.2.0 in /Users/valknight/OfflineDocuments/PythonCrashCourse/venv/lib/python3.12/site-packages (from stack-data->ipython>=6.1.0->ipywidgets) (2.0.1)\n",
      "Requirement already satisfied: asttokens>=2.1.0 in /Users/valknight/OfflineDocuments/PythonCrashCourse/venv/lib/python3.12/site-packages (from stack-data->ipython>=6.1.0->ipywidgets) (2.4.1)\n",
      "Requirement already satisfied: pure-eval in /Users/valknight/OfflineDocuments/PythonCrashCourse/venv/lib/python3.12/site-packages (from stack-data->ipython>=6.1.0->ipywidgets) (0.2.2)\n",
      "Requirement already satisfied: six>=1.12.0 in /Users/valknight/OfflineDocuments/PythonCrashCourse/venv/lib/python3.12/site-packages (from asttokens>=2.1.0->stack-data->ipython>=6.1.0->ipywidgets) (1.16.0)\n",
      "\n",
      "\u001b[1m[\u001b[0m\u001b[34;49mnotice\u001b[0m\u001b[1;39;49m]\u001b[0m\u001b[39;49m A new release of pip is available: \u001b[0m\u001b[31;49m23.2.1\u001b[0m\u001b[39;49m -> \u001b[0m\u001b[32;49m24.0\u001b[0m\n",
      "\u001b[1m[\u001b[0m\u001b[34;49mnotice\u001b[0m\u001b[1;39;49m]\u001b[0m\u001b[39;49m To update, run: \u001b[0m\u001b[32;49mpip install --upgrade pip\u001b[0m\n",
      "Note: you may need to restart the kernel to use updated packages.\n"
     ]
    }
   ],
   "source": [
    "%pip install rich\n",
    "%pip install ipywidgets"
   ]
  },
  {
   "cell_type": "code",
   "execution_count": 2,
   "metadata": {},
   "outputs": [],
   "source": [
    "a = 1\n",
    "b = 3\n",
    "\n",
    "# Write your code below!\n",
    "\n",
    "# First, make a variable named \"x\" with the value of 1 + 3\n",
    "x = 1 + 3\n",
    "\n",
    "# Now, create a new variable named \"y\" with the value of x * 5\n",
    "y = x * 5"
   ]
  },
  {
   "cell_type": "code",
   "execution_count": 5,
   "metadata": {},
   "outputs": [
    {
     "data": {
      "application/vnd.jupyter.widget-view+json": {
       "model_id": "d470a837e17b419aa50b6243803e45fd",
       "version_major": 2,
       "version_minor": 0
      },
      "text/plain": [
       "Output()"
      ]
     },
     "metadata": {},
     "output_type": "display_data"
    },
    {
     "data": {
      "text/html": [
       "<pre style=\"white-space:pre;overflow-x:auto;line-height:normal;font-family:Menlo,'DejaVu Sans Mono',consolas,'Courier New',monospace\"><span style=\"color: #008000; text-decoration-color: #008000\">╭───────────────────────────────────────────────── Data verified ─────────────────────────────────────────────────╮</span>\n",
       "<span style=\"color: #008000; text-decoration-color: #008000\">│</span> Congratulations! \"x\" is the right data (4)                                                                      <span style=\"color: #008000; text-decoration-color: #008000\">│</span>\n",
       "<span style=\"color: #008000; text-decoration-color: #008000\">╰─────────────────────────────────────────────────────────────────────────────────────────────────────────────────╯</span>\n",
       "</pre>\n"
      ],
      "text/plain": [
       "\u001b[32m╭─\u001b[0m\u001b[32m────────────────────────────────────────────────\u001b[0m\u001b[32m Data verified \u001b[0m\u001b[32m────────────────────────────────────────────────\u001b[0m\u001b[32m─╮\u001b[0m\n",
       "\u001b[32m│\u001b[0m Congratulations! \"x\" is the right data (4)                                                                      \u001b[32m│\u001b[0m\n",
       "\u001b[32m╰─────────────────────────────────────────────────────────────────────────────────────────────────────────────────╯\u001b[0m\n"
      ]
     },
     "metadata": {},
     "output_type": "display_data"
    },
    {
     "data": {
      "text/html": [
       "<pre style=\"white-space:pre;overflow-x:auto;line-height:normal;font-family:Menlo,'DejaVu Sans Mono',consolas,'Courier New',monospace\"><span style=\"color: #008000; text-decoration-color: #008000\">╭───────────────────────────────────────────────── Data verified ─────────────────────────────────────────────────╮</span>\n",
       "<span style=\"color: #008000; text-decoration-color: #008000\">│</span> Congratulations! \"y\" is the right data (20)                                                                     <span style=\"color: #008000; text-decoration-color: #008000\">│</span>\n",
       "<span style=\"color: #008000; text-decoration-color: #008000\">╰─────────────────────────────────────────────────────────────────────────────────────────────────────────────────╯</span>\n",
       "</pre>\n"
      ],
      "text/plain": [
       "\u001b[32m╭─\u001b[0m\u001b[32m────────────────────────────────────────────────\u001b[0m\u001b[32m Data verified \u001b[0m\u001b[32m────────────────────────────────────────────────\u001b[0m\u001b[32m─╮\u001b[0m\n",
       "\u001b[32m│\u001b[0m Congratulations! \"y\" is the right data (20)                                                                     \u001b[32m│\u001b[0m\n",
       "\u001b[32m╰─────────────────────────────────────────────────────────────────────────────────────────────────────────────────╯\u001b[0m\n"
      ]
     },
     "metadata": {},
     "output_type": "display_data"
    },
    {
     "data": {
      "text/html": [
       "<pre style=\"white-space:pre;overflow-x:auto;line-height:normal;font-family:Menlo,'DejaVu Sans Mono',consolas,'Courier New',monospace\"><span style=\"color: #008000; text-decoration-color: #008000\">╭────────────────────────────────────────────── Exercise complete! ───────────────────────────────────────────────╮</span>\n",
       "<span style=\"color: #008000; text-decoration-color: #008000\">│</span> Congratulations! Everything seems all good :) Feel free to move onto the next exercise!                         <span style=\"color: #008000; text-decoration-color: #008000\">│</span>\n",
       "<span style=\"color: #008000; text-decoration-color: #008000\">╰─────────────────────────────────────────────────────────────────────────────────────────────────────────────────╯</span>\n",
       "</pre>\n"
      ],
      "text/plain": [
       "\u001b[32m╭─\u001b[0m\u001b[32m─────────────────────────────────────────────\u001b[0m\u001b[32m Exercise complete! \u001b[0m\u001b[32m──────────────────────────────────────────────\u001b[0m\u001b[32m─╮\u001b[0m\n",
       "\u001b[32m│\u001b[0m Congratulations! Everything seems all good :) Feel free to move onto the next exercise!                         \u001b[32m│\u001b[0m\n",
       "\u001b[32m╰─────────────────────────────────────────────────────────────────────────────────────────────────────────────────╯\u001b[0m\n"
      ]
     },
     "metadata": {},
     "output_type": "display_data"
    },
    {
     "data": {
      "text/html": [
       "<pre style=\"white-space:pre;overflow-x:auto;line-height:normal;font-family:Menlo,'DejaVu Sans Mono',consolas,'Courier New',monospace\"></pre>\n"
      ],
      "text/plain": []
     },
     "metadata": {},
     "output_type": "display_data"
    },
    {
     "data": {
      "text/html": [
       "<pre style=\"white-space:pre;overflow-x:auto;line-height:normal;font-family:Menlo,'DejaVu Sans Mono',consolas,'Courier New',monospace\">\n",
       "</pre>\n"
      ],
      "text/plain": [
       "\n"
      ]
     },
     "metadata": {},
     "output_type": "display_data"
    }
   ],
   "source": [
    "# This uses an obsfucsated marker, where we just encode the marker cell in base 64.\n",
    "# This is pretty rudimentary to bypass, but, the idea is it's simpler just to... answer the problem than it is to reverse engineer this\n",
    "\n",
    "# Source (b64 encoded frm the normal source)\n",
    "# import base64\n",
    "# exec(base64.b64decode(\"\"\"ZGF0YSA9IHsKICAgICJ4IjogNCwKICAgICJ5IjogMjAKfQoKaW1wb3J0IHRpbWUKaW1wb3J0IHRyYWNlYmFjawppbXBvcnQgc3lzCmZyb20gcmljaC5wcm9ncmVzcyBpbXBvcnQgUHJvZ3Jlc3MKZnJvbSByaWNoIGltcG9ydCBwcmludApmcm9tIHJpY2gucGFuZWwgaW1wb3J0IFBhbmVsCgpkZWYgc3VjY2Vzc19wYW5lbChtc2c6IHN0ciwgdGl0bGU6IHN0cikgLT4gTm9uZToKICAgIHByaW50KFBhbmVsKG1zZywgdGl0bGU9dGl0bGUsIGJvcmRlcl9zdHlsZT0iZ3JlZW4iKSkKCmRlZiBwcm9ibGVtX3BhbmVsKG1zZzogc3RyLCB0aXRsZTogc3RyKSAtPiBOb25lOgogICAgcHJpbnQoUGFuZWwobXNnLCB0aXRsZT10aXRsZSwgYm9yZGVyX3N0eWxlPSJyZWQiKSkKCgp3aXRoIFByb2dyZXNzKCkgYXMgcHJvZ3Jlc3M6CiAgICBhc3NlcnRfdGFzayA9IHByb2dyZXNzLmFkZF90YXNrKCJbZ3JlZW5dQ2hlY2tpbmcgc29sdXRpb24uLi4iLCB0b3RhbD1sZW4oZGF0YS5rZXlzKCkpKQogICAgZmFpbGVkID0gMAogICAgZm9yIGtleSBpbiBkYXRhLmtleXMoKToKICAgICAgICB2YWx1ZSA9IGRhdGFba2V5XQogICAgICAgICMgdGhpcyBpcyBldmlsIGJ1dCBpdCdzIHRoZSBiZXN0IGltIGRvaW5nIGF0IDExcG0gc2prc2tqcwogICAgICAgIHRyeToKICAgICAgICAgICAgYXNzZXJ0KGdsb2JhbHMoKVtrZXldID09IHZhbHVlKQogICAgICAgICAgICBzdWNjZXNzX3BhbmVsKGYiQ29uZ3JhdHVsYXRpb25zISBcIntrZXl9XCIgaXMgdGhlIHJpZ2h0IGRhdGEgKHt2YWx1ZX0pIiwgdGl0bGU9IkRhdGEgdmVyaWZpZWQiKQogICAgICAgIGV4Y2VwdCBLZXlFcnJvciBhcyBlOgogICAgICAgICAgICBmYWlsZWQgKz0gMQogICAgICAgICAgICAjIGtleSBlcnJvciBtZWFucyBpdCBpc24ndCBpbiBnbG9iYWxzLi4uCiAgICAgICAgICAgIHByb2JsZW1fcGFuZWwoZiJcIntrZXl9XCIgaXNuJ3QgZGVmaW5lZC4uLiIsICJVbmRlZmluZWQgdmFyaWFibGUiKQogICAgICAgIGV4Y2VwdCBBc3NlcnRpb25FcnJvciBhcyBlOgogICAgICAgICAgICBmYWlsZWQgKz0gMQogICAgICAgICAgICBwcm9ibGVtX3BhbmVsKGYiXCJ7a2V5fVwiIGlzbid0IHdoYXQgd2Ugd2VyZSBleHBlY3RpbmcuLi4iLCAiRGF0YSBlcnJvciIpCiAgICAgICAgcHJvZ3Jlc3MudXBkYXRlKGFzc2VydF90YXNrLCBhZHZhbmNlPTEpCiAgICAKICAgIGlmIGZhaWxlZCA+IDA6CiAgICAgICAgcHJvYmxlbV9wYW5lbChmIk9vcHMhIHtmYWlsZWR9IG9mIHtsZW4oZGF0YS5rZXlzKCkpfSB0aGluZ3MgYXJlbid0IHF1aXRlIHJpZ2h0XG5Eb3VibGUgY2hlY2sgeW91ciBsb2dpYywgbWFrZSBzb21lIGNoYW5nZXMsIGFuZCByZS1ydW4hIiwgIiIpCiAgICBlbHNlOgogICAgICAgIHN1Y2Nlc3NfcGFuZWwoIkNvbmdyYXR1bGF0aW9ucyEgRXZlcnl0aGluZyBzZWVtcyBhbGwgZ29vZCA6KSBGZWVsIGZyZWUgdG8gbW92ZSBvbnRvIHRoZSBuZXh0IGV4ZXJjaXNlISIsICJFeGVyY2lzZSBjb21wbGV0ZSEiKQo=\"\"\"))\n",
    "\n",
    "# And now, obfuscated via freecodingtools.org/py-obfuscator\n",
    "                    \n",
    "_ = lambda __ : __import__('zlib').decompress(__import__('base64').b64decode(__[::-1]));exec((_)(b'==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'))\n"
   ]
  },
  {
   "cell_type": "markdown",
   "metadata": {},
   "source": []
  }
 ],
 "metadata": {
  "kernelspec": {
   "display_name": "venv",
   "language": "python",
   "name": "python3"
  },
  "language_info": {
   "codemirror_mode": {
    "name": "ipython",
    "version": 3
   },
   "file_extension": ".py",
   "mimetype": "text/x-python",
   "name": "python",
   "nbconvert_exporter": "python",
   "pygments_lexer": "ipython3",
   "version": "3.12.1"
  }
 },
 "nbformat": 4,
 "nbformat_minor": 2
}
