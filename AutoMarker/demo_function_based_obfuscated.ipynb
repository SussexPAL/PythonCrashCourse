{
 "cells": [
  {
   "cell_type": "code",
   "execution_count": 4,
   "metadata": {
    "slideshow": {
     "slide_type": "skip"
    }
   },
   "outputs": [
    {
     "name": "stdout",
     "output_type": "stream",
     "text": [
      "Requirement already satisfied: rich in /Users/valknight/OfflineDocuments/PythonCrashCourse/venv/lib/python3.12/site-packages (13.7.1)\n",
      "Requirement already satisfied: markdown-it-py>=2.2.0 in /Users/valknight/OfflineDocuments/PythonCrashCourse/venv/lib/python3.12/site-packages (from rich) (3.0.0)\n",
      "Requirement already satisfied: pygments<3.0.0,>=2.13.0 in /Users/valknight/OfflineDocuments/PythonCrashCourse/venv/lib/python3.12/site-packages (from rich) (2.18.0)\n",
      "Requirement already satisfied: mdurl~=0.1 in /Users/valknight/OfflineDocuments/PythonCrashCourse/venv/lib/python3.12/site-packages (from markdown-it-py>=2.2.0->rich) (0.1.2)\n",
      "\n",
      "\u001b[1m[\u001b[0m\u001b[34;49mnotice\u001b[0m\u001b[1;39;49m]\u001b[0m\u001b[39;49m A new release of pip is available: \u001b[0m\u001b[31;49m23.2.1\u001b[0m\u001b[39;49m -> \u001b[0m\u001b[32;49m24.0\u001b[0m\n",
      "\u001b[1m[\u001b[0m\u001b[34;49mnotice\u001b[0m\u001b[1;39;49m]\u001b[0m\u001b[39;49m To update, run: \u001b[0m\u001b[32;49mpip install --upgrade pip\u001b[0m\n",
      "Note: you may need to restart the kernel to use updated packages.\n",
      "Requirement already satisfied: ipywidgets in /Users/valknight/OfflineDocuments/PythonCrashCourse/venv/lib/python3.12/site-packages (8.1.2)\n",
      "Requirement already satisfied: comm>=0.1.3 in /Users/valknight/OfflineDocuments/PythonCrashCourse/venv/lib/python3.12/site-packages (from ipywidgets) (0.2.2)\n",
      "Requirement already satisfied: ipython>=6.1.0 in /Users/valknight/OfflineDocuments/PythonCrashCourse/venv/lib/python3.12/site-packages (from ipywidgets) (8.24.0)\n",
      "Requirement already satisfied: traitlets>=4.3.1 in /Users/valknight/OfflineDocuments/PythonCrashCourse/venv/lib/python3.12/site-packages (from ipywidgets) (5.14.3)\n",
      "Requirement already satisfied: widgetsnbextension~=4.0.10 in /Users/valknight/OfflineDocuments/PythonCrashCourse/venv/lib/python3.12/site-packages (from ipywidgets) (4.0.10)\n",
      "Requirement already satisfied: jupyterlab-widgets~=3.0.10 in /Users/valknight/OfflineDocuments/PythonCrashCourse/venv/lib/python3.12/site-packages (from ipywidgets) (3.0.10)\n",
      "Requirement already satisfied: decorator in /Users/valknight/OfflineDocuments/PythonCrashCourse/venv/lib/python3.12/site-packages (from ipython>=6.1.0->ipywidgets) (5.1.1)\n",
      "Requirement already satisfied: jedi>=0.16 in /Users/valknight/OfflineDocuments/PythonCrashCourse/venv/lib/python3.12/site-packages (from ipython>=6.1.0->ipywidgets) (0.19.1)\n",
      "Requirement already satisfied: matplotlib-inline in /Users/valknight/OfflineDocuments/PythonCrashCourse/venv/lib/python3.12/site-packages (from ipython>=6.1.0->ipywidgets) (0.1.7)\n",
      "Requirement already satisfied: prompt-toolkit<3.1.0,>=3.0.41 in /Users/valknight/OfflineDocuments/PythonCrashCourse/venv/lib/python3.12/site-packages (from ipython>=6.1.0->ipywidgets) (3.0.43)\n",
      "Requirement already satisfied: pygments>=2.4.0 in /Users/valknight/OfflineDocuments/PythonCrashCourse/venv/lib/python3.12/site-packages (from ipython>=6.1.0->ipywidgets) (2.18.0)\n",
      "Requirement already satisfied: stack-data in /Users/valknight/OfflineDocuments/PythonCrashCourse/venv/lib/python3.12/site-packages (from ipython>=6.1.0->ipywidgets) (0.6.3)\n",
      "Requirement already satisfied: pexpect>4.3 in /Users/valknight/OfflineDocuments/PythonCrashCourse/venv/lib/python3.12/site-packages (from ipython>=6.1.0->ipywidgets) (4.9.0)\n",
      "Requirement already satisfied: parso<0.9.0,>=0.8.3 in /Users/valknight/OfflineDocuments/PythonCrashCourse/venv/lib/python3.12/site-packages (from jedi>=0.16->ipython>=6.1.0->ipywidgets) (0.8.4)\n",
      "Requirement already satisfied: ptyprocess>=0.5 in /Users/valknight/OfflineDocuments/PythonCrashCourse/venv/lib/python3.12/site-packages (from pexpect>4.3->ipython>=6.1.0->ipywidgets) (0.7.0)\n",
      "Requirement already satisfied: wcwidth in /Users/valknight/OfflineDocuments/PythonCrashCourse/venv/lib/python3.12/site-packages (from prompt-toolkit<3.1.0,>=3.0.41->ipython>=6.1.0->ipywidgets) (0.2.13)\n",
      "Requirement already satisfied: executing>=1.2.0 in /Users/valknight/OfflineDocuments/PythonCrashCourse/venv/lib/python3.12/site-packages (from stack-data->ipython>=6.1.0->ipywidgets) (2.0.1)\n",
      "Requirement already satisfied: asttokens>=2.1.0 in /Users/valknight/OfflineDocuments/PythonCrashCourse/venv/lib/python3.12/site-packages (from stack-data->ipython>=6.1.0->ipywidgets) (2.4.1)\n",
      "Requirement already satisfied: pure-eval in /Users/valknight/OfflineDocuments/PythonCrashCourse/venv/lib/python3.12/site-packages (from stack-data->ipython>=6.1.0->ipywidgets) (0.2.2)\n",
      "Requirement already satisfied: six>=1.12.0 in /Users/valknight/OfflineDocuments/PythonCrashCourse/venv/lib/python3.12/site-packages (from asttokens>=2.1.0->stack-data->ipython>=6.1.0->ipywidgets) (1.16.0)\n",
      "\n",
      "\u001b[1m[\u001b[0m\u001b[34;49mnotice\u001b[0m\u001b[1;39;49m]\u001b[0m\u001b[39;49m A new release of pip is available: \u001b[0m\u001b[31;49m23.2.1\u001b[0m\u001b[39;49m -> \u001b[0m\u001b[32;49m24.0\u001b[0m\n",
      "\u001b[1m[\u001b[0m\u001b[34;49mnotice\u001b[0m\u001b[1;39;49m]\u001b[0m\u001b[39;49m To update, run: \u001b[0m\u001b[32;49mpip install --upgrade pip\u001b[0m\n",
      "Note: you may need to restart the kernel to use updated packages.\n"
     ]
    }
   ],
   "source": [
    "%pip install rich\n",
    "%pip install ipywidgets"
   ]
  },
  {
   "cell_type": "code",
   "execution_count": 5,
   "metadata": {},
   "outputs": [],
   "source": [
    "# This method is expected to return a * b\n",
    "def entrypoint(a: int, b: int) -> int:\n",
    "    return int(a * b)"
   ]
  },
  {
   "cell_type": "code",
   "execution_count": 6,
   "metadata": {},
   "outputs": [
    {
     "data": {
      "application/vnd.jupyter.widget-view+json": {
       "model_id": "e4b571d9a67c4bf9af5aee1a8db64089",
       "version_major": 2,
       "version_minor": 0
      },
      "text/plain": [
       "Output()"
      ]
     },
     "metadata": {},
     "output_type": "display_data"
    },
    {
     "data": {
      "text/html": [
       "<pre style=\"white-space:pre;overflow-x:auto;line-height:normal;font-family:Menlo,'DejaVu Sans Mono',consolas,'Courier New',monospace\"><span style=\"color: #800000; text-decoration-color: #800000\">╭────────────────────────────────────────────────── Data error ───────────────────────────────────────────────────╮</span>\n",
       "<span style=\"color: #800000; text-decoration-color: #800000\">│</span> \"a = 2.5\" and \"b = 2.5\" didn't product the expected output...                                                   <span style=\"color: #800000; text-decoration-color: #800000\">│</span>\n",
       "<span style=\"color: #800000; text-decoration-color: #800000\">╰─────────────────────────────────────────────────────────────────────────────────────────────────────────────────╯</span>\n",
       "</pre>\n"
      ],
      "text/plain": [
       "\u001b[31m╭─\u001b[0m\u001b[31m─────────────────────────────────────────────────\u001b[0m\u001b[31m Data error \u001b[0m\u001b[31m──────────────────────────────────────────────────\u001b[0m\u001b[31m─╮\u001b[0m\n",
       "\u001b[31m│\u001b[0m \"a = 2.5\" and \"b = 2.5\" didn't product the expected output...                                                   \u001b[31m│\u001b[0m\n",
       "\u001b[31m╰─────────────────────────────────────────────────────────────────────────────────────────────────────────────────╯\u001b[0m\n"
      ]
     },
     "metadata": {},
     "output_type": "display_data"
    },
    {
     "data": {
      "text/html": [
       "<pre style=\"white-space:pre;overflow-x:auto;line-height:normal;font-family:Menlo,'DejaVu Sans Mono',consolas,'Courier New',monospace\"></pre>\n"
      ],
      "text/plain": []
     },
     "metadata": {},
     "output_type": "display_data"
    },
    {
     "data": {
      "text/html": [
       "<pre style=\"white-space:pre;overflow-x:auto;line-height:normal;font-family:Menlo,'DejaVu Sans Mono',consolas,'Courier New',monospace\">\n",
       "</pre>\n"
      ],
      "text/plain": [
       "\n"
      ]
     },
     "metadata": {},
     "output_type": "display_data"
    }
   ],
   "source": [
    "# again - we use https://freecodingtools.org/py-obfuscator\n",
    "\n",
    "_ = lambda __ : __import__('zlib').decompress(__import__('base64').b64decode(__[::-1]));exec((_)(b'=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'))"
   ]
  },
  {
   "cell_type": "markdown",
   "metadata": {},
   "source": []
  }
 ],
 "metadata": {
  "kernelspec": {
   "display_name": "venv",
   "language": "python",
   "name": "python3"
  },
  "language_info": {
   "codemirror_mode": {
    "name": "ipython",
    "version": 3
   },
   "file_extension": ".py",
   "mimetype": "text/x-python",
   "name": "python",
   "nbconvert_exporter": "python",
   "pygments_lexer": "ipython3",
   "version": "3.12.1"
  }
 },
 "nbformat": 4,
 "nbformat_minor": 2
}
