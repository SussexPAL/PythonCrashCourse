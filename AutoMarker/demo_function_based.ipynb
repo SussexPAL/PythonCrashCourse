{
 "cells": [
  {
   "cell_type": "code",
   "execution_count": 17,
   "metadata": {
    "slideshow": {
     "slide_type": "skip"
    }
   },
   "outputs": [
    {
     "name": "stdout",
     "output_type": "stream",
     "text": [
      "Requirement already satisfied: rich in /Users/valknight/OfflineDocuments/PythonCrashCourse/venv/lib/python3.12/site-packages (13.7.1)\n",
      "Requirement already satisfied: markdown-it-py>=2.2.0 in /Users/valknight/OfflineDocuments/PythonCrashCourse/venv/lib/python3.12/site-packages (from rich) (3.0.0)\n",
      "Requirement already satisfied: pygments<3.0.0,>=2.13.0 in /Users/valknight/OfflineDocuments/PythonCrashCourse/venv/lib/python3.12/site-packages (from rich) (2.18.0)\n",
      "Requirement already satisfied: mdurl~=0.1 in /Users/valknight/OfflineDocuments/PythonCrashCourse/venv/lib/python3.12/site-packages (from markdown-it-py>=2.2.0->rich) (0.1.2)\n",
      "\n",
      "\u001b[1m[\u001b[0m\u001b[34;49mnotice\u001b[0m\u001b[1;39;49m]\u001b[0m\u001b[39;49m A new release of pip is available: \u001b[0m\u001b[31;49m23.2.1\u001b[0m\u001b[39;49m -> \u001b[0m\u001b[32;49m24.0\u001b[0m\n",
      "\u001b[1m[\u001b[0m\u001b[34;49mnotice\u001b[0m\u001b[1;39;49m]\u001b[0m\u001b[39;49m To update, run: \u001b[0m\u001b[32;49mpip install --upgrade pip\u001b[0m\n",
      "Note: you may need to restart the kernel to use updated packages.\n",
      "Requirement already satisfied: ipywidgets in /Users/valknight/OfflineDocuments/PythonCrashCourse/venv/lib/python3.12/site-packages (8.1.2)\n",
      "Requirement already satisfied: comm>=0.1.3 in /Users/valknight/OfflineDocuments/PythonCrashCourse/venv/lib/python3.12/site-packages (from ipywidgets) (0.2.2)\n",
      "Requirement already satisfied: ipython>=6.1.0 in /Users/valknight/OfflineDocuments/PythonCrashCourse/venv/lib/python3.12/site-packages (from ipywidgets) (8.24.0)\n",
      "Requirement already satisfied: traitlets>=4.3.1 in /Users/valknight/OfflineDocuments/PythonCrashCourse/venv/lib/python3.12/site-packages (from ipywidgets) (5.14.3)\n",
      "Requirement already satisfied: widgetsnbextension~=4.0.10 in /Users/valknight/OfflineDocuments/PythonCrashCourse/venv/lib/python3.12/site-packages (from ipywidgets) (4.0.10)\n",
      "Requirement already satisfied: jupyterlab-widgets~=3.0.10 in /Users/valknight/OfflineDocuments/PythonCrashCourse/venv/lib/python3.12/site-packages (from ipywidgets) (3.0.10)\n",
      "Requirement already satisfied: decorator in /Users/valknight/OfflineDocuments/PythonCrashCourse/venv/lib/python3.12/site-packages (from ipython>=6.1.0->ipywidgets) (5.1.1)\n",
      "Requirement already satisfied: jedi>=0.16 in /Users/valknight/OfflineDocuments/PythonCrashCourse/venv/lib/python3.12/site-packages (from ipython>=6.1.0->ipywidgets) (0.19.1)\n",
      "Requirement already satisfied: matplotlib-inline in /Users/valknight/OfflineDocuments/PythonCrashCourse/venv/lib/python3.12/site-packages (from ipython>=6.1.0->ipywidgets) (0.1.7)\n",
      "Requirement already satisfied: prompt-toolkit<3.1.0,>=3.0.41 in /Users/valknight/OfflineDocuments/PythonCrashCourse/venv/lib/python3.12/site-packages (from ipython>=6.1.0->ipywidgets) (3.0.43)\n",
      "Requirement already satisfied: pygments>=2.4.0 in /Users/valknight/OfflineDocuments/PythonCrashCourse/venv/lib/python3.12/site-packages (from ipython>=6.1.0->ipywidgets) (2.18.0)\n",
      "Requirement already satisfied: stack-data in /Users/valknight/OfflineDocuments/PythonCrashCourse/venv/lib/python3.12/site-packages (from ipython>=6.1.0->ipywidgets) (0.6.3)\n",
      "Requirement already satisfied: pexpect>4.3 in /Users/valknight/OfflineDocuments/PythonCrashCourse/venv/lib/python3.12/site-packages (from ipython>=6.1.0->ipywidgets) (4.9.0)\n",
      "Requirement already satisfied: parso<0.9.0,>=0.8.3 in /Users/valknight/OfflineDocuments/PythonCrashCourse/venv/lib/python3.12/site-packages (from jedi>=0.16->ipython>=6.1.0->ipywidgets) (0.8.4)\n",
      "Requirement already satisfied: ptyprocess>=0.5 in /Users/valknight/OfflineDocuments/PythonCrashCourse/venv/lib/python3.12/site-packages (from pexpect>4.3->ipython>=6.1.0->ipywidgets) (0.7.0)\n",
      "Requirement already satisfied: wcwidth in /Users/valknight/OfflineDocuments/PythonCrashCourse/venv/lib/python3.12/site-packages (from prompt-toolkit<3.1.0,>=3.0.41->ipython>=6.1.0->ipywidgets) (0.2.13)\n",
      "Requirement already satisfied: executing>=1.2.0 in /Users/valknight/OfflineDocuments/PythonCrashCourse/venv/lib/python3.12/site-packages (from stack-data->ipython>=6.1.0->ipywidgets) (2.0.1)\n",
      "Requirement already satisfied: asttokens>=2.1.0 in /Users/valknight/OfflineDocuments/PythonCrashCourse/venv/lib/python3.12/site-packages (from stack-data->ipython>=6.1.0->ipywidgets) (2.4.1)\n",
      "Requirement already satisfied: pure-eval in /Users/valknight/OfflineDocuments/PythonCrashCourse/venv/lib/python3.12/site-packages (from stack-data->ipython>=6.1.0->ipywidgets) (0.2.2)\n",
      "Requirement already satisfied: six>=1.12.0 in /Users/valknight/OfflineDocuments/PythonCrashCourse/venv/lib/python3.12/site-packages (from asttokens>=2.1.0->stack-data->ipython>=6.1.0->ipywidgets) (1.16.0)\n",
      "\n",
      "\u001b[1m[\u001b[0m\u001b[34;49mnotice\u001b[0m\u001b[1;39;49m]\u001b[0m\u001b[39;49m A new release of pip is available: \u001b[0m\u001b[31;49m23.2.1\u001b[0m\u001b[39;49m -> \u001b[0m\u001b[32;49m24.0\u001b[0m\n",
      "\u001b[1m[\u001b[0m\u001b[34;49mnotice\u001b[0m\u001b[1;39;49m]\u001b[0m\u001b[39;49m To update, run: \u001b[0m\u001b[32;49mpip install --upgrade pip\u001b[0m\n",
      "Note: you may need to restart the kernel to use updated packages.\n"
     ]
    }
   ],
   "source": [
    "%pip install rich\n",
    "%pip install ipywidgets"
   ]
  },
  {
   "cell_type": "code",
   "execution_count": 18,
   "metadata": {},
   "outputs": [],
   "source": [
    "# This method is expected to return a * b\n",
    "def entrypoint(a: int, b: int) -> int:\n",
    "    return a * b"
   ]
  },
  {
   "cell_type": "code",
   "execution_count": 19,
   "metadata": {},
   "outputs": [
    {
     "data": {
      "application/vnd.jupyter.widget-view+json": {
       "model_id": "acd290abad274cf3a5d9869332f96161",
       "version_major": 2,
       "version_minor": 0
      },
      "text/plain": [
       "Output()"
      ]
     },
     "metadata": {},
     "output_type": "display_data"
    },
    {
     "data": {
      "text/html": [
       "<pre style=\"white-space:pre;overflow-x:auto;line-height:normal;font-family:Menlo,'DejaVu Sans Mono',consolas,'Courier New',monospace\"></pre>\n"
      ],
      "text/plain": []
     },
     "metadata": {},
     "output_type": "display_data"
    },
    {
     "data": {
      "text/html": [
       "<pre style=\"white-space:pre;overflow-x:auto;line-height:normal;font-family:Menlo,'DejaVu Sans Mono',consolas,'Courier New',monospace\">\n",
       "</pre>\n"
      ],
      "text/plain": [
       "\n"
      ]
     },
     "metadata": {},
     "output_type": "display_data"
    },
    {
     "data": {
      "text/html": [
       "<pre style=\"white-space:pre;overflow-x:auto;line-height:normal;font-family:Menlo,'DejaVu Sans Mono',consolas,'Courier New',monospace\"><span style=\"color: #008000; text-decoration-color: #008000\">╭────────────────────────────────────────────── Exercise complete! ───────────────────────────────────────────────╮</span>\n",
       "<span style=\"color: #008000; text-decoration-color: #008000\">│</span> Congratulations! Everything seems all good :) Feel free to move onto the next exercise!                         <span style=\"color: #008000; text-decoration-color: #008000\">│</span>\n",
       "<span style=\"color: #008000; text-decoration-color: #008000\">╰─────────────────────────────────────────────────────────────────────────────────────────────────────────────────╯</span>\n",
       "</pre>\n"
      ],
      "text/plain": [
       "\u001b[32m╭─\u001b[0m\u001b[32m─────────────────────────────────────────────\u001b[0m\u001b[32m Exercise complete! \u001b[0m\u001b[32m──────────────────────────────────────────────\u001b[0m\u001b[32m─╮\u001b[0m\n",
       "\u001b[32m│\u001b[0m Congratulations! Everything seems all good :) Feel free to move onto the next exercise!                         \u001b[32m│\u001b[0m\n",
       "\u001b[32m╰─────────────────────────────────────────────────────────────────────────────────────────────────────────────────╯\u001b[0m\n"
      ]
     },
     "metadata": {},
     "output_type": "display_data"
    }
   ],
   "source": [
    "# This is a modified version of the test runner, which expects a method named \"entrypoint\", which takes some parameters a and b\n",
    "\n",
    "# Here, [0] and [1] are \"a\" and \"b\", and [2] = the output\n",
    "data = [\n",
    "    [1, 5, 5],\n",
    "    [0, 1, 0],\n",
    "    [5, 2, 10],\n",
    "    [3, 2, 6],\n",
    "    [2.5, 2, 5],\n",
    "    [2.5, 2.5, 6.25],\n",
    "]\n",
    "\n",
    "import time\n",
    "import traceback\n",
    "import sys\n",
    "from rich.progress import Progress\n",
    "from rich import print\n",
    "from rich.panel import Panel\n",
    "\n",
    "def success_panel(msg: str, title: str) -> None:\n",
    "    print(Panel(msg, title=title, border_style=\"green\"))\n",
    "\n",
    "def problem_panel(msg: str, title: str) -> None:\n",
    "    print(Panel(msg, title=title, border_style=\"red\"))\n",
    "\n",
    "def _test_main():\n",
    "    with Progress() as progress:\n",
    "        assert_task = progress.add_task(\"[green]Checking solution...\", total=len(data))\n",
    "        failed = 0\n",
    "        try:\n",
    "            for test in data:\n",
    "                assert(entrypoint(test[0], test[1]) == test[2])\n",
    "                progress.update(assert_task, advance=1)\n",
    "        except AssertionError as e:\n",
    "            problem_panel(f\"\\\"a = {test[0]}\\\" and \\\"b = {test[1]}\\\" didn't product the expected output...\", \"Data error\")\n",
    "            return\n",
    "    success_panel(\"Congratulations! Everything seems all good :) Feel free to move onto the next exercise!\", \"Exercise complete!\")\n",
    "\n",
    "_test_main()\n"
   ]
  },
  {
   "cell_type": "markdown",
   "metadata": {},
   "source": []
  }
 ],
 "metadata": {
  "kernelspec": {
   "display_name": "venv",
   "language": "python",
   "name": "python3"
  },
  "language_info": {
   "codemirror_mode": {
    "name": "ipython",
    "version": 3
   },
   "file_extension": ".py",
   "mimetype": "text/x-python",
   "name": "python",
   "nbconvert_exporter": "python",
   "pygments_lexer": "ipython3",
   "version": "3.12.1"
  }
 },
 "nbformat": 4,
 "nbformat_minor": 2
}
